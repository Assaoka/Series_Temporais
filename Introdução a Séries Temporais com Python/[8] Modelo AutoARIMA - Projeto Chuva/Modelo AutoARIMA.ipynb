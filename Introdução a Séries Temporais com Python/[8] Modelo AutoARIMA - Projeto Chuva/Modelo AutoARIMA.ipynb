{
 "cells": [
  {
   "cell_type": "markdown",
   "metadata": {},
   "source": [
    "<h1  align=\"center\"><b> MODELO AutoARIMA </b></h1>\n",
    "\n",
    "`Objetivo Geral:` Importar a série temporal transformada dos dados pluviométricos do município de São Paulo e realizar a modelagem AutoARIMA para previsão.\n",
    "\n",
    "`Dados:` Os dados foram transformados na pasta [Transformação e Decomposição](../[3]%20Transformação%20e%20Decomposição%20-%20Projeto%20Chuva/) do Projeto Chuva."
   ]
  },
  {
   "cell_type": "code",
   "execution_count": 2,
   "metadata": {},
   "outputs": [],
   "source": [
    "import pandas as pd\n",
    "import numpy as np\n",
    "import matplotlib.pyplot as plt\n",
    "\n",
    "from matplotlib.pylab import rcParams\n",
    "rcParams['figure.figsize'] = 15, 6"
   ]
  },
  {
   "cell_type": "markdown",
   "metadata": {},
   "source": [
    "<h2 align=\"center\"><b> Importando Dados e Escolhendo o Modelo </b></h2>\n",
    "&emsp;&emsp; O modelo AutoARIMA é um modelo bem legal, pois ele não só escolhe os melhores parâmetros para o modelo ARIMA, como também considera a sazonalidade da série temporal (SARIMA).\n",
    "\n",
    "`Observação:` SARIMA(p,d,q)(P, D, Q)"
   ]
  },
  {
   "cell_type": "code",
   "execution_count": 3,
   "metadata": {},
   "outputs": [],
   "source": [
    "série_chuva = pd.read_csv('../[3] Transformação e Decomposição - Projeto Chuva/Série Transformada - Chuva Mensal.csv', sep = ';', index_col = 0)\n",
    "série_chuva = pd.Series(série_chuva['Chuva Mensal (mm)'])\n",
    "série_chuva.index = pd.date_range('1985', periods = len(série_chuva), freq = 'M')"
   ]
  },
  {
   "cell_type": "markdown",
   "metadata": {},
   "source": [
    "`trace:` Se True, printa o modelo de cada iteração.\n",
    "\n",
    "`stepwise:` Se True, usa o método de busca stepwise para escolher o melhor modelo. Esse método é mais rápido, porém não garante o melhor modelo.\n",
    "\n",
    "`seasonal:` Se True, considera a sazonalidade da série temporal (SARIMA).\n",
    "\n",
    "`m:` Número de períodos da sazonalidade."
   ]
  },
  {
   "cell_type": "code",
   "execution_count": 7,
   "metadata": {},
   "outputs": [
    {
     "name": "stdout",
     "output_type": "stream",
     "text": [
      "Performing stepwise search to minimize aic\n",
      " ARIMA(2,0,2)(1,0,1)[12] intercept   : AIC=inf, Time=3.55 sec\n",
      " ARIMA(0,0,0)(0,0,0)[12] intercept   : AIC=1706.610, Time=0.09 sec\n",
      " ARIMA(1,0,0)(1,0,0)[12] intercept   : AIC=1491.065, Time=1.42 sec\n",
      " ARIMA(0,0,1)(0,0,1)[12] intercept   : AIC=1545.043, Time=0.66 sec\n",
      " ARIMA(0,0,0)(0,0,0)[12]             : AIC=2768.434, Time=0.06 sec\n",
      " ARIMA(1,0,0)(0,0,0)[12] intercept   : AIC=1577.903, Time=0.18 sec\n",
      " ARIMA(1,0,0)(2,0,0)[12] intercept   : AIC=1452.351, Time=4.51 sec\n",
      " ARIMA(1,0,0)(2,0,1)[12] intercept   : AIC=inf, Time=8.56 sec\n",
      " ARIMA(1,0,0)(1,0,1)[12] intercept   : AIC=inf, Time=1.37 sec\n",
      " ARIMA(0,0,0)(2,0,0)[12] intercept   : AIC=1454.125, Time=2.71 sec\n",
      " ARIMA(2,0,0)(2,0,0)[12] intercept   : AIC=1451.895, Time=7.35 sec\n",
      " ARIMA(2,0,0)(1,0,0)[12] intercept   : AIC=1488.499, Time=3.25 sec\n",
      " ARIMA(2,0,0)(2,0,1)[12] intercept   : AIC=inf, Time=10.24 sec\n",
      " ARIMA(2,0,0)(1,0,1)[12] intercept   : AIC=inf, Time=3.00 sec\n",
      " ARIMA(3,0,0)(2,0,0)[12] intercept   : AIC=1447.511, Time=8.64 sec\n",
      " ARIMA(3,0,0)(1,0,0)[12] intercept   : AIC=1482.489, Time=1.97 sec\n",
      " ARIMA(3,0,0)(2,0,1)[12] intercept   : AIC=inf, Time=12.08 sec\n",
      " ARIMA(3,0,0)(1,0,1)[12] intercept   : AIC=inf, Time=4.69 sec\n",
      " ARIMA(4,0,0)(2,0,0)[12] intercept   : AIC=1448.345, Time=7.60 sec\n",
      " ARIMA(3,0,1)(2,0,0)[12] intercept   : AIC=1451.892, Time=9.72 sec\n",
      " ARIMA(2,0,1)(2,0,0)[12] intercept   : AIC=1453.561, Time=8.03 sec\n",
      " ARIMA(4,0,1)(2,0,0)[12] intercept   : AIC=1444.182, Time=10.85 sec\n",
      " ARIMA(4,0,1)(1,0,0)[12] intercept   : AIC=1479.785, Time=3.89 sec\n",
      " ARIMA(4,0,1)(2,0,1)[12] intercept   : AIC=inf, Time=10.39 sec\n",
      " ARIMA(4,0,1)(1,0,1)[12] intercept   : AIC=inf, Time=4.48 sec\n",
      " ARIMA(5,0,1)(2,0,0)[12] intercept   : AIC=1446.286, Time=20.55 sec\n",
      " ARIMA(4,0,2)(2,0,0)[12] intercept   : AIC=1442.762, Time=13.77 sec\n",
      " ARIMA(4,0,2)(1,0,0)[12] intercept   : AIC=1479.849, Time=4.94 sec\n",
      " ARIMA(4,0,2)(2,0,1)[12] intercept   : AIC=inf, Time=13.44 sec\n",
      " ARIMA(4,0,2)(1,0,1)[12] intercept   : AIC=inf, Time=6.04 sec\n",
      " ARIMA(3,0,2)(2,0,0)[12] intercept   : AIC=1442.259, Time=11.71 sec\n",
      " ARIMA(3,0,2)(1,0,0)[12] intercept   : AIC=1481.101, Time=4.44 sec\n",
      " ARIMA(3,0,2)(2,0,1)[12] intercept   : AIC=inf, Time=16.77 sec\n",
      " ARIMA(3,0,2)(1,0,1)[12] intercept   : AIC=inf, Time=5.56 sec\n",
      " ARIMA(2,0,2)(2,0,0)[12] intercept   : AIC=1441.816, Time=9.41 sec\n",
      " ARIMA(2,0,2)(1,0,0)[12] intercept   : AIC=1482.104, Time=3.73 sec\n",
      " ARIMA(2,0,2)(2,0,1)[12] intercept   : AIC=inf, Time=12.87 sec\n",
      " ARIMA(1,0,2)(2,0,0)[12] intercept   : AIC=1449.594, Time=7.35 sec\n",
      " ARIMA(2,0,3)(2,0,0)[12] intercept   : AIC=1442.591, Time=9.64 sec\n",
      " ARIMA(1,0,1)(2,0,0)[12] intercept   : AIC=1458.124, Time=4.31 sec\n",
      " ARIMA(1,0,3)(2,0,0)[12] intercept   : AIC=1449.615, Time=7.17 sec\n",
      " ARIMA(3,0,3)(2,0,0)[12] intercept   : AIC=1438.458, Time=12.41 sec\n",
      " ARIMA(3,0,3)(1,0,0)[12] intercept   : AIC=inf, Time=4.51 sec\n",
      " ARIMA(3,0,3)(2,0,1)[12] intercept   : AIC=inf, Time=14.86 sec\n",
      " ARIMA(3,0,3)(1,0,1)[12] intercept   : AIC=inf, Time=5.63 sec\n",
      " ARIMA(4,0,3)(2,0,0)[12] intercept   : AIC=inf, Time=11.80 sec\n",
      " ARIMA(3,0,4)(2,0,0)[12] intercept   : AIC=1352.638, Time=10.97 sec\n",
      " ARIMA(3,0,4)(1,0,0)[12] intercept   : AIC=1347.660, Time=5.20 sec\n",
      " ARIMA(3,0,4)(0,0,0)[12] intercept   : AIC=inf, Time=4.36 sec\n",
      " ARIMA(3,0,4)(1,0,1)[12] intercept   : AIC=inf, Time=16.09 sec\n",
      " ARIMA(3,0,4)(0,0,1)[12] intercept   : AIC=inf, Time=5.22 sec\n",
      " ARIMA(3,0,4)(2,0,1)[12] intercept   : AIC=inf, Time=18.82 sec\n",
      " ARIMA(2,0,4)(1,0,0)[12] intercept   : AIC=1340.665, Time=3.18 sec\n",
      " ARIMA(2,0,4)(0,0,0)[12] intercept   : AIC=1333.670, Time=1.58 sec\n",
      " ARIMA(2,0,4)(0,0,1)[12] intercept   : AIC=1344.967, Time=3.56 sec\n",
      " ARIMA(2,0,4)(1,0,1)[12] intercept   : AIC=inf, Time=5.78 sec\n",
      " ARIMA(1,0,4)(0,0,0)[12] intercept   : AIC=1529.063, Time=1.86 sec\n",
      " ARIMA(2,0,3)(0,0,0)[12] intercept   : AIC=1343.019, Time=3.30 sec\n",
      " ARIMA(2,0,5)(0,0,0)[12] intercept   : AIC=1346.640, Time=8.29 sec\n",
      " ARIMA(1,0,3)(0,0,0)[12] intercept   : AIC=1564.871, Time=1.90 sec\n",
      " ARIMA(1,0,5)(0,0,0)[12] intercept   : AIC=inf, Time=7.57 sec\n",
      " ARIMA(3,0,3)(0,0,0)[12] intercept   : AIC=inf, Time=4.79 sec\n",
      " ARIMA(3,0,5)(0,0,0)[12] intercept   : AIC=inf, Time=2.38 sec\n",
      " ARIMA(2,0,4)(0,0,0)[12]             : AIC=inf, Time=1.71 sec\n",
      "\n",
      "Best model:  ARIMA(2,0,4)(0,0,0)[12] intercept\n",
      "Total fit time: 436.894 seconds\n"
     ]
    }
   ],
   "source": [
    "from pmdarima import auto_arima\n",
    "modelo_AutoARIMA = auto_arima(série_chuva, trace = True, stepwise = True, seasonal = True, stationary = True, m = 12)"
   ]
  },
  {
   "cell_type": "code",
   "execution_count": 8,
   "metadata": {},
   "outputs": [
    {
     "name": "stdout",
     "output_type": "stream",
     "text": [
      "                               SARIMAX Results                                \n",
      "==============================================================================\n",
      "Dep. Variable:                      y   No. Observations:                  456\n",
      "Model:               SARIMAX(2, 0, 4)   Log Likelihood                -658.835\n",
      "Date:                Sun, 24 Dec 2023   AIC                           1333.670\n",
      "Time:                        19:43:03   BIC                           1366.650\n",
      "Sample:                    01-31-1985   HQIC                          1346.661\n",
      "                         - 12-31-2022                                         \n",
      "Covariance Type:                  opg                                         \n",
      "==============================================================================\n",
      "                 coef    std err          z      P>|z|      [0.025      0.975]\n",
      "------------------------------------------------------------------------------\n",
      "intercept      1.2770      0.015     83.675      0.000       1.247       1.307\n",
      "ar.L1          1.7297      0.002    814.085      0.000       1.726       1.734\n",
      "ar.L2         -0.9978      0.002   -499.922      0.000      -1.002      -0.994\n",
      "ma.L1         -1.7248      0.041    -41.848      0.000      -1.806      -1.644\n",
      "ma.L2          0.9895      0.089     11.135      0.000       0.815       1.164\n",
      "ma.L3         -0.0136      0.098     -0.138      0.890      -0.206       0.179\n",
      "ma.L4         -0.0074      0.051     -0.145      0.885      -0.108       0.093\n",
      "sigma2         1.0323      0.062     16.613      0.000       0.910       1.154\n",
      "===================================================================================\n",
      "Ljung-Box (L1) (Q):                   0.00   Jarque-Bera (JB):                14.26\n",
      "Prob(Q):                              0.97   Prob(JB):                         0.00\n",
      "Heteroskedasticity (H):               1.10   Skew:                            -0.23\n",
      "Prob(H) (two-sided):                  0.57   Kurtosis:                         3.74\n",
      "===================================================================================\n",
      "\n",
      "Warnings:\n",
      "[1] Covariance matrix calculated using the outer product of gradients (complex-step).\n"
     ]
    }
   ],
   "source": [
    "resultado_AutoARIMA = modelo_AutoARIMA.fit(série_chuva) # Resultado: ARIMA (2, 0, 4)\n",
    "print(resultado_AutoARIMA.summary())"
   ]
  },
  {
   "cell_type": "markdown",
   "metadata": {},
   "source": [
    "<h2 align=\"center\"><b> Análise de Resíduos </b></h2>"
   ]
  },
  {
   "cell_type": "code",
   "execution_count": null,
   "metadata": {},
   "outputs": [],
   "source": [
    "resíduo = resultado_AutoARIMA.resid() # Obtendo os resíduos\n",
    "resíduo.plot() # Plotando o resíduo\n",
    "plt.show()"
   ]
  },
  {
   "cell_type": "markdown",
   "metadata": {},
   "source": [
    "![AutoARIMA_Residuos](./Gráficos/AutoARIMA_Residuos.png)\n",
    "\n",
    "### `Normalidade dos Resíduos:`"
   ]
  },
  {
   "cell_type": "code",
   "execution_count": 10,
   "metadata": {},
   "outputs": [],
   "source": [
    "import scipy.stats as stats\n",
    "import seaborn as sns"
   ]
  },
  {
   "cell_type": "code",
   "execution_count": null,
   "metadata": {},
   "outputs": [],
   "source": [
    "stats.probplot(resíduo, dist = 'norm', plot = plt)\n",
    "plt.title('Normal QQ Plot - Resíduos')\n",
    "plt.show()\n",
    "\n",
    "sns.histplot(resíduo, kde = True)\n",
    "plt.title('Histograma - Resíduos')\n",
    "plt.show()"
   ]
  },
  {
   "cell_type": "markdown",
   "metadata": {},
   "source": [
    "![Normal QQ Plot - Resíduos](./Gráficos/Normal%20QQ%20Plot%20-%20Resíduos.png)\n",
    "![Histograma - Resíduos](./Gráficos/Histograma%20-%20Resíduos.png)"
   ]
  },
  {
   "cell_type": "code",
   "execution_count": 12,
   "metadata": {},
   "outputs": [
    {
     "name": "stdout",
     "output_type": "stream",
     "text": [
      "Estatística de Teste = 0.989251434803009\n",
      "p-valor = 0.0019987672567367554\n",
      "Resultado: Não é Normal\n"
     ]
    }
   ],
   "source": [
    "def teste_shapiro(série):\n",
    "    e, p = stats.shapiro(série)\n",
    "    print(f'Estatística de Teste = {e}')\n",
    "    print(f'p-valor = {p}')\n",
    "    print(f'Resultado: {\"É Normal\" if (p > 0.05) else \"Não é Normal\"}')\n",
    "\n",
    "teste_shapiro(resíduo)"
   ]
  },
  {
   "cell_type": "markdown",
   "metadata": {},
   "source": [
    "&emsp;&emsp; Esse modelo ficou melhor que o melhor modelo que tínhamos até então (ARMA(2, 2), p-valor = 0.01008275). A distribuição ainda não é normal, mas se aproxima bastante. \n",
    "\n",
    "### `Autocorrelação dos Resíduos:`"
   ]
  },
  {
   "cell_type": "code",
   "execution_count": null,
   "metadata": {},
   "outputs": [],
   "source": [
    "from statsmodels.graphics.tsaplots import plot_acf, plot_pacf\n",
    "\n",
    "plot_acf(resíduo, lags = 20)\n",
    "plt.title('Função de Autocorrelação - Resíduos')\n",
    "plt.show()\n",
    "\n",
    "plot_pacf(resíduo, lags = 20)\n",
    "plt.title('Função de Autocorrelação Parcial - Resíduos')\n",
    "plt.show()"
   ]
  },
  {
   "cell_type": "markdown",
   "metadata": {},
   "source": [
    "![Função de Autocorrelação - Resíduos](./Gráficos/Função%20de%20Autocorrelação%20-%20Resíduos.png)\n",
    "![Função de Autocorrelação Parcial - Resíduos](./Gráficos/Função%20de%20Autocorrelação%20Parcial%20-%20Resíduos.png)\n",
    "\n",
    "&emsp;&emsp; As funções de autocorrelação mostram que os resíduos não possuem correlação com os valores passados, o que é um ótimo sinal.\n",
    "\n",
    "<h2 align=\"center\"><b> Previsão </b></h2>"
   ]
  },
  {
   "cell_type": "code",
   "execution_count": 14,
   "metadata": {},
   "outputs": [],
   "source": [
    "tamanho_série = len(série_chuva) # Tamanho da série\n",
    "previsão = resultado_AutoARIMA.predict(n_periods = 12) # Previsão para os próximos 12 meses"
   ]
  },
  {
   "cell_type": "code",
   "execution_count": null,
   "metadata": {},
   "outputs": [],
   "source": [
    "plt.plot(série_chuva, label = 'Série Original')\n",
    "plt.plot(série_chuva - resíduo, label = 'Resíduo')\n",
    "plt.plot(previsão, label = 'Previsão')\n",
    "plt.title('Previsão - Modelo AutoARIMA')\n",
    "plt.legend(loc = 'best')\n",
    "plt.show()"
   ]
  },
  {
   "cell_type": "markdown",
   "metadata": {},
   "source": [
    "![Previsão - Modelo AutoARIMA](./Gráficos/Previsão%20-%20Modelo%20AutoARIMA.png)\n",
    "\n",
    "&emsp;&emsp; Finalmente chegamos na previsão, mas esses valores passaram por uma transformação por raiz cúbica, então precisamos elevar os valores ao cubo para obter a previsão real.\n",
    "\n",
    "<h2 align=\"center\"><b> Finalização </b></h2>"
   ]
  },
  {
   "cell_type": "code",
   "execution_count": 19,
   "metadata": {},
   "outputs": [
    {
     "data": {
      "text/plain": [
       "2023-01-31    250.034300\n",
       "2023-02-28    212.695357\n",
       "2023-03-31    150.615171\n",
       "2023-04-30     92.760150\n",
       "2023-05-31     54.796134\n",
       "2023-06-30     36.931739\n",
       "2023-07-31     34.246728\n",
       "2023-08-31     45.550820\n",
       "2023-09-30     74.841341\n",
       "2023-10-31    125.218512\n",
       "2023-11-30    187.714971\n",
       "2023-12-31    237.072483\n",
       "Freq: M, Name: Previsão AutoARIMA, dtype: float64"
      ]
     },
     "metadata": {},
     "output_type": "display_data"
    }
   ],
   "source": [
    "previsão_final = previsão ** 3\n",
    "previsão_final.name = 'Previsão AutoARIMA'\n",
    "previsão_final.to_csv('Previsão AutoARIMA - Chuva Mensal.csv', sep = ';', header = True) # Salvando a previsão em um arquivo csv\n",
    "display(previsão_final)"
   ]
  }
 ],
 "metadata": {
  "kernelspec": {
   "display_name": "Python 3",
   "language": "python",
   "name": "python3"
  },
  "language_info": {
   "codemirror_mode": {
    "name": "ipython",
    "version": 3
   },
   "file_extension": ".py",
   "mimetype": "text/x-python",
   "name": "python",
   "nbconvert_exporter": "python",
   "pygments_lexer": "ipython3",
   "version": "3.11.4"
  }
 },
 "nbformat": 4,
 "nbformat_minor": 2
}
