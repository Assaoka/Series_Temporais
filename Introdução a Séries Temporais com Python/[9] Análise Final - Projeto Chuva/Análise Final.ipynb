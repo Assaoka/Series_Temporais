{
 "cells": [
  {
   "cell_type": "markdown",
   "metadata": {},
   "source": [
    "<h1  align=\"center\"><b> ANÁLISE FINAL </b></h1>\n",
    "\n",
    "`Objetivo Geral:` Importar os dados pluviométricos do município de São Paulo e as previsões para os 7 primeiros dias de 2021 para determinar qual o melhor modelo dentre os testados.\n",
    "\n",
    "`Dados:` Os dados foram retirados do [Banco de Dados Hidrológicos](http://www.hidrologia.daee.sp.gov.br/) do Portal do Departamento de Águas e Energia Elétrica do Estado de São Paulo (DAEE) no dia 21/12/2023 e as previsões foram retiradas deste repositório."
   ]
  },
  {
   "cell_type": "code",
   "execution_count": 11,
   "metadata": {},
   "outputs": [],
   "source": [
    "import numpy as np\n",
    "import pandas as pd\n",
    "import matplotlib.pyplot as plt\n",
    "\n",
    "from matplotlib.pylab import rcParams\n",
    "rcParams['figure.figsize'] = 15, 6"
   ]
  },
  {
   "cell_type": "markdown",
   "metadata": {},
   "source": [
    "<h2 align=\"center\"><b> Criando a Tabela </b></h2>"
   ]
  },
  {
   "cell_type": "code",
   "execution_count": 14,
   "metadata": {},
   "outputs": [],
   "source": [
    "previsão_AR = pd.read_csv('../[4] Modelo AR - Projeto Chuva/Previsão AR - Chuva Mensal.csv', sep = ';', index_col = 0, skipfooter = 5, engine = 'python')\n",
    "\n",
    "previsão_MA = pd.read_csv('../[5] Modelo MA - Projeto Chuva/Previsão MA - Chuva Mensal.csv', sep = ';', index_col = 0, skipfooter = 5, engine = 'python')\n",
    "\n",
    "previsão_ARMA = pd.read_csv('../[6] Modelo ARMA - Projeto Chuva/Previsão ARMA - Chuva Mensal.csv', sep = ';', index_col = 0, skipfooter = 5, engine = 'python')\n",
    "\n",
    "previsão_ARIMA =  pd.read_csv('../[7] Modelo ARIMA - Projeto Chuva/Previsão ARIMA - Chuva Mensal.csv', sep = ';', index_col = 0, skipfooter = 5, engine = 'python')\n",
    "\n",
    "previsão_AutoARIMA = pd.read_csv('../[8] Modelo AutoARIMA - Projeto Chuva/Previsão AutoARIMA - Chuva Mensal.csv', sep = ';', index_col = 0, skipfooter = 5, engine = 'python')\n",
    "\n",
    "chuva_mensal = pd.DataFrame([377.6, 452.0, 138.2, 165.7, 43.3, 85.2, 15.0], columns = ['Valores Reais'], index = previsão_AR.index)\n",
    "\n",
    "chuva_mensal = pd.concat([chuva_mensal, previsão_AR, previsão_MA, previsão_ARMA, previsão_ARIMA, previsão_AutoARIMA], axis = 1)"
   ]
  },
  {
   "cell_type": "markdown",
   "metadata": {},
   "source": [
    "<h2 align=\"center\"><b> Incluindo as Métricas </b></h2>"
   ]
  },
  {
   "cell_type": "code",
   "execution_count": 15,
   "metadata": {},
   "outputs": [
    {
     "name": "stdout",
     "output_type": "stream",
     "text": [
      "Valores Reais\n",
      "    MAE: 0.00\n",
      "    RMSE: 0.00\n",
      "\n",
      "Previsão AR(7)\n",
      "    MAE: 109.90\n",
      "    RMSE: 109.90\n",
      "\n",
      "Previsão MA(7)\n",
      "    MAE: 136.16\n",
      "    RMSE: 136.16\n",
      "\n",
      "Previsão ARMA(2, 2)\n",
      "    MAE: 96.39\n",
      "    RMSE: 96.39\n",
      "\n",
      "Previsão ARIMA(2, 1, 2)\n",
      "    MAE: 156.94\n",
      "    RMSE: 156.94\n",
      "\n",
      "Previsão AutoARIMA\n",
      "    MAE: 108.13\n",
      "    RMSE: 108.13\n",
      "\n"
     ]
    }
   ],
   "source": [
    "from sklearn.metrics import mean_absolute_error, mean_squared_error\n",
    "mae = rmse = {}\n",
    "\n",
    "for coluna in chuva_mensal.columns:\n",
    "    mae[coluna] = mean_absolute_error(chuva_mensal['Valores Reais'], chuva_mensal[coluna])\n",
    "    rmse[coluna] = np.sqrt(mean_squared_error(chuva_mensal['Valores Reais'], chuva_mensal[coluna]))\n",
    "    print(f'''{coluna}\\n    MAE: {mae[coluna]:.2f}\\n    RMSE: {rmse[coluna]:.2f}''', end = '\\n\\n')\n",
    "\n",
    "mae = pd.DataFrame(mae, index = ['MAE'])\n",
    "rmse = pd.DataFrame(rmse, index = ['RMSE'])\n",
    "chuva_mensal = pd.concat([chuva_mensal, mae, rmse])"
   ]
  },
  {
   "cell_type": "code",
   "execution_count": 17,
   "metadata": {},
   "outputs": [
    {
     "data": {
      "text/html": [
       "<div>\n",
       "<style scoped>\n",
       "    .dataframe tbody tr th:only-of-type {\n",
       "        vertical-align: middle;\n",
       "    }\n",
       "\n",
       "    .dataframe tbody tr th {\n",
       "        vertical-align: top;\n",
       "    }\n",
       "\n",
       "    .dataframe thead th {\n",
       "        text-align: right;\n",
       "    }\n",
       "</style>\n",
       "<table border=\"1\" class=\"dataframe\">\n",
       "  <thead>\n",
       "    <tr style=\"text-align: right;\">\n",
       "      <th></th>\n",
       "      <th>Valores Reais</th>\n",
       "      <th>Previsão AR(7)</th>\n",
       "      <th>Previsão MA(7)</th>\n",
       "      <th>Previsão ARMA(2, 2)</th>\n",
       "      <th>Previsão ARIMA(2, 1, 2)</th>\n",
       "      <th>Previsão AutoARIMA</th>\n",
       "    </tr>\n",
       "  </thead>\n",
       "  <tbody>\n",
       "    <tr>\n",
       "      <th>2023-01-31</th>\n",
       "      <td>377.6</td>\n",
       "      <td>244.748757</td>\n",
       "      <td>188.898467</td>\n",
       "      <td>270.316792</td>\n",
       "      <td>155.452224</td>\n",
       "      <td>250.034300</td>\n",
       "    </tr>\n",
       "    <tr>\n",
       "      <th>2023-02-28</th>\n",
       "      <td>452.0</td>\n",
       "      <td>212.566599</td>\n",
       "      <td>173.029719</td>\n",
       "      <td>238.354983</td>\n",
       "      <td>127.952648</td>\n",
       "      <td>212.695357</td>\n",
       "    </tr>\n",
       "    <tr>\n",
       "      <th>2023-03-31</th>\n",
       "      <td>138.2</td>\n",
       "      <td>134.929431</td>\n",
       "      <td>115.217687</td>\n",
       "      <td>171.122442</td>\n",
       "      <td>121.959505</td>\n",
       "      <td>150.615171</td>\n",
       "    </tr>\n",
       "    <tr>\n",
       "      <th>2023-04-30</th>\n",
       "      <td>165.7</td>\n",
       "      <td>84.136194</td>\n",
       "      <td>100.401526</td>\n",
       "      <td>103.467142</td>\n",
       "      <td>112.367016</td>\n",
       "      <td>92.760150</td>\n",
       "    </tr>\n",
       "    <tr>\n",
       "      <th>2023-05-31</th>\n",
       "      <td>43.3</td>\n",
       "      <td>63.237087</td>\n",
       "      <td>106.712045</td>\n",
       "      <td>57.454094</td>\n",
       "      <td>114.000436</td>\n",
       "      <td>54.796134</td>\n",
       "    </tr>\n",
       "    <tr>\n",
       "      <th>2023-06-30</th>\n",
       "      <td>85.2</td>\n",
       "      <td>49.195622</td>\n",
       "      <td>98.267777</td>\n",
       "      <td>34.913901</td>\n",
       "      <td>108.513128</td>\n",
       "      <td>36.931739</td>\n",
       "    </tr>\n",
       "    <tr>\n",
       "      <th>2023-07-31</th>\n",
       "      <td>15.0</td>\n",
       "      <td>49.770542</td>\n",
       "      <td>100.778937</td>\n",
       "      <td>29.278366</td>\n",
       "      <td>111.939325</td>\n",
       "      <td>34.246728</td>\n",
       "    </tr>\n",
       "    <tr>\n",
       "      <th>MAE</th>\n",
       "      <td>0.0</td>\n",
       "      <td>109.898623</td>\n",
       "      <td>136.158859</td>\n",
       "      <td>96.394723</td>\n",
       "      <td>156.936642</td>\n",
       "      <td>108.131204</td>\n",
       "    </tr>\n",
       "    <tr>\n",
       "      <th>RMSE</th>\n",
       "      <td>0.0</td>\n",
       "      <td>109.898623</td>\n",
       "      <td>136.158859</td>\n",
       "      <td>96.394723</td>\n",
       "      <td>156.936642</td>\n",
       "      <td>108.131204</td>\n",
       "    </tr>\n",
       "  </tbody>\n",
       "</table>\n",
       "</div>"
      ],
      "text/plain": [
       "            Valores Reais  Previsão AR(7)  Previsão MA(7)  \\\n",
       "2023-01-31          377.6      244.748757      188.898467   \n",
       "2023-02-28          452.0      212.566599      173.029719   \n",
       "2023-03-31          138.2      134.929431      115.217687   \n",
       "2023-04-30          165.7       84.136194      100.401526   \n",
       "2023-05-31           43.3       63.237087      106.712045   \n",
       "2023-06-30           85.2       49.195622       98.267777   \n",
       "2023-07-31           15.0       49.770542      100.778937   \n",
       "MAE                   0.0      109.898623      136.158859   \n",
       "RMSE                  0.0      109.898623      136.158859   \n",
       "\n",
       "            Previsão ARMA(2, 2)  Previsão ARIMA(2, 1, 2)  Previsão AutoARIMA  \n",
       "2023-01-31           270.316792               155.452224          250.034300  \n",
       "2023-02-28           238.354983               127.952648          212.695357  \n",
       "2023-03-31           171.122442               121.959505          150.615171  \n",
       "2023-04-30           103.467142               112.367016           92.760150  \n",
       "2023-05-31            57.454094               114.000436           54.796134  \n",
       "2023-06-30            34.913901               108.513128           36.931739  \n",
       "2023-07-31            29.278366               111.939325           34.246728  \n",
       "MAE                   96.394723               156.936642          108.131204  \n",
       "RMSE                  96.394723               156.936642          108.131204  "
      ]
     },
     "metadata": {},
     "output_type": "display_data"
    }
   ],
   "source": [
    "chuva_mensal.to_csv('Análise Final - Projeto Chuva.csv', header = True)\n",
    "display(chuva_mensal)"
   ]
  }
 ],
 "metadata": {
  "kernelspec": {
   "display_name": "Python 3",
   "language": "python",
   "name": "python3"
  },
  "language_info": {
   "codemirror_mode": {
    "name": "ipython",
    "version": 3
   },
   "file_extension": ".py",
   "mimetype": "text/x-python",
   "name": "python",
   "nbconvert_exporter": "python",
   "pygments_lexer": "ipython3",
   "version": "3.11.4"
  }
 },
 "nbformat": 4,
 "nbformat_minor": 2
}
