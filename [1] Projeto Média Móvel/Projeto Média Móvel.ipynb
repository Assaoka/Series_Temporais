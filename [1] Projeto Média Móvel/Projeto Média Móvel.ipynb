{
 "cells": [
  {
   "cell_type": "markdown",
   "metadata": {},
   "source": [
    "<h1  align=\"center\"><b> CÁLCULO DA MÉDIA MÓVEL </b></h1>\n",
    "\n",
    "`Objetivo Geral:` Calcular a média móvel de novos casos e obtos por Covid em São José dos Campos.\n",
    "\n",
    "`Dados:` Os dados foram retirados do repositório [dados-covid-sp](https://github.com/seade-R/dados-covid-sp) da Fundação Seade no dia 19/12/2023."
   ]
  },
  {
   "cell_type": "code",
   "execution_count": 1,
   "metadata": {},
   "outputs": [],
   "source": [
    "import numpy as np\n",
    "import pandas as pd\n",
    "import matplotlib.pyplot as plt\n",
    "\n",
    "from matplotlib.pylab import rcParams\n",
    "rcParams['figure.figsize'] = 15, 6"
   ]
  },
  {
   "cell_type": "markdown",
   "metadata": {},
   "source": [
    "<h2 align=\"center\"><b> Análise Inicial </b></h2>\n",
    "\n",
    "`Objetivo da Etapa:` Importar os dados e verificar se há algum problema."
   ]
  },
  {
   "cell_type": "code",
   "execution_count": 8,
   "metadata": {},
   "outputs": [],
   "source": [
    "tabela_covid = pd.read_csv(\"Dados Covid SP.csv\", sep=\";\") # Importando os dados\n",
    "tabela_covid = tabela_covid.loc[tabela_covid['nome_munic'] == 'São José dos Campos'] # Selecionando apenas os dados de São José dos Campos\n",
    "tabela_covid = tabela_covid.drop(['nome_munic', 'codigo_ibge', 'pop'], axis=1) # Removendo colunas desnecessárias"
   ]
  },
  {
   "cell_type": "code",
   "execution_count": 9,
   "metadata": {},
   "outputs": [
    {
     "data": {
      "text/plain": [
       "datahora         object\n",
       "casos             int64\n",
       "casos_novos       int64\n",
       "casos_mm7d       object\n",
       "obitos            int64\n",
       "obitos_novos      int64\n",
       "obitos_mm7d      object\n",
       "semana_epidem     int64\n",
       "dtype: object"
      ]
     },
     "execution_count": 9,
     "metadata": {},
     "output_type": "execute_result"
    }
   ],
   "source": [
    "tabela_covid.dtypes # Verificando os tipos de dados de cada coluna"
   ]
  },
  {
   "cell_type": "markdown",
   "metadata": {},
   "source": [
    "`Tipos de Atributos:`\n",
    "<br>🔹 object -> strings\n",
    "<br>🔹 int64: -> inteiros\n",
    "<br>🔹 float64 -> reais\n",
    "<br>🔹 complex -> complexos\n",
    "\n",
    "&emsp;&emsp; As colunas casos_mm7d e obitos_mm7d deveriam ser numéricas, mas estão sendo reconhecidas como strings. Isso acontece porque esses valores estão utilizando vírgula como separador decimal. Para resolver esse problema, vamos substituir a vírgula por ponto e converter para um valor numérico."
   ]
  },
  {
   "cell_type": "code",
   "execution_count": 10,
   "metadata": {},
   "outputs": [],
   "source": [
    "tabela_covid['casos_mm7d'] = tabela_covid['casos_mm7d'].str.replace(',', '.') # Substituindo vírgula por ponto\n",
    "tabela_covid['casos_mm7d'] = pd.to_numeric(tabela_covid['casos_mm7d']) # Transformando a coluna casos_mm7d em float\n",
    "\n",
    "tabela_covid['obitos_mm7d'] = tabela_covid['obitos_mm7d'].str.replace(',', '.') # Substituindo vírgula por ponto\n",
    "tabela_covid['obitos_mm7d'] = pd.to_numeric(tabela_covid['obitos_mm7d']) # Transformando a coluna obitos_mm7d em float"
   ]
  },
  {
   "cell_type": "code",
   "execution_count": 11,
   "metadata": {},
   "outputs": [
    {
     "data": {
      "text/plain": [
       "datahora          object\n",
       "casos              int64\n",
       "casos_novos        int64\n",
       "casos_mm7d       float64\n",
       "obitos             int64\n",
       "obitos_novos       int64\n",
       "obitos_mm7d      float64\n",
       "semana_epidem      int64\n",
       "dtype: object"
      ]
     },
     "execution_count": 11,
     "metadata": {},
     "output_type": "execute_result"
    }
   ],
   "source": [
    "tabela_covid.dtypes"
   ]
  },
  {
   "cell_type": "code",
   "execution_count": 12,
   "metadata": {},
   "outputs": [
    {
     "data": {
      "text/plain": [
       "datahora         0\n",
       "casos            0\n",
       "casos_novos      0\n",
       "casos_mm7d       0\n",
       "obitos           0\n",
       "obitos_novos     0\n",
       "obitos_mm7d      0\n",
       "semana_epidem    0\n",
       "dtype: int64"
      ]
     },
     "execution_count": 12,
     "metadata": {},
     "output_type": "execute_result"
    }
   ],
   "source": [
    "tabela_covid.isnull().sum() # Verificando se há valores nulos"
   ]
  },
  {
   "cell_type": "markdown",
   "metadata": {},
   "source": [
    "&emsp;&emsp; Não há dados faltantes, mas há diversas linhas com apenas zeros. Vamos excluir parte dessas linhas (deixando apenas as que ocorrem na semana anterior ao primeiro caso)."
   ]
  },
  {
   "cell_type": "code",
   "execution_count": 13,
   "metadata": {},
   "outputs": [],
   "source": [
    "ultima_ocorrência = tabela_covid.loc[tabela_covid['casos'] == 0]['semana_epidem'].max()\n",
    "tabela_covid = tabela_covid.loc[tabela_covid['semana_epidem'] >= ultima_ocorrência - 1]\n",
    "tabela_covid.reset_index(drop=True, inplace=True) # Resetando o índice"
   ]
  },
  {
   "cell_type": "markdown",
   "metadata": {},
   "source": [
    "<h2 align=\"center\"><b> Média Móvel de Novos Casos </b></h2>\n",
    "\n",
    "`Objetivo da Etapa:` Calcular a média móvel de novos casos por Covid em São José dos Campos e plotar o gráfico."
   ]
  },
  {
   "cell_type": "code",
   "execution_count": null,
   "metadata": {},
   "outputs": [],
   "source": [
    "série_casos = pd.Series(tabela_covid.casos_novos.values, index = tabela_covid.datahora) # Criando uma série com os casos novos\n",
    "série_casos.plot() # Plotando a série"
   ]
  },
  {
   "cell_type": "markdown",
   "metadata": {},
   "source": [
    "![série_caos.plot()](./Gráficos/série_casos.png)"
   ]
  },
  {
   "cell_type": "code",
   "execution_count": null,
   "metadata": {},
   "outputs": [],
   "source": [
    "média_casos = série_casos.rolling(window = 7).mean() # Calculando a média móvel\n",
    "\n",
    "plt.title('Casos Novos')\n",
    "plt.plot(série_casos, label = 'Série Real', color = 'blue')\n",
    "plt.plot(média_casos, label = 'Média Móvel Simples', color = 'red')\n",
    "plt.legend(loc = 'best')\n",
    "plt.show()"
   ]
  },
  {
   "cell_type": "markdown",
   "metadata": {},
   "source": [
    "![média_casos](./Gráficos/média_casos.png)"
   ]
  },
  {
   "cell_type": "code",
   "execution_count": null,
   "metadata": {},
   "outputs": [],
   "source": [
    "média_casos_centralizada = série_casos.rolling(window = 7, center = True).mean() # Calculando a média móvel centralizada\n",
    "\n",
    "plt.title('Casos Novos')\n",
    "plt.plot(série_casos, label = 'Série Real', color = 'blue')\n",
    "plt.plot(média_casos_centralizada, label = 'Média Móvel Centralizada', color = 'red')\n",
    "plt.legend(loc = 'best')\n",
    "plt.show()"
   ]
  },
  {
   "cell_type": "markdown",
   "metadata": {},
   "source": [
    "![média_casos_centralizada](./Gráficos/média_casos_centralizada.png)"
   ]
  },
  {
   "cell_type": "markdown",
   "metadata": {},
   "source": [
    "<h2 align=\"center\"><b> Média Móvel de Novos Óbitos </b></h2>\n",
    "\n",
    "`Objetivo da Etapa:` Calcular a média móvel de novos óbitos por Covid em São José dos Campos e plotar o gráfico."
   ]
  },
  {
   "cell_type": "code",
   "execution_count": null,
   "metadata": {},
   "outputs": [],
   "source": [
    "série_óbitos = pd.Series(tabela_covid.obitos_novos.values, index = tabela_covid.datahora) # Criando uma série com os óbitos novos\n",
    "série_óbitos.plot() # Plotando a série"
   ]
  },
  {
   "cell_type": "markdown",
   "metadata": {},
   "source": [
    "![série_óbitos.plot()](./Gráficos/série_óbitos.png)"
   ]
  },
  {
   "cell_type": "code",
   "execution_count": null,
   "metadata": {},
   "outputs": [],
   "source": [
    "média_óbitos = série_óbitos.rolling(window = 7).mean() # Calculando a média móvel\n",
    "\n",
    "plt.title('Óbitos Novos')\n",
    "plt.plot(série_óbitos, label = 'Série Real', color = 'blue')\n",
    "plt.plot(média_óbitos, label = 'Média Simples', color = 'red')\n",
    "plt.legend(loc = 'best')\n",
    "plt.show()"
   ]
  },
  {
   "cell_type": "markdown",
   "metadata": {},
   "source": [
    "![média_óbitos](./Gráficos/média_óbitos.png)"
   ]
  },
  {
   "cell_type": "code",
   "execution_count": null,
   "metadata": {},
   "outputs": [],
   "source": [
    "média_óbitos_centralizada = série_óbitos.rolling(window = 7, center = True).mean() # Calculando a média móvel centralizada\n",
    "\n",
    "plt.title('Óbitos Novos')\n",
    "plt.plot(série_óbitos, label = 'Série Real', color = 'blue')\n",
    "plt.plot(média_óbitos_centralizada, label = 'Média Centralizada', color = 'red')\n",
    "plt.legend(loc = 'best')\n",
    "plt.show()"
   ]
  },
  {
   "cell_type": "markdown",
   "metadata": {},
   "source": [
    "![média_óbitos](./Gráficos/média_óbitos_centralizada.png)"
   ]
  }
 ],
 "metadata": {
  "kernelspec": {
   "display_name": "Python 3",
   "language": "python",
   "name": "python3"
  },
  "language_info": {
   "codemirror_mode": {
    "name": "ipython",
    "version": 3
   },
   "file_extension": ".py",
   "mimetype": "text/x-python",
   "name": "python",
   "nbconvert_exporter": "python",
   "pygments_lexer": "ipython3",
   "version": "3.11.4"
  }
 },
 "nbformat": 4,
 "nbformat_minor": 2
}
