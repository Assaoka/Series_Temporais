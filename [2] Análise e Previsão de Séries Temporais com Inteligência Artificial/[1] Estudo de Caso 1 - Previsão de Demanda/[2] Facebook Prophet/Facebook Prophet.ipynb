{
  "cells": [
    {
      "cell_type": "markdown",
      "metadata": {
        "id": "pJ6pmIHF8i5z"
      },
      "source": [
        "<h1 align = \"center\"><b> Facebook Prophet </b></h1>\n"
      ]
    },
    {
      "cell_type": "code",
      "execution_count": 17,
      "metadata": {
        "id": "1eFiwy8q8Ftq"
      },
      "outputs": [],
      "source": [
        "import numpy as np\n",
        "import pandas as pd\n",
        "import seaborn as sns\n",
        "import scipy.stats as stats\n",
        "from prophet import Prophet\n",
        "\n",
        "import matplotlib.pyplot as plt\n",
        "from matplotlib.pylab import rcParams\n",
        "rcParams['figure.figsize'] = 15, 6"
      ]
    },
    {
      "cell_type": "code",
      "execution_count": 18,
      "metadata": {
        "id": "uIud8hHS8qHa"
      },
      "outputs": [],
      "source": [
        "tabela_vendas = pd.read_csv('../Demanda Diária.csv', index_col = 0)\n",
        "tabela_vendas = tabela_vendas.loc[tabela_vendas['loja'] == 1]\n",
        "tabela_vendas = tabela_vendas.loc[tabela_vendas['produto'] == 1]\n",
        "tabela_vendas = tabela_vendas.drop(['loja', 'produto'], axis = 1)\n",
        "\n",
        "série_vendas = pd.Series(tabela_vendas['itens_vendidos'], index = tabela_vendas.index)"
      ]
    },
    {
      "cell_type": "code",
      "execution_count": 19,
      "metadata": {},
      "outputs": [
        {
          "name": "stdout",
          "output_type": "stream",
          "text": [
            "Lambda encontrado: 0.576185039143375\n"
          ]
        }
      ],
      "source": [
        "def Transformar_Série(série):\n",
        "\tsérie_transformada, lambda_encontrado = stats.boxcox(série)\n",
        "\tsérie_transformada = pd.Series(série_transformada, index = série.index)\n",
        "\tprint(f'Lambda encontrado: {lambda_encontrado}')\n",
        "\n",
        "\tsérie_transformada = série_transformada.diff().dropna()\n",
        "\treturn série_transformada, lambda_encontrado\n",
        "\n",
        "série_transformada, lambda_encontrado = Transformar_Série(série_vendas)"
      ]
    },
    {
      "cell_type": "markdown",
      "metadata": {},
      "source": [
        "<h2 align = \"center\"><b> Criando o Modelo </b></h2>\n",
        "\n",
        "&emsp;&emsp; O prophet impõe que os dados estejam em um dataframe com duas colunas (ds e y). A coluna ds deve conter as datas em formato YYYY-MM-DD e a coluna y deve conter os valores que queremos prever."
      ]
    },
    {
      "cell_type": "code",
      "execution_count": 20,
      "metadata": {},
      "outputs": [],
      "source": [
        "tabela_prophet = pd.DataFrame({'ds': série_transformada.index, 'y': série_transformada.values})\n",
        "\n",
        "tabela_prophet_treino = tabela_prophet.iloc[:-31] # Retirando o último mês do treino\n",
        "tabela_prophet_teste = tabela_prophet.iloc[-31:] # Utilizando o último mês como teste"
      ]
    },
    {
      "cell_type": "code",
      "execution_count": 21,
      "metadata": {},
      "outputs": [
        {
          "name": "stderr",
          "output_type": "stream",
          "text": [
            "22:03:03 - cmdstanpy - INFO - Chain [1] start processing\n",
            "22:03:04 - cmdstanpy - INFO - Chain [1] done processing\n"
          ]
        },
        {
          "data": {
            "text/plain": [
              "<prophet.forecaster.Prophet at 0x2978db77290>"
            ]
          },
          "execution_count": 21,
          "metadata": {},
          "output_type": "execute_result"
        }
      ],
      "source": [
        "modelo = Prophet()\n",
        "modelo.fit(tabela_prophet_treino)"
      ]
    },
    {
      "cell_type": "code",
      "execution_count": 71,
      "metadata": {},
      "outputs": [],
      "source": [
        "future = modelo.make_future_dataframe(periods = 31, freq = 'D')\n",
        "previsão = modelo.predict(future)\n",
        "previsão = previsão.set_index('ds', drop = False)"
      ]
    },
    {
      "cell_type": "code",
      "execution_count": 26,
      "metadata": {},
      "outputs": [],
      "source": [
        "def Inverter_Transformação(série_transformada, lambda_encontrado, valor_inicial):\n",
        "    série_invertida = [stats.boxcox(valor_inicial, lambda_encontrado)]\n",
        "    for i in range(0, len(série_transformada)):\n",
        "        série_invertida.append(série_invertida[i] + série_transformada[i])\n",
        "        if (i == 3): display(série_invertida)\n",
        "    série_invertida = pd.Series(série_invertida[1:], index = série_transformada.index).dropna()\n",
        "\n",
        "    if lambda_encontrado == 0: return np.exp(série_invertida)\n",
        "    else: return (série_invertida * lambda_encontrado + 1) ** (1 / lambda_encontrado)"
      ]
    },
    {
      "cell_type": "code",
      "execution_count": null,
      "metadata": {},
      "outputs": [],
      "source": [
        "resultado = Inverter_Transformação(previsão['yhat'], lambda_encontrado, série_vendas.iloc[0]).tail(31)\n",
        "resultado.index = série_vendas.tail(31).index\n",
        "\n",
        "resultado = pd.concat([resultado, série_vendas.tail(31)], axis = 1)\n",
        "resultado.rename(columns={0: 'Previsão', 'itens_vendidos': 'Valor Real'}, inplace=True)"
      ]
    },
    {
      "cell_type": "code",
      "execution_count": 68,
      "metadata": {},
      "outputs": [
        {
          "name": "stdout",
          "output_type": "stream",
          "text": [
            "             Previsão  Valor Real\n",
            "data                             \n",
            "2017-12-01  21.942213          19\n",
            "2017-12-02  23.263175          16\n",
            "2017-12-03  23.615094          31\n",
            "2017-12-04  15.013922           7\n",
            "2017-12-05  17.192013          20\n",
            "2017-12-06  17.395763          17\n",
            "2017-12-07  17.680158          18\n",
            "2017-12-08  18.901850          17\n",
            "2017-12-09  20.327479          27\n",
            "2017-12-10  20.879557          20\n",
            "2017-12-11  12.976453          20\n",
            "2017-12-12  15.266522          13\n",
            "2017-12-13  15.716027          17\n",
            "2017-12-14  16.258118          14\n",
            "2017-12-15  17.722507          16\n",
            "2017-12-16  19.405336          15\n",
            "2017-12-17  20.240018          22\n",
            "2017-12-18  12.684929          19\n",
            "2017-12-19  15.187012           7\n",
            "2017-12-20  15.852722          16\n",
            "2017-12-21  16.594144          12\n",
            "2017-12-22  18.248247           6\n",
            "2017-12-23  20.104376          18\n",
            "2017-12-24  21.073316          19\n",
            "2017-12-25  13.442104          13\n",
            "2017-12-26  16.049607          16\n",
            "2017-12-27  16.747418          14\n",
            "2017-12-28  17.493285          19\n",
            "2017-12-29  19.142188          15\n",
            "2017-12-30  20.965837          27\n",
            "2017-12-31  21.858448          23\n"
          ]
        }
      ],
      "source": [
        "print(resultado)"
      ]
    },
    {
      "cell_type": "code",
      "execution_count": 69,
      "metadata": {},
      "outputs": [
        {
          "name": "stdout",
          "output_type": "stream",
          "text": [
            "RMSE:  4.668299767330705\n",
            "MAE:  3.581771298440391\n"
          ]
        }
      ],
      "source": [
        "from sklearn.metrics import mean_squared_error, mean_absolute_error\n",
        "\n",
        "print('RMSE: ', mean_squared_error(resultado['Valor Real'], resultado['Previsão'], squared = False))\n",
        "print('MAE: ', mean_absolute_error(resultado['Valor Real'], resultado['Previsão']))"
      ]
    },
    {
      "cell_type": "code",
      "execution_count": null,
      "metadata": {},
      "outputs": [],
      "source": [
        "modelo.plot_components(previsão)"
      ]
    },
    {
      "cell_type": "markdown",
      "metadata": {},
      "source": [
        "<img src=\"./Gráficos/plot_components.png\" alt=\"drawing\" width=\"100%\"/>"
      ]
    }
  ],
  "metadata": {
    "colab": {
      "provenance": []
    },
    "kernelspec": {
      "display_name": "Python 3",
      "name": "python3"
    },
    "language_info": {
      "codemirror_mode": {
        "name": "ipython",
        "version": 3
      },
      "file_extension": ".py",
      "mimetype": "text/x-python",
      "name": "python",
      "nbconvert_exporter": "python",
      "pygments_lexer": "ipython3",
      "version": "3.11.4"
    }
  },
  "nbformat": 4,
  "nbformat_minor": 0
}
