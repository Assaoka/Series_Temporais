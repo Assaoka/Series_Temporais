{
 "cells": [
  {
   "cell_type": "markdown",
   "metadata": {},
   "source": [
    "<h1 align = \"center\"><b> Análise de Transformações </b></h1>\n",
    "\n",
    "**Objetivo Geral:** Construir modelos capazes de prever a demanda do produto 1 da loja 1, e assim, auxiliar uma empresa a otimizar suas decisões logísticas.\n",
    "\n",
    "**Objetivo Específico:** Essa é a primeira etapa desse estudo de caso. Seu objetivo é analisar os dados e identificar qual/quais transformações devem ser aplicadas para obter uma série estacionária e com distribuição aproximadamente normal."
   ]
  },
  {
   "cell_type": "code",
   "execution_count": 3,
   "metadata": {},
   "outputs": [],
   "source": [
    "import numpy as np\n",
    "import pandas as pd\n",
    "import seaborn as sns\n",
    "import scipy.stats as stats\n",
    "import statsmodels.tsa.stattools as stattools \n",
    "import sklearn.preprocessing as skpp\n",
    "\n",
    "import matplotlib.pyplot as plt\n",
    "from matplotlib.pylab import rcParams\n",
    "rcParams['figure.figsize'] = 15, 6"
   ]
  },
  {
   "cell_type": "code",
   "execution_count": 5,
   "metadata": {},
   "outputs": [],
   "source": [
    "df = pd.read_csv('../Demanda Diária.csv', index_col = 0, parse_dates = True)\n",
    "df = df.loc[df['loja'] == 1]\n",
    "df = df.loc[df['produto'] == 1]\n",
    "df = df.drop(['loja', 'produto'], axis = 1)\n",
    "\n",
    "série = pd.Series(df['itens_vendidos'], index = df.index)"
   ]
  },
  {
   "cell_type": "code",
   "execution_count": 6,
   "metadata": {},
   "outputs": [
    {
     "data": {
      "text/plain": [
       "data\n",
       "2013-01-01    13\n",
       "2013-01-02    11\n",
       "2013-01-03    14\n",
       "2013-01-04    13\n",
       "2013-01-05    10\n",
       "Name: itens_vendidos, dtype: int64"
      ]
     },
     "execution_count": 6,
     "metadata": {},
     "output_type": "execute_result"
    }
   ],
   "source": [
    "série.head()"
   ]
  },
  {
   "cell_type": "code",
   "execution_count": 9,
   "metadata": {},
   "outputs": [
    {
     "data": {
      "text/plain": [
       "count    1826.000000\n",
       "mean       19.971522\n",
       "std         6.741022\n",
       "min         4.000000\n",
       "25%        15.000000\n",
       "50%        19.000000\n",
       "75%        24.000000\n",
       "max        50.000000\n",
       "Name: itens_vendidos, dtype: float64"
      ]
     },
     "execution_count": 9,
     "metadata": {},
     "output_type": "execute_result"
    }
   ],
   "source": [
    "série.describe()"
   ]
  },
  {
   "cell_type": "markdown",
   "metadata": {},
   "source": [
    "<h2 align=\"center\"><b> Funções para Cálculo das Métricas </b></h2>\n",
    "\n",
    "### Estacionariedade:"
   ]
  },
  {
   "cell_type": "code",
   "execution_count": null,
   "metadata": {},
   "outputs": [],
   "source": [
    "def visualizar_estacionaridade (série, nome_série):\n",
    "\tplt.plot(série, label = 'Série Real')\n",
    "\tplt.plot(série.rolling(12).mean(), label = 'Média Móvel')\n",
    "\tplt.title(f'Visualizar Estacionaridade - {nome_série}')\n",
    "\tplt.legend(loc = 'best')\n",
    "\tplt.show()\n",
    "\n",
    "visualizar_estacionaridade(série, 'Série Original')"
   ]
  },
  {
   "cell_type": "markdown",
   "metadata": {},
   "source": [
    "![Visualizar Estacionariedade](./Gráficos/Série%20Original/Estacionaridade.png)\n",
    "&emsp;&emsp; Visualmente, a média parece variar com o tempo. Provavelmente essa série não é estacionária. Para confirmar, vamos utilizar o teste KPSS e o teste de Dickey-Fuller Aumentado (ADF)."
   ]
  },
  {
   "cell_type": "code",
   "execution_count": 105,
   "metadata": {},
   "outputs": [
    {
     "name": "stdout",
     "output_type": "stream",
     "text": [
      "Estatística de Teste = 1.891425278325667\n",
      "p-valor = 0.01\n",
      "Valores Críticos:\n",
      "    10%: 0.347\n",
      "    5%: 0.463\n",
      "    2.5%: 0.574\n",
      "    1%: 0.739\n",
      "Resultado: Não temos evidências para rejeitar a hipótese nula. Então segundo o teste KPSS, a série provavelmente não é estacionária\n"
     ]
    },
    {
     "name": "stderr",
     "output_type": "stream",
     "text": [
      "C:\\Users\\Atual\\AppData\\Local\\Temp\\ipykernel_7984\\1383781043.py:2: InterpolationWarning: The test statistic is outside of the range of p-values available in the\n",
      "look-up table. The actual p-value is smaller than the p-value returned.\n",
      "\n",
      "  kpss = stattools.kpss(série)\n"
     ]
    }
   ],
   "source": [
    "def teste_KPSS(série):\n",
    "    kpss = stattools.kpss(série)\n",
    "    print(f'Estatística de Teste = {kpss[0]}')\n",
    "    print(f'p-valor = {kpss[1]}')\n",
    "    print(f'Valores Críticos:')\n",
    "    for chave, valor in kpss[3].items():\n",
    "        print(f'    {chave}: {valor}')\n",
    "    print(f'Resultado: {\"Temos evidências para rejeitar a hipótese nula. Então segundo o teste KPSS, a série provavelmente é estacionária\" if (kpss[0] < kpss[3][\"5%\"]) else \"Não temos evidências para rejeitar a hipótese nula. Então segundo o teste KPSS, a série provavelmente não é estacionária\"}.')\n",
    "\n",
    "teste_KPSS(série)"
   ]
  },
  {
   "cell_type": "code",
   "execution_count": 106,
   "metadata": {},
   "outputs": [
    {
     "name": "stdout",
     "output_type": "stream",
     "text": [
      "Estatística ADF: -3.1576705563328193\n",
      "Valor p: 0.022569380626570587\n",
      "Valores críticos:\n",
      "   1%: -3.4339840952648695\n",
      "   5%: -2.8631452508003057\n",
      "   10%: -2.567624583142913\n",
      "Resultado: Temos evidencias contra a hipótese nula. Então segundo o teste de Dickey-Fuller Aumentado, a série provavelmente é estacionária\n"
     ]
    }
   ],
   "source": [
    "def teste_adfuller(serie_temporal):\n",
    "    adf = stattools.adfuller(serie_temporal)\n",
    "    print(f\"Estatística ADF: {adf[0]}\")\n",
    "    print(f\"Valor p: {adf[1]}\")\n",
    "    print(\"Valores críticos:\")\n",
    "    for chave, valor in adf[4].items():\n",
    "        print(f\"   {chave}: {valor}\")\n",
    "    print(f'Resultado: {\"Temos evidencias contra a hipótese nula. Então segundo o teste de Dickey-Fuller Aumentado, a série provavelmente é estacionária\" if (adf[0] < adf[4][\"5%\"]) else \"Não temos evidencias contra a hipótese nula. Então segundo o teste de Dickey-Fuller Aumentado, a série provavelmente não é estacionária\"}.')\n",
    "\n",
    "teste_adfuller(série)"
   ]
  },
  {
   "cell_type": "markdown",
   "metadata": {},
   "source": [
    "&emsp;&emsp; A visualização por gráfico e o teste KPSS concordam que a série não é estacionária. O teste ADF discorda. Então, vamos considerar que a série não é estacionária.\n",
    "\n",
    "### Normalidade:"
   ]
  },
  {
   "cell_type": "code",
   "execution_count": null,
   "metadata": {},
   "outputs": [],
   "source": [
    "def visualizar_normalidade(série, nome_série = 'Série'):\n",
    "    stats.probplot(série, dist = 'norm', plot = plt)\n",
    "    plt.title(f'Normal QQ Plot - {nome_série}') \n",
    "    plt.show()\n",
    "\n",
    "    sns.histplot(série, kde = True)\n",
    "    plt.title(f'Histograma - {nome_série}')\n",
    "    plt.show()\n",
    "\n",
    "visualizar_normalidade(série, 'Série Original')"
   ]
  },
  {
   "cell_type": "markdown",
   "metadata": {},
   "source": [
    "![Normal QQ Plot](./Gráficos/Série%20Original/Normal%20QQ%20Plot.png)\n",
    "![Histograma](./Gráficos/Série%20Original/Histograma.png)\n",
    "&emsp;&emsp; Visualmente, a série não parece ter uma distribuição normal. Para confirmar, vamos utilizar o teste de Shapiro-Wilk."
   ]
  },
  {
   "cell_type": "code",
   "execution_count": 108,
   "metadata": {},
   "outputs": [
    {
     "name": "stdout",
     "output_type": "stream",
     "text": [
      "Estatística de Teste = 0.9879128336906433\n",
      "p-valor = 3.0621737784342073e-11\n",
      "Resultado: Temos evidências para rejeitar a hipótese nula. Então segundo o teste de Shapiro-Wilk, a série provavelmente não possui distribuição Normal\n"
     ]
    }
   ],
   "source": [
    "def teste_shapiro(série):\n",
    "    e, p = stats.shapiro(série)\n",
    "    print(f'Estatística de Teste = {e}')\n",
    "    print(f'p-valor = {p}')\n",
    "    print(f'Resultado: {\"Não temos evidências para rejeitar a hipótese nula. Então segundo o teste de Shapiro-Wilk, a série provavelmente possui distribuição Normal\" if (p > 0.05) else \"Temos evidências para rejeitar a hipótese nula. Então segundo o teste de Shapiro-Wilk, a série provavelmente não possui distribuição Normal\"}')\n",
    "\n",
    "teste_shapiro(série)\n"
   ]
  },
  {
   "cell_type": "markdown",
   "metadata": {},
   "source": [
    "&emsp;&emsp; Tanto a análise por gráfico quanto o teste de Shapiro-Wilk concordam que a série não possui distribuição normal.\n",
    "\n",
    "<h2 align=\"center\"><b> Transformação por Diferenciação </b></h2>\n",
    "&emsp;&emsp; A série original não é estacionária. Uma transformação comum para resolver esse problema é a diferenciação. Quando aplicamos a diferenciação, a série resultante passa a medir a variação entre os valores da série original. Caso a série resultante não seja estacionária, podemos aplicar a diferenciação novamente."
   ]
  },
  {
   "cell_type": "code",
   "execution_count": 109,
   "metadata": {},
   "outputs": [],
   "source": [
    "série_diff = série.diff().dropna()"
   ]
  },
  {
   "cell_type": "code",
   "execution_count": 110,
   "metadata": {},
   "outputs": [
    {
     "data": {
      "text/plain": [
       "data\n",
       "2013-01-02   -2.0\n",
       "2013-01-03    3.0\n",
       "2013-01-04   -1.0\n",
       "2013-01-05   -3.0\n",
       "2013-01-06    2.0\n",
       "Name: itens_vendidos, dtype: float64"
      ]
     },
     "execution_count": 110,
     "metadata": {},
     "output_type": "execute_result"
    }
   ],
   "source": [
    "série_diff.head()"
   ]
  },
  {
   "cell_type": "code",
   "execution_count": 111,
   "metadata": {},
   "outputs": [
    {
     "data": {
      "text/plain": [
       "count    1825.000000\n",
       "mean        0.005479\n",
       "std         7.085550\n",
       "min       -26.000000\n",
       "25%        -4.000000\n",
       "50%         0.000000\n",
       "75%         5.000000\n",
       "max        25.000000\n",
       "Name: itens_vendidos, dtype: float64"
      ]
     },
     "execution_count": 111,
     "metadata": {},
     "output_type": "execute_result"
    }
   ],
   "source": [
    "série_diff.describe()"
   ]
  },
  {
   "cell_type": "markdown",
   "metadata": {},
   "source": [
    "### Estacionariedade:"
   ]
  },
  {
   "cell_type": "code",
   "execution_count": null,
   "metadata": {},
   "outputs": [],
   "source": [
    "visualizar_estacionaridade(série_diff, 'Série Diferenciada')"
   ]
  },
  {
   "cell_type": "markdown",
   "metadata": {},
   "source": [
    "![Visualizar Estacionariedade](./Gráficos/Série%20Diferenciada/Estacionaridade.png)\n",
    "&emsp;&emsp; Visualmente, a média parece constante. Isso é um bom sinal, provavelmente a série é estacionária."
   ]
  },
  {
   "cell_type": "code",
   "execution_count": 115,
   "metadata": {},
   "outputs": [
    {
     "name": "stdout",
     "output_type": "stream",
     "text": [
      "Estatística de Teste = 0.03333614198230825\n",
      "p-valor = 0.1\n",
      "Valores Críticos:\n",
      "    10%: 0.347\n",
      "    5%: 0.463\n",
      "    2.5%: 0.574\n",
      "    1%: 0.739\n",
      "Resultado: Temos evidências para rejeitar a hipótese nula. Então segundo o teste KPSS, a série provavelmente é estacionária\n"
     ]
    },
    {
     "name": "stderr",
     "output_type": "stream",
     "text": [
      "C:\\Users\\Atual\\AppData\\Local\\Temp\\ipykernel_7984\\1383781043.py:2: InterpolationWarning: The test statistic is outside of the range of p-values available in the\n",
      "look-up table. The actual p-value is greater than the p-value returned.\n",
      "\n",
      "  kpss = stattools.kpss(série)\n"
     ]
    }
   ],
   "source": [
    "teste_KPSS(série_diff)"
   ]
  },
  {
   "cell_type": "code",
   "execution_count": 16,
   "metadata": {},
   "outputs": [
    {
     "name": "stdout",
     "output_type": "stream",
     "text": [
      "Estatística ADF: -12.676793886047477\n",
      "Valor p: 1.2109276320436821e-23\n",
      "Valores críticos:\n",
      "   1%: -3.4339840952648695\n",
      "   5%: -2.8631452508003057\n",
      "   10%: -2.567624583142913\n",
      "Resultado: Temos evidencias contra a hipótese nula. Então segundo o teste de Dickey-Fuller Aumentado, a série provavelmente é estacionária\n"
     ]
    }
   ],
   "source": [
    "teste_adfuller(série_diff)"
   ]
  },
  {
   "cell_type": "markdown",
   "metadata": {},
   "source": [
    "&emsp;&emsp; Claramente, a transformação por diferenciação melhorou a estacionariedade da série. Os três testes concordam que a série é estacionária após a transformação.\n",
    "\n",
    "### Normalidade:"
   ]
  },
  {
   "cell_type": "code",
   "execution_count": null,
   "metadata": {},
   "outputs": [],
   "source": [
    "visualizar_normalidade(série_diff, 'Série Diferenciada')"
   ]
  },
  {
   "cell_type": "markdown",
   "metadata": {},
   "source": [
    "![Normal QQ Plot](./Gráficos/Série%20Diferenciada/Normal%20QQ%20Plot.png)\n",
    "![Histograma](./Gráficos/Série%20Diferenciada/Histograma.png)\n",
    "\n",
    "&emsp;&emsp; Visualmente, a série parece ter se aproximado mais de uma distribuição normal em relação à série original. A diferenciação não tem como objetivo normalizar a série, para esse fim existem outras transformações mais adequadas."
   ]
  },
  {
   "cell_type": "code",
   "execution_count": 117,
   "metadata": {},
   "outputs": [
    {
     "name": "stdout",
     "output_type": "stream",
     "text": [
      "Estatística de Teste = 0.9936521649360657\n",
      "p-valor = 4.634608785636374e-07\n",
      "Resultado: Temos evidências para rejeitar a hipótese nula. Então segundo o teste de Shapiro-Wilk, a série provavelmente não possui distribuição Normal\n"
     ]
    }
   ],
   "source": [
    "teste_shapiro(série_diff)"
   ]
  },
  {
   "cell_type": "markdown",
   "metadata": {},
   "source": [
    "### Desfazendo a Transformação:\n",
    "&emsp;&emsp; Para revertermos a transformação, devemos somar todas as variações anteriores e adicionar o valor inicial da série original. Podemos fazer isso manualmente ou utilizando a função `cumsum()` do pandas."
   ]
  },
  {
   "cell_type": "code",
   "execution_count": 121,
   "metadata": {},
   "outputs": [
    {
     "data": {
      "text/plain": [
       "data\n",
       "2013-01-02    11.0\n",
       "2013-01-03    14.0\n",
       "2013-01-04    13.0\n",
       "2013-01-05    10.0\n",
       "2013-01-06    12.0\n",
       "Name: itens_vendidos, dtype: float64"
      ]
     },
     "metadata": {},
     "output_type": "display_data"
    }
   ],
   "source": [
    "série_invertida = série_diff.cumsum() + série.iloc[0]\n",
    "display(série_invertida.head())"
   ]
  },
  {
   "cell_type": "code",
   "execution_count": 118,
   "metadata": {},
   "outputs": [],
   "source": [
    "def Inverter_Diferenciação(série, valor_inicial):\n",
    "    série_invertida = [valor_inicial]\n",
    "    for i in range(0, len(série)):\n",
    "        série_invertida.append(série_invertida[i] + série[i])\n",
    "    série_invertida = pd.Series(série_invertida[1:], index = série.index).dropna()\n",
    "    return série_invertida\n",
    "\n",
    "série_invertida = Inverter_Diferenciação(série_diff, série.iloc[0])"
   ]
  },
  {
   "cell_type": "code",
   "execution_count": 119,
   "metadata": {},
   "outputs": [
    {
     "data": {
      "text/plain": [
       "data\n",
       "2013-01-02    11.0\n",
       "2013-01-03    14.0\n",
       "2013-01-04    13.0\n",
       "2013-01-05    10.0\n",
       "2013-01-06    12.0\n",
       "dtype: float64"
      ]
     },
     "metadata": {},
     "output_type": "display_data"
    },
    {
     "data": {
      "text/plain": [
       "data\n",
       "2013-01-01    13\n",
       "2013-01-02    11\n",
       "2013-01-03    14\n",
       "2013-01-04    13\n",
       "2013-01-05    10\n",
       "Name: itens_vendidos, dtype: int64"
      ]
     },
     "metadata": {},
     "output_type": "display_data"
    }
   ],
   "source": [
    "display(série_invertida.head()) # A informação do primeiro valor foi perdida, mas o restante da informação se manteve intacta.\n",
    "display(série.head())"
   ]
  },
  {
   "cell_type": "markdown",
   "metadata": {},
   "source": [
    "<h2 align=\"center\"><b> Transformação por Logaritmo </b></h2>\n",
    "&emsp;&emsp; A transformação por logaritmo é uma transformação comum para tornar a série mais próxima de uma distribuição normal. Essa transformação é útil quando a série possui uma tendência exponencial."
   ]
  },
  {
   "cell_type": "code",
   "execution_count": 21,
   "metadata": {},
   "outputs": [],
   "source": [
    "série_log = np.log(série)"
   ]
  },
  {
   "cell_type": "code",
   "execution_count": 122,
   "metadata": {},
   "outputs": [
    {
     "data": {
      "text/plain": [
       "data\n",
       "2013-01-01    2.564949\n",
       "2013-01-02    2.397895\n",
       "2013-01-03    2.639057\n",
       "2013-01-04    2.564949\n",
       "2013-01-05    2.302585\n",
       "Name: itens_vendidos, dtype: float64"
      ]
     },
     "execution_count": 122,
     "metadata": {},
     "output_type": "execute_result"
    }
   ],
   "source": [
    "série_log.head()"
   ]
  },
  {
   "cell_type": "code",
   "execution_count": 123,
   "metadata": {},
   "outputs": [
    {
     "data": {
      "text/plain": [
       "count    1826.000000\n",
       "mean        2.932441\n",
       "std         0.365107\n",
       "min         1.386294\n",
       "25%         2.708050\n",
       "50%         2.944439\n",
       "75%         3.178054\n",
       "max         3.912023\n",
       "Name: itens_vendidos, dtype: float64"
      ]
     },
     "execution_count": 123,
     "metadata": {},
     "output_type": "execute_result"
    }
   ],
   "source": [
    "série_log.describe()"
   ]
  },
  {
   "cell_type": "markdown",
   "metadata": {},
   "source": [
    "### Estacionariedade:"
   ]
  },
  {
   "cell_type": "code",
   "execution_count": null,
   "metadata": {},
   "outputs": [],
   "source": [
    "visualizar_estacionaridade(série_log, 'Série Logarítmica')"
   ]
  },
  {
   "cell_type": "markdown",
   "metadata": {},
   "source": [
    "![Visualizar Estacionariedade](./Gráficos/Série%20Logarítmica/Estacionaridade.png)"
   ]
  },
  {
   "cell_type": "code",
   "execution_count": 125,
   "metadata": {},
   "outputs": [
    {
     "name": "stdout",
     "output_type": "stream",
     "text": [
      "Estatística de Teste = 1.819823815566604\n",
      "p-valor = 0.01\n",
      "Valores Críticos:\n",
      "    10%: 0.347\n",
      "    5%: 0.463\n",
      "    2.5%: 0.574\n",
      "    1%: 0.739\n",
      "Resultado: Não temos evidências para rejeitar a hipótese nula. Então segundo o teste KPSS, a série provavelmente não é estacionária\n"
     ]
    },
    {
     "name": "stderr",
     "output_type": "stream",
     "text": [
      "C:\\Users\\Atual\\AppData\\Local\\Temp\\ipykernel_7984\\1383781043.py:2: InterpolationWarning: The test statistic is outside of the range of p-values available in the\n",
      "look-up table. The actual p-value is smaller than the p-value returned.\n",
      "\n",
      "  kpss = stattools.kpss(série)\n"
     ]
    }
   ],
   "source": [
    "teste_KPSS(série_log)"
   ]
  },
  {
   "cell_type": "code",
   "execution_count": 126,
   "metadata": {},
   "outputs": [
    {
     "name": "stdout",
     "output_type": "stream",
     "text": [
      "Estatística ADF: -3.5944235528561648\n",
      "Valor p: 0.005868536747948788\n",
      "Valores críticos:\n",
      "   1%: -3.4339840952648695\n",
      "   5%: -2.8631452508003057\n",
      "   10%: -2.567624583142913\n",
      "Resultado: Temos evidencias contra a hipótese nula. Então segundo o teste de Dickey-Fuller Aumentado, a série provavelmente é estacionária\n"
     ]
    }
   ],
   "source": [
    "teste_adfuller(série_log)"
   ]
  },
  {
   "cell_type": "markdown",
   "metadata": {},
   "source": [
    "&emsp;&emsp; Os resultados da transformação por logaritmo foram bastante similares aos da série original. Isso é esperado, pois essa transformação é feita para melhorar a normalidade da série, e não a estacionariedade.\n",
    "\n",
    "### Normalidade:"
   ]
  },
  {
   "cell_type": "code",
   "execution_count": null,
   "metadata": {},
   "outputs": [],
   "source": [
    "visualizar_normalidade(série_log, 'Série Logarítmica')"
   ]
  },
  {
   "cell_type": "markdown",
   "metadata": {},
   "source": [
    "![Normal QQ Plot](./Gráficos/Série%20Logarítmica/Normal%20QQ%20Plot.png)\n",
    "![Histograma](./Gráficos/Série%20Logarítmica/Histograma.png)\n",
    "&emsp;&emsp; Visualmente, a série parece ter se aproximado mais de uma distribuição normal em relação à série original, mas provavelmente não o suficiente. Para confirmar, vamos utilizar o teste de Shapiro-Wilk."
   ]
  },
  {
   "cell_type": "code",
   "execution_count": 28,
   "metadata": {},
   "outputs": [
    {
     "name": "stdout",
     "output_type": "stream",
     "text": [
      "Estatística de Teste = 0.9755350947380066\n",
      "p-valor = 4.101878477192872e-17\n",
      "Resultado: Temos evidências para rejeitar a hipótese nula. Então segundo o teste de Shapiro-Wilk, a série provavelmente não possui distribuição Normal\n"
     ]
    }
   ],
   "source": [
    "teste_shapiro(série_log)"
   ]
  },
  {
   "cell_type": "markdown",
   "metadata": {},
   "source": [
    "&emsp;&emsp; A transformação por logaritmo melhorou a normalidade da série, mas não o suficiente para que ela seja considerada normal. Talvez outras transformações que tentem melhorar a normalidade da série possam ser mais efetivas (como a transformação Box-Cox ou a transformação por raiz cúbica).\n",
    "\n",
    "### Desfazendo a Transformação:\n",
    "&emsp;&emsp; Para invertermos a transformação, basta elevarmos a base do logaritmo a cada valor da série. A função log do numpy utiliza a base natural (e), então podemos utilizar a função `exp()` do numpy para inverter a transformação."
   ]
  },
  {
   "cell_type": "code",
   "execution_count": 128,
   "metadata": {},
   "outputs": [],
   "source": [
    "série_invertida = np.exp(série_log)"
   ]
  },
  {
   "cell_type": "code",
   "execution_count": 129,
   "metadata": {},
   "outputs": [
    {
     "data": {
      "text/plain": [
       "data\n",
       "2013-01-01    13.0\n",
       "2013-01-02    11.0\n",
       "2013-01-03    14.0\n",
       "2013-01-04    13.0\n",
       "2013-01-05    10.0\n",
       "Name: itens_vendidos, dtype: float64"
      ]
     },
     "metadata": {},
     "output_type": "display_data"
    },
    {
     "data": {
      "text/plain": [
       "data\n",
       "2013-01-01    13\n",
       "2013-01-02    11\n",
       "2013-01-03    14\n",
       "2013-01-04    13\n",
       "2013-01-05    10\n",
       "Name: itens_vendidos, dtype: int64"
      ]
     },
     "metadata": {},
     "output_type": "display_data"
    }
   ],
   "source": [
    "display(série_invertida.head())\n",
    "display(série.head())"
   ]
  },
  {
   "cell_type": "markdown",
   "metadata": {},
   "source": [
    "<h2 align=\"center\"><b> Transformação por Raiz Cúbica </b></h2>\n",
    "&emsp;&emsp; A transformação por raiz cúbica, como o próprio nome diz, consiste em aplicar a raiz cúbica a cada valor da série. A transformação pode ser utilizada com outros coeficientes (como raiz quadrada, raiz quarta, etc), mas é importante que o coeficiente seja ímpar caso a série possua valores negativos. Essa transformação é útil para tornar a série mais próxima de uma distribuição normal."
   ]
  },
  {
   "cell_type": "code",
   "execution_count": 130,
   "metadata": {},
   "outputs": [],
   "source": [
    "série_cub = série ** (1/3) # Elevar a série a 1/3 é equivalente a fazer a raiz cúbica da série."
   ]
  },
  {
   "cell_type": "code",
   "execution_count": 131,
   "metadata": {},
   "outputs": [
    {
     "data": {
      "text/plain": [
       "data\n",
       "2013-01-01    2.351335\n",
       "2013-01-02    2.223980\n",
       "2013-01-03    2.410142\n",
       "2013-01-04    2.351335\n",
       "2013-01-05    2.154435\n",
       "Name: itens_vendidos, dtype: float64"
      ]
     },
     "execution_count": 131,
     "metadata": {},
     "output_type": "execute_result"
    }
   ],
   "source": [
    "série_cub.head()"
   ]
  },
  {
   "cell_type": "code",
   "execution_count": 132,
   "metadata": {},
   "outputs": [
    {
     "data": {
      "text/plain": [
       "count    1826.000000\n",
       "mean        2.676997\n",
       "std         0.314813\n",
       "min         1.587401\n",
       "25%         2.466212\n",
       "50%         2.668402\n",
       "75%         2.884499\n",
       "max         3.684031\n",
       "Name: itens_vendidos, dtype: float64"
      ]
     },
     "execution_count": 132,
     "metadata": {},
     "output_type": "execute_result"
    }
   ],
   "source": [
    "série_cub.describe()"
   ]
  },
  {
   "cell_type": "markdown",
   "metadata": {},
   "source": [
    "### Estacionariedade:"
   ]
  },
  {
   "cell_type": "code",
   "execution_count": null,
   "metadata": {},
   "outputs": [],
   "source": [
    "visualizar_estacionaridade(série_cub, 'Série Cúbica')"
   ]
  },
  {
   "cell_type": "markdown",
   "metadata": {},
   "source": [
    "![Visualizar Estacionariedade](./Gráficos/Série%20Cúbica/Estacionaridade.png)\n",
    "&emsp;&emsp; Visualmente, não há nenhuma mudança em relação à série original. Isso é esperado, pois essa transformação é feita para melhorar a normalidade da série, e não a estacionariedade. "
   ]
  },
  {
   "cell_type": "code",
   "execution_count": 136,
   "metadata": {},
   "outputs": [
    {
     "name": "stdout",
     "output_type": "stream",
     "text": [
      "Estatística de Teste = 1.851053858920974\n",
      "p-valor = 0.01\n",
      "Valores Críticos:\n",
      "    10%: 0.347\n",
      "    5%: 0.463\n",
      "    2.5%: 0.574\n",
      "    1%: 0.739\n",
      "Resultado: Não temos evidências para rejeitar a hipótese nula. Então segundo o teste KPSS, a série provavelmente não é estacionária\n"
     ]
    },
    {
     "name": "stderr",
     "output_type": "stream",
     "text": [
      "C:\\Users\\Atual\\AppData\\Local\\Temp\\ipykernel_7984\\1383781043.py:2: InterpolationWarning: The test statistic is outside of the range of p-values available in the\n",
      "look-up table. The actual p-value is smaller than the p-value returned.\n",
      "\n",
      "  kpss = stattools.kpss(série)\n"
     ]
    }
   ],
   "source": [
    "teste_KPSS(série_cub)"
   ]
  },
  {
   "cell_type": "code",
   "execution_count": 137,
   "metadata": {},
   "outputs": [
    {
     "name": "stdout",
     "output_type": "stream",
     "text": [
      "Estatística ADF: -3.421812989651452\n",
      "Valor p: 0.010237366962745204\n",
      "Valores críticos:\n",
      "   1%: -3.4339840952648695\n",
      "   5%: -2.8631452508003057\n",
      "   10%: -2.567624583142913\n",
      "Resultado: Temos evidencias contra a hipótese nula. Então segundo o teste de Dickey-Fuller Aumentado, a série provavelmente é estacionária\n"
     ]
    }
   ],
   "source": [
    "teste_adfuller(série_cub)"
   ]
  },
  {
   "cell_type": "markdown",
   "metadata": {},
   "source": [
    "&emsp;&emsp; Assim como a transformação por logaritmo, a transformação por raiz cúbica não melhorou a estacionariedade da série. Isso é esperado, pois essa transformação é feita para melhorar a normalidade da série, e não a estacionariedade.\n",
    "\n",
    "### Normalidade:"
   ]
  },
  {
   "cell_type": "code",
   "execution_count": null,
   "metadata": {},
   "outputs": [],
   "source": [
    "visualizar_normalidade(série_cub, 'Série Cúbica')"
   ]
  },
  {
   "cell_type": "markdown",
   "metadata": {},
   "source": [
    "![Normal QQ Plot](./Gráficos/Série%20Cúbica/Normal%20QQ%20Plot.png)\n",
    "![Histograma](./Gráficos/Série%20Cúbica/Histograma.png)\n",
    "&emsp;&emsp; Visualmente, a série parece ter se aproximado mais ainda de uma distribuição normal em relação à série logarítmica, mas provavelmente não o suficiente. Para confirmar, vamos utilizar o teste de Shapiro-Wilk."
   ]
  },
  {
   "cell_type": "code",
   "execution_count": 139,
   "metadata": {},
   "outputs": [
    {
     "name": "stdout",
     "output_type": "stream",
     "text": [
      "Estatística de Teste = 0.9935336112976074\n",
      "p-valor = 3.6200029285282653e-07\n",
      "Resultado: Temos evidências para rejeitar a hipótese nula. Então segundo o teste de Shapiro-Wilk, a série provavelmente não possui distribuição Normal\n"
     ]
    }
   ],
   "source": [
    "teste_shapiro(série_cub)"
   ]
  },
  {
   "cell_type": "markdown",
   "metadata": {},
   "source": [
    "&emsp;&emsp; A transformação por raiz cúbica melhorou a normalidade da série, mas não o suficiente para que ela seja considerada normal. O resultado foi melhor que o da transformação por logaritmo, mas ainda não é o ideal.\n",
    "\n",
    "### Desfazendo a Transformação:\n",
    "&emsp;&emsp; Para invertermos a transformação, basta elevarmos a cada valor da série ao cubo."
   ]
  },
  {
   "cell_type": "code",
   "execution_count": 140,
   "metadata": {},
   "outputs": [],
   "source": [
    "série_invertida = série_cub ** 3"
   ]
  },
  {
   "cell_type": "code",
   "execution_count": 141,
   "metadata": {},
   "outputs": [
    {
     "data": {
      "text/plain": [
       "data\n",
       "2013-01-01    13.0\n",
       "2013-01-02    11.0\n",
       "2013-01-03    14.0\n",
       "2013-01-04    13.0\n",
       "2013-01-05    10.0\n",
       "Name: itens_vendidos, dtype: float64"
      ]
     },
     "metadata": {},
     "output_type": "display_data"
    },
    {
     "data": {
      "text/plain": [
       "data\n",
       "2013-01-01    13\n",
       "2013-01-02    11\n",
       "2013-01-03    14\n",
       "2013-01-04    13\n",
       "2013-01-05    10\n",
       "Name: itens_vendidos, dtype: int64"
      ]
     },
     "metadata": {},
     "output_type": "display_data"
    }
   ],
   "source": [
    "display(série_invertida.head())\n",
    "display(série.head())"
   ]
  },
  {
   "cell_type": "markdown",
   "metadata": {},
   "source": [
    "<h2 align=\"center\"><b> Transformação por Box-Cox </b></h2>\n",
    "&emsp;&emsp; A transformação Box-Cox é uma transformação que tenta melhorar a normalidade da série por meio de uma função com um parâmetro ajustável. Caso não seja definido um parâmetro, a função tenta encontrar o melhor parâmetro para maximizar a normalidade da série. \n",
    "\n",
    "A função Box-Cox é definida como: $y(\\lambda) = \\begin{cases} \\frac{{y^\\lambda - 1}}{{\\lambda}}, & \\text{se }\\lambda \\neq 0 \\\\ \\log(y), & \\text{se }\\lambda = 0 \\end{cases}$\n"
   ]
  },
  {
   "cell_type": "code",
   "execution_count": 142,
   "metadata": {},
   "outputs": [
    {
     "name": "stdout",
     "output_type": "stream",
     "text": [
      "Lambda encontrado: 0.576185039143375\n"
     ]
    }
   ],
   "source": [
    "série_boxcox, lambda_encontrado = stats.boxcox(série)\n",
    "série_boxcox = pd.Series(série_boxcox, index = série.index)\n",
    "print(f'Lambda encontrado: {lambda_encontrado}')"
   ]
  },
  {
   "cell_type": "code",
   "execution_count": 143,
   "metadata": {},
   "outputs": [
    {
     "data": {
      "text/plain": [
       "data\n",
       "2013-01-01    5.872534\n",
       "2013-01-02    5.174365\n",
       "2013-01-03    6.204434\n",
       "2013-01-04    5.872534\n",
       "2013-01-05    4.805129\n",
       "dtype: float64"
      ]
     },
     "execution_count": 143,
     "metadata": {},
     "output_type": "execute_result"
    }
   ],
   "source": [
    "série_boxcox.head()"
   ]
  },
  {
   "cell_type": "code",
   "execution_count": 144,
   "metadata": {},
   "outputs": [
    {
     "data": {
      "text/plain": [
       "count    1826.000000\n",
       "mean        7.867947\n",
       "std         1.914343\n",
       "min         2.122213\n",
       "25%         6.526428\n",
       "50%         7.731977\n",
       "75%         9.096108\n",
       "max        14.797730\n",
       "dtype: float64"
      ]
     },
     "execution_count": 144,
     "metadata": {},
     "output_type": "execute_result"
    }
   ],
   "source": [
    "série_boxcox.describe()"
   ]
  },
  {
   "cell_type": "markdown",
   "metadata": {},
   "source": [
    "### Estacionariedade:"
   ]
  },
  {
   "cell_type": "code",
   "execution_count": null,
   "metadata": {},
   "outputs": [],
   "source": [
    "visualizar_estacionaridade(série_boxcox, 'Série Box-Cox')"
   ]
  },
  {
   "cell_type": "markdown",
   "metadata": {},
   "source": [
    "![Visualizar Estacionariedade](./Gráficos/Série%20Box-Cox/Estacionaridade.png)"
   ]
  },
  {
   "cell_type": "code",
   "execution_count": 146,
   "metadata": {},
   "outputs": [
    {
     "name": "stdout",
     "output_type": "stream",
     "text": [
      "Estatística de Teste = 1.8690289994355702\n",
      "p-valor = 0.01\n",
      "Valores Críticos:\n",
      "    10%: 0.347\n",
      "    5%: 0.463\n",
      "    2.5%: 0.574\n",
      "    1%: 0.739\n",
      "Resultado: Não temos evidências para rejeitar a hipótese nula. Então segundo o teste KPSS, a série provavelmente não é estacionária\n"
     ]
    },
    {
     "name": "stderr",
     "output_type": "stream",
     "text": [
      "C:\\Users\\Atual\\AppData\\Local\\Temp\\ipykernel_7984\\1383781043.py:2: InterpolationWarning: The test statistic is outside of the range of p-values available in the\n",
      "look-up table. The actual p-value is smaller than the p-value returned.\n",
      "\n",
      "  kpss = stattools.kpss(série)\n"
     ]
    }
   ],
   "source": [
    "teste_KPSS(série_boxcox)"
   ]
  },
  {
   "cell_type": "code",
   "execution_count": 147,
   "metadata": {},
   "outputs": [
    {
     "name": "stdout",
     "output_type": "stream",
     "text": [
      "Estatística ADF: -3.3129671697156997\n",
      "Valor p: 0.014308698631174052\n",
      "Valores críticos:\n",
      "   1%: -3.4339840952648695\n",
      "   5%: -2.8631452508003057\n",
      "   10%: -2.567624583142913\n",
      "Resultado: Temos evidencias contra a hipótese nula. Então segundo o teste de Dickey-Fuller Aumentado, a série provavelmente é estacionária\n"
     ]
    }
   ],
   "source": [
    "teste_adfuller(série_boxcox)"
   ]
  },
  {
   "cell_type": "markdown",
   "metadata": {},
   "source": [
    "&emsp;&emsp; Como esperado, essa transformação também não melhorou a estacionariedade da série. Como as duas transformações anteriores, essa transformação é feita para melhorar a normalidade da série, e não a estacionariedade.\n",
    "\n",
    "### Normalidade:"
   ]
  },
  {
   "cell_type": "code",
   "execution_count": null,
   "metadata": {},
   "outputs": [],
   "source": [
    "visualizar_normalidade(série_boxcox, 'Série Box-Cox')"
   ]
  },
  {
   "cell_type": "markdown",
   "metadata": {},
   "source": [
    "![Normal QQ Plot](./Gráficos/Série%20Box-Cox/Normal%20QQ%20Plot.png)\n",
    "![Histograma](./Gráficos/Série%20Box-Cox/Histograma.png)\n",
    "\n",
    "&emsp;&emsp; O resultado da transformação Box-Cox foi o melhor até agora. A série parece ter se aproximado mais de uma distribuição normal em relação às outras transformações. Para confirmar, vamos utilizar o teste de Shapiro-Wilk."
   ]
  },
  {
   "cell_type": "code",
   "execution_count": 149,
   "metadata": {},
   "outputs": [
    {
     "name": "stdout",
     "output_type": "stream",
     "text": [
      "Estatística de Teste = 0.997368574142456\n",
      "p-valor = 0.0037319986149668694\n",
      "Resultado: Temos evidências para rejeitar a hipótese nula. Então segundo o teste de Shapiro-Wilk, a série provavelmente não possui distribuição Normal\n"
     ]
    }
   ],
   "source": [
    "teste_shapiro(série_boxcox)"
   ]
  },
  {
   "cell_type": "markdown",
   "metadata": {},
   "source": [
    "&emsp;&emsp; Infelizmente, a transformação por Box-Cox também não resolveu completamente o problema da normalidade da série. Mesmo assim o resultado se aproximou bastante do ideal.\n",
    "\n",
    "### Desfazendo a Transformação:\n",
    "&emsp;&emsp; Para invertermos a transformação, basta fazermos a inversa da função Box-Cox."
   ]
  },
  {
   "cell_type": "code",
   "execution_count": 152,
   "metadata": {},
   "outputs": [],
   "source": [
    "def Inverter_BoxCox(série, lambda_encontrado):\n",
    "    if lambda_encontrado == 0: return np.exp(série)\n",
    "    else: return (série * lambda_encontrado + 1) ** (1 / lambda_encontrado)\n",
    "\n",
    "série_invertida = Inverter_BoxCox(série_boxcox, lambda_encontrado)"
   ]
  },
  {
   "cell_type": "code",
   "execution_count": 153,
   "metadata": {},
   "outputs": [
    {
     "data": {
      "text/plain": [
       "data\n",
       "2013-01-01    13.0\n",
       "2013-01-02    11.0\n",
       "2013-01-03    14.0\n",
       "2013-01-04    13.0\n",
       "2013-01-05    10.0\n",
       "dtype: float64"
      ]
     },
     "metadata": {},
     "output_type": "display_data"
    },
    {
     "data": {
      "text/plain": [
       "data\n",
       "2013-01-01    13\n",
       "2013-01-02    11\n",
       "2013-01-03    14\n",
       "2013-01-04    13\n",
       "2013-01-05    10\n",
       "Name: itens_vendidos, dtype: int64"
      ]
     },
     "metadata": {},
     "output_type": "display_data"
    }
   ],
   "source": [
    "display(série_invertida.head())\n",
    "display(série.head())"
   ]
  },
  {
   "cell_type": "markdown",
   "metadata": {},
   "source": [
    "<h2 align=\"center\"><b> MinMaxScaler </b></h2>\n",
    "\n",
    "&emsp;&emsp; Por fim, mas não menos importante, temos o MinMaxScaler. Diferentemente de todas as transformações anteriores, essa transformação não melhora a estacionariedade ou a normalidade da série.\n",
    "\n",
    "&emsp;&emsp; Essa transformação não beneficia os modelos que vamos utilizar nesse projeto, mas é uma transformação muito útil para modelos de aprendizado de máquina. O objetivo dessa transformação é colocar todos os valores numéricos da série entre 0 e 1. Isso é especialmente útil quando os dados possuem escalas muito diferentes, pois isso pode prejudicar o aprendizado de máquina. \n",
    "\n",
    "A fórmula utilizada é: $X_{norm} = \\frac{X - X_{min}}{X_{max} - X_{min}}$\n",
    "\n",
    "&emsp;&emsp; Uma observação importante é a utilização do método `reshape(-1, 1)` para que a função funcione corretamente no nosso caso. Isso é necessário pois a função espera um array bidimensional, mas como estamos trabalhando com uma série temporal univariada, o array é unidimensional."
   ]
  },
  {
   "cell_type": "code",
   "execution_count": 154,
   "metadata": {},
   "outputs": [],
   "source": [
    "padronizador = skpp.MinMaxScaler()\n",
    "série_minmax = padronizador.fit_transform(série.values.reshape(-1, 1))\n",
    "série_minmax = pd.Series(série_minmax[:, 0], index = série.index)"
   ]
  },
  {
   "cell_type": "code",
   "execution_count": 155,
   "metadata": {},
   "outputs": [
    {
     "data": {
      "text/plain": [
       "data\n",
       "2013-01-01    0.195652\n",
       "2013-01-02    0.152174\n",
       "2013-01-03    0.217391\n",
       "2013-01-04    0.195652\n",
       "2013-01-05    0.130435\n",
       "dtype: float64"
      ]
     },
     "execution_count": 155,
     "metadata": {},
     "output_type": "execute_result"
    }
   ],
   "source": [
    "série_minmax.head()"
   ]
  },
  {
   "cell_type": "code",
   "execution_count": 156,
   "metadata": {},
   "outputs": [
    {
     "data": {
      "text/plain": [
       "count    1826.000000\n",
       "mean        0.347207\n",
       "std         0.146544\n",
       "min         0.000000\n",
       "25%         0.239130\n",
       "50%         0.326087\n",
       "75%         0.434783\n",
       "max         1.000000\n",
       "dtype: float64"
      ]
     },
     "execution_count": 156,
     "metadata": {},
     "output_type": "execute_result"
    }
   ],
   "source": [
    "série_minmax.describe()"
   ]
  },
  {
   "cell_type": "markdown",
   "metadata": {},
   "source": [
    "### Estacionariedade:"
   ]
  },
  {
   "cell_type": "code",
   "execution_count": null,
   "metadata": {},
   "outputs": [],
   "source": [
    "visualizar_estacionaridade(série_minmax, 'Série MinMaxScaler')"
   ]
  },
  {
   "cell_type": "markdown",
   "metadata": {},
   "source": [
    "![Visualizar Estacionariedade](./Gráficos/Série%20MinMaxScaler/Estacionaridade.png)"
   ]
  },
  {
   "cell_type": "code",
   "execution_count": 55,
   "metadata": {},
   "outputs": [
    {
     "name": "stdout",
     "output_type": "stream",
     "text": [
      "Estatística de Teste = 1.8914252783255971\n",
      "p-valor = 0.01\n",
      "Valores Críticos:\n",
      "    10%: 0.347\n",
      "    5%: 0.463\n",
      "    2.5%: 0.574\n",
      "    1%: 0.739\n",
      "Resultado: Não temos evidências para rejeitar a hipótese nula. Então segundo o teste KPSS, a série provavelmente não é estacionária\n"
     ]
    },
    {
     "name": "stderr",
     "output_type": "stream",
     "text": [
      "C:\\Users\\Atual\\AppData\\Local\\Temp\\ipykernel_7984\\1383781043.py:2: InterpolationWarning: The test statistic is outside of the range of p-values available in the\n",
      "look-up table. The actual p-value is smaller than the p-value returned.\n",
      "\n",
      "  kpss = stattools.kpss(série)\n"
     ]
    }
   ],
   "source": [
    "teste_KPSS(série_minmax)"
   ]
  },
  {
   "cell_type": "code",
   "execution_count": 56,
   "metadata": {},
   "outputs": [
    {
     "name": "stdout",
     "output_type": "stream",
     "text": [
      "Estatística ADF: -3.157670556332835\n",
      "Valor p: 0.022569380626569536\n",
      "Valores críticos:\n",
      "   1%: -3.4339840952648695\n",
      "   5%: -2.8631452508003057\n",
      "   10%: -2.567624583142913\n",
      "Resultado: Temos evidencias contra a hipótese nula. Então segundo o teste de Dickey-Fuller Aumentado, a série provavelmente é estacionária\n"
     ]
    }
   ],
   "source": [
    "teste_adfuller(série_minmax)"
   ]
  },
  {
   "cell_type": "markdown",
   "metadata": {},
   "source": [
    "&emsp;&emsp; Como esperado, essa transformação basicamente não alterou a estacionariedade da série.\n",
    "\n",
    "### Normalidade:"
   ]
  },
  {
   "cell_type": "code",
   "execution_count": null,
   "metadata": {},
   "outputs": [],
   "source": [
    "visualizar_normalidade(série_minmax, 'Série MinMaxScaler')"
   ]
  },
  {
   "cell_type": "markdown",
   "metadata": {},
   "source": [
    "![Normal QQ Plot](./Gráficos/Série%20MinMaxScaler/Normal%20QQ%20Plot.png)\n",
    "![Histograma](./Gráficos/Série%20MinMaxScaler/Histograma.png)"
   ]
  },
  {
   "cell_type": "code",
   "execution_count": 160,
   "metadata": {},
   "outputs": [
    {
     "name": "stdout",
     "output_type": "stream",
     "text": [
      "Estatística de Teste = 0.9879128336906433\n",
      "p-valor = 3.0621737784342073e-11\n",
      "Resultado: Temos evidências para rejeitar a hipótese nula. Então segundo o teste de Shapiro-Wilk, a série provavelmente não possui distribuição Normal\n"
     ]
    }
   ],
   "source": [
    "teste_shapiro(série_minmax)"
   ]
  },
  {
   "cell_type": "markdown",
   "metadata": {},
   "source": [
    "&emsp;&emsp; Assim como a estacionariedade, essa transformação basicamente não alterou a normalidade da série. A unica diferença é que a escala do eixo x do gráfico mudou.\n",
    "\n",
    "### Desfazendo a Transformação:\n",
    "&emsp;&emsp; Para invertermos a transformação, basta utilizarmos a função `inverse_transform()` do sklearn.preprocessing no padronizador que utilizamos para fazer a transformação."
   ]
  },
  {
   "cell_type": "code",
   "execution_count": 161,
   "metadata": {},
   "outputs": [],
   "source": [
    "série_invertida = padronizador.inverse_transform(série_minmax.values.reshape(-1, 1))\n",
    "série_invertida = pd.Series(série_invertida[:, 0], index = série.index)"
   ]
  },
  {
   "cell_type": "code",
   "execution_count": 162,
   "metadata": {},
   "outputs": [
    {
     "data": {
      "text/plain": [
       "data\n",
       "2013-01-01    13.0\n",
       "2013-01-02    11.0\n",
       "2013-01-03    14.0\n",
       "2013-01-04    13.0\n",
       "2013-01-05    10.0\n",
       "dtype: float64"
      ]
     },
     "metadata": {},
     "output_type": "display_data"
    },
    {
     "data": {
      "text/plain": [
       "data\n",
       "2013-01-01    13\n",
       "2013-01-02    11\n",
       "2013-01-03    14\n",
       "2013-01-04    13\n",
       "2013-01-05    10\n",
       "Name: itens_vendidos, dtype: int64"
      ]
     },
     "metadata": {},
     "output_type": "display_data"
    }
   ],
   "source": [
    "display(série_invertida.head())\n",
    "display(série.head())"
   ]
  },
  {
   "cell_type": "markdown",
   "metadata": {},
   "source": [
    "<h2 align=\"center\"><b> Conclusão do Pré-Processamento </b></h2>\n",
    "&emsp;&emsp; A série original possui problemas na estacionariedade e na normalidade. Como cada transformação resolve um desses problemas, vamos utilizar duas transformações. A diferenciação foi a única que resultou em uma melhora na estacionariedade da série, enquanto a transformação utilizando o método Box-Cox demonstrou ser a mais eficaz para se aproximar de uma distribuição normal. Quanto ao MinMaxScaler, não será aplicado neste projeto, uma vez que nenhum dos nossos modelos se beneficiaria dessa transformação."
   ]
  },
  {
   "cell_type": "code",
   "execution_count": 163,
   "metadata": {},
   "outputs": [
    {
     "name": "stdout",
     "output_type": "stream",
     "text": [
      "Lambda encontrado: 0.576185039143375\n"
     ]
    }
   ],
   "source": [
    "def Transformar_Série(série):\n",
    "    série_transformada, lambda_encontrado = stats.boxcox(série)\n",
    "    série_transformada = pd.Series(série_transformada, index = série.index)\n",
    "    print(f'Lambda encontrado: {lambda_encontrado}')\n",
    "\n",
    "    série_transformada = série_transformada.diff().dropna()\n",
    "    return série_transformada, lambda_encontrado\n",
    "\n",
    "série_transformada, lambda_encontrado = Transformar_Série(série)"
   ]
  },
  {
   "cell_type": "code",
   "execution_count": 164,
   "metadata": {},
   "outputs": [
    {
     "data": {
      "text/plain": [
       "data\n",
       "2013-01-02   -0.698170\n",
       "2013-01-03    1.030070\n",
       "2013-01-04   -0.331900\n",
       "2013-01-05   -1.067405\n",
       "2013-01-06    0.724493\n",
       "dtype: float64"
      ]
     },
     "execution_count": 164,
     "metadata": {},
     "output_type": "execute_result"
    }
   ],
   "source": [
    "série_transformada.head()"
   ]
  },
  {
   "cell_type": "code",
   "execution_count": 165,
   "metadata": {},
   "outputs": [
    {
     "data": {
      "text/plain": [
       "count    1825.000000\n",
       "mean        0.001623\n",
       "std         2.005487\n",
       "min        -7.231687\n",
       "25%        -1.290260\n",
       "50%         0.000000\n",
       "75%         1.337940\n",
       "max         6.171877\n",
       "dtype: float64"
      ]
     },
     "execution_count": 165,
     "metadata": {},
     "output_type": "execute_result"
    }
   ],
   "source": [
    "série_transformada.describe()"
   ]
  },
  {
   "cell_type": "markdown",
   "metadata": {},
   "source": [
    "### Estacionariedade:"
   ]
  },
  {
   "cell_type": "code",
   "execution_count": null,
   "metadata": {},
   "outputs": [],
   "source": [
    "visualizar_estacionaridade(série_transformada, 'Série Transformada Final')"
   ]
  },
  {
   "cell_type": "markdown",
   "metadata": {},
   "source": [
    "![Visualizar Estacionariedade](./Gráficos/Série%20Diferenciada/Estacionaridade.png)"
   ]
  },
  {
   "cell_type": "code",
   "execution_count": 167,
   "metadata": {},
   "outputs": [
    {
     "name": "stdout",
     "output_type": "stream",
     "text": [
      "Estatística de Teste = 0.026638890198529906\n",
      "p-valor = 0.1\n",
      "Valores Críticos:\n",
      "    10%: 0.347\n",
      "    5%: 0.463\n",
      "    2.5%: 0.574\n",
      "    1%: 0.739\n",
      "Resultado: Temos evidências para rejeitar a hipótese nula. Então segundo o teste KPSS, a série provavelmente é estacionária\n"
     ]
    },
    {
     "name": "stderr",
     "output_type": "stream",
     "text": [
      "C:\\Users\\Atual\\AppData\\Local\\Temp\\ipykernel_7984\\1383781043.py:2: InterpolationWarning: The test statistic is outside of the range of p-values available in the\n",
      "look-up table. The actual p-value is greater than the p-value returned.\n",
      "\n",
      "  kpss = stattools.kpss(série)\n"
     ]
    }
   ],
   "source": [
    "teste_KPSS(série_transformada)"
   ]
  },
  {
   "cell_type": "code",
   "execution_count": 78,
   "metadata": {},
   "outputs": [
    {
     "name": "stdout",
     "output_type": "stream",
     "text": [
      "Estatística ADF: -12.60636138570757\n",
      "Valor p: 1.692462406965177e-23\n",
      "Valores críticos:\n",
      "   1%: -3.4339840952648695\n",
      "   5%: -2.8631452508003057\n",
      "   10%: -2.567624583142913\n",
      "Resultado: Temos evidencias contra a hipótese nula. Então segundo o teste de Dickey-Fuller Aumentado, a série provavelmente é estacionária\n"
     ]
    }
   ],
   "source": [
    "teste_adfuller(série_transformada)"
   ]
  },
  {
   "cell_type": "markdown",
   "metadata": {},
   "source": [
    "&emsp;&emsp; Os testes de estacionariedade concordam que a série é estacionária após as duas transformações.\n",
    "\n",
    "### Normalidade:"
   ]
  },
  {
   "cell_type": "code",
   "execution_count": null,
   "metadata": {},
   "outputs": [],
   "source": [
    "visualizar_normalidade(série_transformada, 'Série Transformada Final')"
   ]
  },
  {
   "cell_type": "markdown",
   "metadata": {},
   "source": [
    "![Normal QQ Plot](./Gráficos/Série%20Transformada%20Final/Normal%20QQ%20Plot.png)\n",
    "![Histograma](./Gráficos/Série%20Transformada%20Final/Histograma.png)"
   ]
  },
  {
   "cell_type": "code",
   "execution_count": 169,
   "metadata": {},
   "outputs": [
    {
     "name": "stdout",
     "output_type": "stream",
     "text": [
      "Estatística de Teste = 0.9954820871353149\n",
      "p-valor = 2.6225739929941483e-05\n",
      "Resultado: Temos evidências para rejeitar a hipótese nula. Então segundo o teste de Shapiro-Wilk, a série provavelmente não possui distribuição Normal\n"
     ]
    }
   ],
   "source": [
    "teste_shapiro(série_transformada)"
   ]
  },
  {
   "cell_type": "markdown",
   "metadata": {},
   "source": [
    "&emsp;&emsp; Infelizmente, a combinação não conseguiu resolver completamente os problemas da série. Ainda assim, a série transformada está significativamente melhor que a original, e isso deve ajudar bastante no desempenho dos modelos.\n",
    "\n",
    "### Desfazendo as Transformações:\n",
    "&emsp;&emsp; Para invertermos as transformações, basta aplicarmos as inversas na ordem inversa. Como aplicamos a transformação Box-Cox e depois a diferenciação, devemos aplicar a inversa da diferenciação e depois a inversa da transformação Box-Cox."
   ]
  },
  {
   "cell_type": "code",
   "execution_count": 170,
   "metadata": {},
   "outputs": [],
   "source": [
    "def Inverter_Transformação(série_transformada, lambda_encontrado, valor_inicial):\n",
    "    série_invertida = [stats.boxcox(valor_inicial, lambda_encontrado)]\n",
    "    for i in range(0, len(série_transformada)):\n",
    "        série_invertida.append(série_invertida[i] + série_transformada[i])\n",
    "    série_invertida = pd.Series(série_invertida[1:], index = série_transformada.index).dropna()\n",
    "\n",
    "    if lambda_encontrado == 0: return np.exp(série_invertida)\n",
    "    else: return (série_invertida * lambda_encontrado + 1) ** (1 / lambda_encontrado)\n",
    "\n",
    "série_invertida = Inverter_Transformação(série_transformada, lambda_encontrado, série.iloc[0])"
   ]
  },
  {
   "cell_type": "code",
   "execution_count": 171,
   "metadata": {},
   "outputs": [
    {
     "data": {
      "text/plain": [
       "data\n",
       "2013-01-02    11.0\n",
       "2013-01-03    14.0\n",
       "2013-01-04    13.0\n",
       "2013-01-05    10.0\n",
       "2013-01-06    12.0\n",
       "dtype: float64"
      ]
     },
     "metadata": {},
     "output_type": "display_data"
    },
    {
     "data": {
      "text/plain": [
       "data\n",
       "2013-01-01    13\n",
       "2013-01-02    11\n",
       "2013-01-03    14\n",
       "2013-01-04    13\n",
       "2013-01-05    10\n",
       "Name: itens_vendidos, dtype: int64"
      ]
     },
     "metadata": {},
     "output_type": "display_data"
    }
   ],
   "source": [
    "display(série_invertida.head()) # A informação do primeiro elemento é perdida na Diferenciação\n",
    "display(série.head())"
   ]
  }
 ],
 "metadata": {
  "kernelspec": {
   "display_name": "Python 3",
   "language": "python",
   "name": "python3"
  },
  "language_info": {
   "codemirror_mode": {
    "name": "ipython",
    "version": 3
   },
   "file_extension": ".py",
   "mimetype": "text/x-python",
   "name": "python",
   "nbconvert_exporter": "python",
   "pygments_lexer": "ipython3",
   "version": "3.11.4"
  }
 },
 "nbformat": 4,
 "nbformat_minor": 2
}
