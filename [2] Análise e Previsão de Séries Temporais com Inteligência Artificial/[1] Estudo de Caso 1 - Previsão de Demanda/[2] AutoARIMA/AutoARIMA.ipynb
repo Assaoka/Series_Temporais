{
  "cells": [
    {
      "cell_type": "markdown",
      "metadata": {},
      "source": [
        "<h1 align = \"center\"><b> AutoARIMA </b></h1>"
      ]
    },
    {
      "cell_type": "code",
      "execution_count": 2,
      "metadata": {
        "id": "Rxw6omVscYyQ"
      },
      "outputs": [],
      "source": [
        "import numpy as np\n",
        "import pandas as pd\n",
        "import seaborn as sns\n",
        "import scipy.stats as stats\n",
        "\n",
        "import matplotlib.pyplot as plt\n",
        "from matplotlib.pylab import rcParams\n",
        "rcParams['figure.figsize'] = 15, 6"
      ]
    },
    {
      "cell_type": "code",
      "execution_count": 33,
      "metadata": {
        "id": "vyd4WnJ7corj"
      },
      "outputs": [],
      "source": [
        "tabela_vendas = pd.read_csv('../Demanda Diária.csv', index_col = 0, parse_dates = ['data'])\n",
        "tabela_vendas = tabela_vendas.loc[tabela_vendas['loja'] == 1]\n",
        "tabela_vendas = tabela_vendas.loc[tabela_vendas['produto'] == 1]\n",
        "tabela_vendas = tabela_vendas.drop(['loja', 'produto'], axis = 1)\n",
        "\n",
        "série_vendas = pd.Series(tabela_vendas['itens_vendidos'], index = tabela_vendas.index)\n",
        "série_vendas = série_vendas.asfreq('D')"
      ]
    },
    {
      "cell_type": "code",
      "execution_count": 34,
      "metadata": {},
      "outputs": [
        {
          "name": "stdout",
          "output_type": "stream",
          "text": [
            "Lambda encontrado: 0.576185039143375\n"
          ]
        }
      ],
      "source": [
        "def Transformar_Série(série):\n",
        "\tsérie_transformada, lambda_encontrado = stats.boxcox(série)\n",
        "\tsérie_transformada = pd.Series(série_transformada, index = série.index)\n",
        "\tprint(f'Lambda encontrado: {lambda_encontrado}')\n",
        "\n",
        "\tsérie_transformada = série_transformada.diff().dropna()\n",
        "\treturn série_transformada, lambda_encontrado\n",
        "\n",
        "série_transformada, lambda_encontrado = Transformar_Série(série_vendas)"
      ]
    },
    {
      "cell_type": "code",
      "execution_count": 35,
      "metadata": {},
      "outputs": [],
      "source": [
        "série_treino = série_transformada.iloc[:-31]\n",
        "série_teste = série_transformada.iloc[-31:]"
      ]
    },
    {
      "cell_type": "markdown",
      "metadata": {},
      "source": [
        "<h2 align = \"center\"><b> Criando o Modelo </b></h2>"
      ]
    },
    {
      "cell_type": "code",
      "execution_count": 36,
      "metadata": {
        "colab": {
          "base_uri": "https://localhost:8080/"
        },
        "id": "BqicBms6fPi7",
        "outputId": "a0fd9ddf-2fd5-4b6c-e133-be63994d1eb3"
      },
      "outputs": [
        {
          "name": "stdout",
          "output_type": "stream",
          "text": [
            "Performing stepwise search to minimize aic\n",
            " ARIMA(2,0,2)(1,0,1)[7] intercept   : AIC=inf, Time=9.52 sec\n",
            " ARIMA(0,0,0)(0,0,0)[7] intercept   : AIC=7575.045, Time=0.06 sec\n",
            " ARIMA(1,0,0)(1,0,0)[7] intercept   : AIC=7047.593, Time=0.54 sec\n",
            " ARIMA(0,0,1)(0,0,1)[7] intercept   : AIC=6504.436, Time=1.02 sec\n",
            " ARIMA(0,0,0)(0,0,0)[7]             : AIC=7573.045, Time=0.04 sec\n",
            " ARIMA(0,0,1)(0,0,0)[7] intercept   : AIC=6611.624, Time=0.43 sec\n",
            " ARIMA(0,0,1)(1,0,1)[7] intercept   : AIC=inf, Time=5.89 sec\n",
            " ARIMA(0,0,1)(0,0,2)[7] intercept   : AIC=6436.165, Time=2.42 sec\n",
            " ARIMA(0,0,1)(1,0,2)[7] intercept   : AIC=inf, Time=8.12 sec\n",
            " ARIMA(0,0,0)(0,0,2)[7] intercept   : AIC=7418.483, Time=1.36 sec\n",
            " ARIMA(1,0,1)(0,0,2)[7] intercept   : AIC=6427.902, Time=3.63 sec\n",
            " ARIMA(1,0,1)(0,0,1)[7] intercept   : AIC=6496.602, Time=3.25 sec\n",
            " ARIMA(1,0,1)(1,0,2)[7] intercept   : AIC=6187.119, Time=11.79 sec\n",
            " ARIMA(1,0,1)(1,0,1)[7] intercept   : AIC=inf, Time=7.15 sec\n",
            " ARIMA(1,0,1)(2,0,2)[7] intercept   : AIC=6157.734, Time=11.42 sec\n",
            " ARIMA(1,0,1)(2,0,1)[7] intercept   : AIC=inf, Time=11.32 sec\n",
            " ARIMA(0,0,1)(2,0,2)[7] intercept   : AIC=inf, Time=11.11 sec\n",
            " ARIMA(1,0,0)(2,0,2)[7] intercept   : AIC=inf, Time=14.11 sec\n",
            " ARIMA(2,0,1)(2,0,2)[7] intercept   : AIC=inf, Time=14.76 sec\n",
            " ARIMA(1,0,2)(2,0,2)[7] intercept   : AIC=inf, Time=14.93 sec\n",
            " ARIMA(0,0,0)(2,0,2)[7] intercept   : AIC=inf, Time=9.45 sec\n",
            " ARIMA(0,0,2)(2,0,2)[7] intercept   : AIC=inf, Time=13.82 sec\n",
            " ARIMA(2,0,0)(2,0,2)[7] intercept   : AIC=inf, Time=14.17 sec\n",
            " ARIMA(2,0,2)(2,0,2)[7] intercept   : AIC=inf, Time=16.22 sec\n",
            " ARIMA(1,0,1)(2,0,2)[7]             : AIC=inf, Time=5.26 sec\n",
            "\n",
            "Best model:  ARIMA(1,0,1)(2,0,2)[7] intercept\n",
            "Total fit time: 191.809 seconds\n"
          ]
        }
      ],
      "source": [
        "from pmdarima import auto_arima\n",
        "modelo_AutoARIMA = auto_arima(série_treino, trace = True, stepwise = True, seasonal = True, stationary = True, m = 7)"
      ]
    },
    {
      "cell_type": "code",
      "execution_count": 37,
      "metadata": {},
      "outputs": [
        {
          "name": "stdout",
          "output_type": "stream",
          "text": [
            "                                       SARIMAX Results                                        \n",
            "==============================================================================================\n",
            "Dep. Variable:                                      y   No. Observations:                 1794\n",
            "Model:             SARIMAX(1, 0, 1)x(2, 0, [1, 2], 7)   Log Likelihood               -3070.867\n",
            "Date:                                Mon, 15 Jan 2024   AIC                           6157.734\n",
            "Time:                                        23:25:52   BIC                           6201.672\n",
            "Sample:                                    01-02-2013   HQIC                          6173.956\n",
            "                                         - 11-30-2017                                         \n",
            "Covariance Type:                                  opg                                         \n",
            "==============================================================================\n",
            "                 coef    std err          z      P>|z|      [0.025      0.975]\n",
            "------------------------------------------------------------------------------\n",
            "intercept     -0.0003      0.000     -0.778      0.436      -0.001       0.000\n",
            "ar.L1          0.0553      0.028      1.982      0.047       0.001       0.110\n",
            "ma.L1         -0.9151      0.012    -78.549      0.000      -0.938      -0.892\n",
            "ar.S.L7        0.1372      0.883      0.155      0.877      -1.594       1.868\n",
            "ar.S.L14       0.8377      0.872      0.961      0.337      -0.872       2.547\n",
            "ma.S.L7       -0.0735      0.893     -0.082      0.934      -1.823       1.676\n",
            "ma.S.L14      -0.7759      0.824     -0.942      0.346      -2.391       0.839\n",
            "sigma2         1.8809      0.065     28.848      0.000       1.753       2.009\n",
            "===================================================================================\n",
            "Ljung-Box (L1) (Q):                   0.33   Jarque-Bera (JB):                 9.20\n",
            "Prob(Q):                              0.57   Prob(JB):                         0.01\n",
            "Heteroskedasticity (H):               1.02   Skew:                            -0.16\n",
            "Prob(H) (two-sided):                  0.78   Kurtosis:                         3.14\n",
            "===================================================================================\n",
            "\n",
            "Warnings:\n",
            "[1] Covariance matrix calculated using the outer product of gradients (complex-step).\n"
          ]
        }
      ],
      "source": [
        "resultado_AutoARIMA = modelo_AutoARIMA.fit(série_treino) # ARIMA(1,0,1)(2,0,2)[7]\n",
        "print(resultado_AutoARIMA.summary())"
      ]
    },
    {
      "cell_type": "markdown",
      "metadata": {},
      "source": [
        "<h2 align = \"center\"><b> Análise de Resíduos </b></h2>"
      ]
    },
    {
      "cell_type": "code",
      "execution_count": null,
      "metadata": {},
      "outputs": [],
      "source": [
        "resíduo = resultado_AutoARIMA.resid() # Obtendo os resíduos\n",
        "resíduo.plot() # Plotando o resíduo\n",
        "plt.show()"
      ]
    },
    {
      "cell_type": "markdown",
      "metadata": {},
      "source": [
        "![Resíduos](./Gráficos/Resíduos.png)"
      ]
    },
    {
      "cell_type": "markdown",
      "metadata": {},
      "source": [
        "### `Normalidade:`"
      ]
    },
    {
      "cell_type": "code",
      "execution_count": null,
      "metadata": {},
      "outputs": [],
      "source": [
        "def visualizar_normalidade(série, nome_série = 'Série'):\n",
        "    stats.probplot(série, dist = 'norm', plot = plt)\n",
        "    plt.title(f'Normal QQ Plot - {nome_série}') \n",
        "    plt.show()\n",
        "\n",
        "    sns.histplot(série, kde = True)\n",
        "    plt.title(f'Histograma - {nome_série}')\n",
        "    plt.show()\n",
        "\n",
        "visualizar_normalidade(resíduo, 'Resíduo')"
      ]
    },
    {
      "cell_type": "markdown",
      "metadata": {},
      "source": [
        "![Normal QQ Plot](./Gráficos/Normal%20QQ%20Plot.png)\n",
        "![Histograma](./Gráficos/Histograma.png)"
      ]
    },
    {
      "cell_type": "code",
      "execution_count": 40,
      "metadata": {},
      "outputs": [
        {
          "name": "stdout",
          "output_type": "stream",
          "text": [
            "Estatística de Teste = 0.9977275729179382\n",
            "p-valor = 0.01187205221503973\n",
            "Resultado: Temos evidências para rejeitar a hipótese nula. Então segundo o teste de Shapiro-Wilk, a série provavelmente não possui distribuição Normal\n"
          ]
        }
      ],
      "source": [
        "def teste_shapiro(série):\n",
        "    e, p = stats.shapiro(série)\n",
        "    print(f'Estatística de Teste = {e}')\n",
        "    print(f'p-valor = {p}')\n",
        "    print(f'Resultado: {\"Não temos evidências para rejeitar a hipótese nula. Então segundo o teste de Shapiro-Wilk, a série provavelmente possui distribuição Normal\" if (p > 0.05) else \"Temos evidências para rejeitar a hipótese nula. Então segundo o teste de Shapiro-Wilk, a série provavelmente não possui distribuição Normal\"}')\n",
        "\n",
        "teste_shapiro(resíduo)"
      ]
    },
    {
      "cell_type": "markdown",
      "metadata": {},
      "source": [
        "&emsp;&emsp; O teste de normalidade de Shapiro-Wilk nos diz que o provavelmente os resíduos não possuem uma distribuição normal, mas olhando o p-valor e os graficos é possível observar que se aproximam bastante de uma distribuição normal. Vamos então assumir que o modelo foi aprovado neste teste.\n",
        "\n",
        "### `Autocorrelação:`"
      ]
    },
    {
      "cell_type": "code",
      "execution_count": null,
      "metadata": {},
      "outputs": [],
      "source": [
        "from statsmodels.graphics.tsaplots import plot_acf, plot_pacf\n",
        "def visualizar_autocorrelação(série, nome_série = 'Série'):\n",
        "    plot_acf(série, lags = 20)\n",
        "    plt.title(f'Função de Autocorrelação - {nome_série}')\n",
        "    plt.show()\n",
        "\n",
        "    plot_pacf(série, lags = 20)\n",
        "    plt.title(f'Função de Autocorrelação Parcial - {nome_série}')\n",
        "    plt.show()\n",
        "\n",
        "visualizar_autocorrelação(resíduo, 'Resíduo')"
      ]
    },
    {
      "cell_type": "markdown",
      "metadata": {},
      "source": [
        "![Função de Autocorrelação](./Gráficos/Função%20de%20Autocorrelação.png)\n",
        "![Função de Autocorrelação Parcial](./Gráficos/Função%20de%20Autocorrelação%20Parcial.png)"
      ]
    },
    {
      "cell_type": "markdown",
      "metadata": {},
      "source": [
        "&emsp;&emsp; Os gráficos apontam que os resíduos não possuem autocorrelação, o que é um ótimo sinal.\n",
        "\n",
        "<h2 align = \"center\"><b> Previsão </b></h2>"
      ]
    },
    {
      "cell_type": "code",
      "execution_count": 85,
      "metadata": {},
      "outputs": [],
      "source": [
        "previsão = resultado_AutoARIMA.predict(n_periods = 31) # Previsão para os próximo mês"
      ]
    },
    {
      "cell_type": "code",
      "execution_count": null,
      "metadata": {},
      "outputs": [],
      "source": [
        "plt.plot(série_transformada, label = 'Série Original')\n",
        "plt.plot(série_transformada - resíduo, label = 'Resíduo')\n",
        "plt.plot(previsão, label = 'Previsão', color = 'red')\n",
        "plt.title('Previsão - Modelo AutoARIMA')\n",
        "plt.legend(loc = 'best')\n",
        "plt.show()"
      ]
    },
    {
      "cell_type": "markdown",
      "metadata": {},
      "source": [
        "![Previsão](./Gráficos/Previsão.png)\n",
        "<h2 align = \"center\"><b> Conclusão </b></h2>"
      ]
    },
    {
      "cell_type": "code",
      "execution_count": 86,
      "metadata": {},
      "outputs": [],
      "source": [
        "def Inverter_Transformação(série_transformada, lambda_encontrado, valor_inicial):\n",
        "    série_invertida = [stats.boxcox(valor_inicial, lambda_encontrado)]\n",
        "    for i in range(0, len(série_transformada)):\n",
        "        série_invertida.append(série_invertida[i] + série_transformada[i])\n",
        "        if (i == 3): display(série_invertida)\n",
        "    série_invertida = pd.Series(série_invertida[1:], index = série_transformada.index).dropna()\n",
        "\n",
        "    if lambda_encontrado == 0: return np.exp(série_invertida)\n",
        "    else: return (série_invertida * lambda_encontrado + 1) ** (1 / lambda_encontrado)"
      ]
    },
    {
      "cell_type": "code",
      "execution_count": null,
      "metadata": {},
      "outputs": [],
      "source": [
        "resultado = Inverter_Transformação(previsão, lambda_encontrado, série_vendas.iloc[-32])"
      ]
    },
    {
      "cell_type": "code",
      "execution_count": 98,
      "metadata": {},
      "outputs": [
        {
          "name": "stdout",
          "output_type": "stream",
          "text": [
            "             Previsão  Valor Real\n",
            "2017-12-01  21.976535          19\n",
            "2017-12-02  25.963313          16\n",
            "2017-12-03  24.829842          31\n",
            "2017-12-04  17.041296           7\n",
            "2017-12-05  19.950590          20\n",
            "2017-12-06  19.948458          17\n",
            "2017-12-07  21.647763          18\n",
            "2017-12-08  22.213948          17\n",
            "2017-12-09  25.676535          27\n",
            "2017-12-10  24.596830          20\n",
            "2017-12-11  16.930856          20\n",
            "2017-12-12  19.686548          13\n",
            "2017-12-13  19.838534          17\n",
            "2017-12-14  21.389798          14\n",
            "2017-12-15  22.044282          16\n",
            "2017-12-16  25.518433          15\n",
            "2017-12-17  24.408387          22\n",
            "2017-12-18  16.871028          19\n",
            "2017-12-19  19.672265           7\n",
            "2017-12-20  19.690185          16\n",
            "2017-12-21  21.316318          12\n",
            "2017-12-22  21.875950           6\n",
            "2017-12-23  25.229888          18\n",
            "2017-12-24  24.179171          19\n",
            "2017-12-25  16.763302          13\n",
            "2017-12-26  19.442520          16\n",
            "2017-12-27  19.570462          14\n",
            "2017-12-28  21.083418          19\n",
            "2017-12-29  21.703513          15\n",
            "2017-12-30  25.050286          27\n",
            "2017-12-31  23.982565          23\n"
          ]
        }
      ],
      "source": [
        "resultado = pd.DataFrame({'Previsão': resultado, 'Valor Real': série_vendas.iloc[-31:]})\n",
        "print(resultado)"
      ]
    },
    {
      "cell_type": "code",
      "execution_count": 89,
      "metadata": {},
      "outputs": [
        {
          "name": "stdout",
          "output_type": "stream",
          "text": [
            "RMSE:  6.467341012744788\n",
            "MAE:  5.3701466006061045\n"
          ]
        }
      ],
      "source": [
        "from sklearn.metrics import mean_squared_error, mean_absolute_error\n",
        "\n",
        "print('RMSE: ', mean_squared_error(resultado['Valor Real'], resultado['Previsão'], squared = False))\n",
        "print('MAE: ', mean_absolute_error(resultado['Valor Real'], resultado['Previsão']))"
      ]
    }
  ],
  "metadata": {
    "colab": {
      "provenance": []
    },
    "kernelspec": {
      "display_name": "Python 3",
      "name": "python3"
    },
    "language_info": {
      "codemirror_mode": {
        "name": "ipython",
        "version": 3
      },
      "file_extension": ".py",
      "mimetype": "text/x-python",
      "name": "python",
      "nbconvert_exporter": "python",
      "pygments_lexer": "ipython3",
      "version": "3.11.4"
    }
  },
  "nbformat": 4,
  "nbformat_minor": 0
}
