{
 "cells": [
  {
   "cell_type": "markdown",
   "metadata": {},
   "source": [
    "<h1 align = \"center\"><b> XGBoost </b></h1>\n",
    "\n",
    "&emsp;&emsp; Nesta etapa, vamos analisar e transformar os dados para que possamos aplicar o modelo XGBoost."
   ]
  },
  {
   "cell_type": "code",
   "execution_count": 350,
   "metadata": {},
   "outputs": [],
   "source": [
    "import pandas as pd\n",
    "import numpy as np\n",
    "import holidays\n",
    "import matplotlib.pyplot as plt\n",
    "\n",
    "from matplotlib.pylab import rcParams\n",
    "rcParams['figure.figsize'] = 15, 6"
   ]
  },
  {
   "cell_type": "code",
   "execution_count": 351,
   "metadata": {},
   "outputs": [],
   "source": [
    "df = pd.read_csv('../Demanda Diária.csv', index_col = 0, parse_dates = True)\n",
    "df = df.loc[df['loja'] == 1]\n",
    "df = df.loc[df['produto'] == 1]\n",
    "df = df.drop(['loja', 'produto'], axis = 1)"
   ]
  },
  {
   "cell_type": "markdown",
   "metadata": {},
   "source": [
    "<h2 align = \"center\"><b> Desmembrando a Data </b></h2>"
   ]
  },
  {
   "cell_type": "code",
   "execution_count": 352,
   "metadata": {},
   "outputs": [],
   "source": [
    "def DesmembrarData (df):\n",
    "    df['Dia'] = df.index.day\n",
    "    df['Mês'] = df.index.month\n",
    "    df['Ano'] = df.index.year\n",
    "    df['Dia_da_Semana'] = df.index.dayofweek # Domingo = 1\n",
    "    df['Dia_do_Ano'] = df.index.dayofyear\n",
    "    df['Fim_de_Semana'] = df['Dia_da_Semana'].map(lambda x: True if x >= 5 else False)\n",
    "    df['start_of_month'] = df.index.is_month_start.astype(int)\n",
    "    df['end_of_month'] = df.index.is_month_end.astype(int)\n",
    "\n",
    "    br_holidays = holidays.Brazil()\n",
    "    df['Feriado'] = df.index.map(lambda x: True if x in br_holidays else False)\n",
    "\n",
    "    df = pd.get_dummies(df, columns = ['Dia', 'Mês', 'Dia_da_Semana'])     \n",
    "    df = df.rename(columns={'Dia_da_Semana_0': 'Segunda', 'Dia_da_Semana_1': 'Terça', 'Dia_da_Semana_2': 'Quarta', 'Dia_da_Semana_3': 'Quinta', 'Dia_da_Semana_4': 'Sexta', 'Dia_da_Semana_5': 'Sábado', 'Dia_da_Semana_6': 'Domingo'})\n",
    "    \n",
    "    return df"
   ]
  },
  {
   "cell_type": "code",
   "execution_count": 353,
   "metadata": {},
   "outputs": [],
   "source": [
    "df = DesmembrarData(df)"
   ]
  },
  {
   "cell_type": "markdown",
   "metadata": {},
   "source": [
    "<h2 align = \"center\"><b> Desmembrando o Número de Vendas </b></h2>"
   ]
  },
  {
   "cell_type": "code",
   "execution_count": 354,
   "metadata": {},
   "outputs": [],
   "source": [
    "def CriarLags (df):\n",
    "    Lista_Lags = [1, 2, 3, 4, 5, 6, 7, 28, 29, 30, 31, 61, 122, 183, 365] # Ultima semana, 1 mês, 2 meses, 3 meses, 6 meses, 1 ano, 2 anos\n",
    "    for i in Lista_Lags:\n",
    "        df['Lag_' + str(i)] = df['itens_vendidos'].shift(i) # Lag = Atraso, é o valor da variável em um determinado período de tempo anterior\n",
    "    return df\n",
    "\n",
    "def CriarMédiasMóveis (df): # Usando Lag_1 para Evitar Vazamento de Dados\n",
    "    Janelas = [3, 4, 5, 6, 7, 28, 29, 30, 31, 61, 122, 183, 365]  \n",
    "    for i in Janelas: df['Media_Movel_' + str(i)] = df['Lag_1'].rolling(i).mean()\n",
    "    for i in Janelas: df['EWM_' + str(i)] = df['Lag_1'].ewm(span = i).mean() # Média Móvel Ponderada Exponencialmente\n",
    "    return df"
   ]
  },
  {
   "cell_type": "code",
   "execution_count": 355,
   "metadata": {},
   "outputs": [],
   "source": [
    "df = CriarLags(df)\n",
    "df = CriarMédiasMóveis(df)"
   ]
  },
  {
   "cell_type": "markdown",
   "metadata": {},
   "source": [
    "<h2 align = \"center\"><b> Criando o Modelo XGBoost </b></h2>"
   ]
  },
  {
   "cell_type": "code",
   "execution_count": 356,
   "metadata": {},
   "outputs": [],
   "source": [
    "x_treino = df.iloc[:-31].drop('itens_vendidos', axis = 1)\n",
    "x_teste = df.iloc[-31:].drop('itens_vendidos', axis = 1)\n",
    "y_treino = df.iloc[:-31]['itens_vendidos']\n",
    "y_teste = df.iloc[-31:]['itens_vendidos']\n",
    "\n",
    "tam_val = len(x_treino) * 0.2\n",
    "x_val = x_treino[-int(tam_val):]\n",
    "y_val = y_treino[-int(tam_val):]\n",
    "x_treino = x_treino[:-int(tam_val)]\n",
    "y_treino = y_treino[:-int(tam_val)]"
   ]
  },
  {
   "cell_type": "code",
   "execution_count": 357,
   "metadata": {},
   "outputs": [],
   "source": [
    "import xgboost as xgb\n",
    "modelo = xgb.XGBRegressor()"
   ]
  },
  {
   "cell_type": "code",
   "execution_count": 358,
   "metadata": {},
   "outputs": [
    {
     "name": "stdout",
     "output_type": "stream",
     "text": [
      "[0]\tvalidation_0-rmse:6.56068\n",
      "[1]\tvalidation_0-rmse:5.92052\n",
      "[2]\tvalidation_0-rmse:5.52610\n",
      "[3]\tvalidation_0-rmse:5.33006\n",
      "[4]\tvalidation_0-rmse:5.28278\n",
      "[5]\tvalidation_0-rmse:5.21523\n",
      "[6]\tvalidation_0-rmse:5.17751\n"
     ]
    },
    {
     "name": "stderr",
     "output_type": "stream",
     "text": [
      "`eval_metric` in `fit` method is deprecated for better compatibility with scikit-learn, use `eval_metric` in constructor or`set_params` instead.\n",
      "`early_stopping_rounds` in `fit` method is deprecated for better compatibility with scikit-learn, use `early_stopping_rounds` in constructor or`set_params` instead.\n"
     ]
    },
    {
     "name": "stdout",
     "output_type": "stream",
     "text": [
      "[7]\tvalidation_0-rmse:5.12941\n",
      "[8]\tvalidation_0-rmse:5.12256\n",
      "[9]\tvalidation_0-rmse:5.14737\n",
      "[10]\tvalidation_0-rmse:5.16664\n",
      "[11]\tvalidation_0-rmse:5.19360\n",
      "[12]\tvalidation_0-rmse:5.21887\n",
      "[13]\tvalidation_0-rmse:5.23734\n",
      "[14]\tvalidation_0-rmse:5.23341\n",
      "[15]\tvalidation_0-rmse:5.23937\n",
      "[16]\tvalidation_0-rmse:5.24920\n",
      "[17]\tvalidation_0-rmse:5.25217\n",
      "[18]\tvalidation_0-rmse:5.26667\n",
      "[19]\tvalidation_0-rmse:5.27117\n",
      "[20]\tvalidation_0-rmse:5.28358\n",
      "[21]\tvalidation_0-rmse:5.30677\n",
      "[22]\tvalidation_0-rmse:5.30271\n",
      "[23]\tvalidation_0-rmse:5.30451\n",
      "[24]\tvalidation_0-rmse:5.31497\n",
      "[25]\tvalidation_0-rmse:5.31168\n",
      "[26]\tvalidation_0-rmse:5.31949\n",
      "[27]\tvalidation_0-rmse:5.33002\n"
     ]
    },
    {
     "data": {
      "text/html": [
       "<style>#sk-container-id-13 {color: black;}#sk-container-id-13 pre{padding: 0;}#sk-container-id-13 div.sk-toggleable {background-color: white;}#sk-container-id-13 label.sk-toggleable__label {cursor: pointer;display: block;width: 100%;margin-bottom: 0;padding: 0.3em;box-sizing: border-box;text-align: center;}#sk-container-id-13 label.sk-toggleable__label-arrow:before {content: \"▸\";float: left;margin-right: 0.25em;color: #696969;}#sk-container-id-13 label.sk-toggleable__label-arrow:hover:before {color: black;}#sk-container-id-13 div.sk-estimator:hover label.sk-toggleable__label-arrow:before {color: black;}#sk-container-id-13 div.sk-toggleable__content {max-height: 0;max-width: 0;overflow: hidden;text-align: left;background-color: #f0f8ff;}#sk-container-id-13 div.sk-toggleable__content pre {margin: 0.2em;color: black;border-radius: 0.25em;background-color: #f0f8ff;}#sk-container-id-13 input.sk-toggleable__control:checked~div.sk-toggleable__content {max-height: 200px;max-width: 100%;overflow: auto;}#sk-container-id-13 input.sk-toggleable__control:checked~label.sk-toggleable__label-arrow:before {content: \"▾\";}#sk-container-id-13 div.sk-estimator input.sk-toggleable__control:checked~label.sk-toggleable__label {background-color: #d4ebff;}#sk-container-id-13 div.sk-label input.sk-toggleable__control:checked~label.sk-toggleable__label {background-color: #d4ebff;}#sk-container-id-13 input.sk-hidden--visually {border: 0;clip: rect(1px 1px 1px 1px);clip: rect(1px, 1px, 1px, 1px);height: 1px;margin: -1px;overflow: hidden;padding: 0;position: absolute;width: 1px;}#sk-container-id-13 div.sk-estimator {font-family: monospace;background-color: #f0f8ff;border: 1px dotted black;border-radius: 0.25em;box-sizing: border-box;margin-bottom: 0.5em;}#sk-container-id-13 div.sk-estimator:hover {background-color: #d4ebff;}#sk-container-id-13 div.sk-parallel-item::after {content: \"\";width: 100%;border-bottom: 1px solid gray;flex-grow: 1;}#sk-container-id-13 div.sk-label:hover label.sk-toggleable__label {background-color: #d4ebff;}#sk-container-id-13 div.sk-serial::before {content: \"\";position: absolute;border-left: 1px solid gray;box-sizing: border-box;top: 0;bottom: 0;left: 50%;z-index: 0;}#sk-container-id-13 div.sk-serial {display: flex;flex-direction: column;align-items: center;background-color: white;padding-right: 0.2em;padding-left: 0.2em;position: relative;}#sk-container-id-13 div.sk-item {position: relative;z-index: 1;}#sk-container-id-13 div.sk-parallel {display: flex;align-items: stretch;justify-content: center;background-color: white;position: relative;}#sk-container-id-13 div.sk-item::before, #sk-container-id-13 div.sk-parallel-item::before {content: \"\";position: absolute;border-left: 1px solid gray;box-sizing: border-box;top: 0;bottom: 0;left: 50%;z-index: -1;}#sk-container-id-13 div.sk-parallel-item {display: flex;flex-direction: column;z-index: 1;position: relative;background-color: white;}#sk-container-id-13 div.sk-parallel-item:first-child::after {align-self: flex-end;width: 50%;}#sk-container-id-13 div.sk-parallel-item:last-child::after {align-self: flex-start;width: 50%;}#sk-container-id-13 div.sk-parallel-item:only-child::after {width: 0;}#sk-container-id-13 div.sk-dashed-wrapped {border: 1px dashed gray;margin: 0 0.4em 0.5em 0.4em;box-sizing: border-box;padding-bottom: 0.4em;background-color: white;}#sk-container-id-13 div.sk-label label {font-family: monospace;font-weight: bold;display: inline-block;line-height: 1.2em;}#sk-container-id-13 div.sk-label-container {text-align: center;}#sk-container-id-13 div.sk-container {/* jupyter's `normalize.less` sets `[hidden] { display: none; }` but bootstrap.min.css set `[hidden] { display: none !important; }` so we also need the `!important` here to be able to override the default hidden behavior on the sphinx rendered scikit-learn.org. See: https://github.com/scikit-learn/scikit-learn/issues/21755 */display: inline-block !important;position: relative;}#sk-container-id-13 div.sk-text-repr-fallback {display: none;}</style><div id=\"sk-container-id-13\" class=\"sk-top-container\"><div class=\"sk-text-repr-fallback\"><pre>XGBRegressor(base_score=None, booster=None, callbacks=None,\n",
       "             colsample_bylevel=None, colsample_bynode=None,\n",
       "             colsample_bytree=None, device=None, early_stopping_rounds=None,\n",
       "             enable_categorical=False, eval_metric=None, feature_types=None,\n",
       "             gamma=None, grow_policy=None, importance_type=None,\n",
       "             interaction_constraints=None, learning_rate=None, max_bin=None,\n",
       "             max_cat_threshold=None, max_cat_to_onehot=None,\n",
       "             max_delta_step=None, max_depth=None, max_leaves=None,\n",
       "             min_child_weight=None, missing=nan, monotone_constraints=None,\n",
       "             multi_strategy=None, n_estimators=None, n_jobs=None,\n",
       "             num_parallel_tree=None, random_state=None, ...)</pre><b>In a Jupyter environment, please rerun this cell to show the HTML representation or trust the notebook. <br />On GitHub, the HTML representation is unable to render, please try loading this page with nbviewer.org.</b></div><div class=\"sk-container\" hidden><div class=\"sk-item\"><div class=\"sk-estimator sk-toggleable\"><input class=\"sk-toggleable__control sk-hidden--visually\" id=\"sk-estimator-id-13\" type=\"checkbox\" checked><label for=\"sk-estimator-id-13\" class=\"sk-toggleable__label sk-toggleable__label-arrow\">XGBRegressor</label><div class=\"sk-toggleable__content\"><pre>XGBRegressor(base_score=None, booster=None, callbacks=None,\n",
       "             colsample_bylevel=None, colsample_bynode=None,\n",
       "             colsample_bytree=None, device=None, early_stopping_rounds=None,\n",
       "             enable_categorical=False, eval_metric=None, feature_types=None,\n",
       "             gamma=None, grow_policy=None, importance_type=None,\n",
       "             interaction_constraints=None, learning_rate=None, max_bin=None,\n",
       "             max_cat_threshold=None, max_cat_to_onehot=None,\n",
       "             max_delta_step=None, max_depth=None, max_leaves=None,\n",
       "             min_child_weight=None, missing=nan, monotone_constraints=None,\n",
       "             multi_strategy=None, n_estimators=None, n_jobs=None,\n",
       "             num_parallel_tree=None, random_state=None, ...)</pre></div></div></div></div></div>"
      ],
      "text/plain": [
       "XGBRegressor(base_score=None, booster=None, callbacks=None,\n",
       "             colsample_bylevel=None, colsample_bynode=None,\n",
       "             colsample_bytree=None, device=None, early_stopping_rounds=None,\n",
       "             enable_categorical=False, eval_metric=None, feature_types=None,\n",
       "             gamma=None, grow_policy=None, importance_type=None,\n",
       "             interaction_constraints=None, learning_rate=None, max_bin=None,\n",
       "             max_cat_threshold=None, max_cat_to_onehot=None,\n",
       "             max_delta_step=None, max_depth=None, max_leaves=None,\n",
       "             min_child_weight=None, missing=nan, monotone_constraints=None,\n",
       "             multi_strategy=None, n_estimators=None, n_jobs=None,\n",
       "             num_parallel_tree=None, random_state=None, ...)"
      ]
     },
     "execution_count": 358,
     "metadata": {},
     "output_type": "execute_result"
    }
   ],
   "source": [
    "modelo.fit(x_treino, y_treino, eval_set = [(x_val, y_val)], verbose = True, eval_metric = 'rmse', early_stopping_rounds = 20)"
   ]
  },
  {
   "cell_type": "code",
   "execution_count": 359,
   "metadata": {},
   "outputs": [],
   "source": [
    "previsoes = modelo.predict(x_teste)\n",
    "previsoes = pd.DataFrame(previsoes, index = x_teste.index)"
   ]
  },
  {
   "cell_type": "code",
   "execution_count": 360,
   "metadata": {},
   "outputs": [],
   "source": [
    "resultado = pd.concat([y_teste, previsoes], axis = 1)\n",
    "resultado.columns = ['Valor Real', 'Previsão']"
   ]
  },
  {
   "cell_type": "code",
   "execution_count": 362,
   "metadata": {},
   "outputs": [
    {
     "name": "stdout",
     "output_type": "stream",
     "text": [
      "RMSE:  4.980819486922266\n",
      "MAE:  3.876465243677939\n"
     ]
    }
   ],
   "source": [
    "from sklearn.metrics import mean_squared_error, mean_absolute_error\n",
    "print('RMSE: ', mean_squared_error(resultado['Valor Real'], resultado['Previsão'], squared = False))\n",
    "print('MAE: ', mean_absolute_error(resultado['Valor Real'], resultado['Previsão']))"
   ]
  },
  {
   "cell_type": "code",
   "execution_count": null,
   "metadata": {},
   "outputs": [],
   "source": [
    "plt.plot(resultado['Valor Real'], label = 'Valor Real')\n",
    "plt.plot(resultado['Previsão'], label = 'Previsão')\n",
    "plt.legend(loc = 'best')\n",
    "plt.title('Previsão XGBoost')\n",
    "plt.show()"
   ]
  },
  {
   "cell_type": "markdown",
   "metadata": {},
   "source": [
    "<img src=\"./Gráficos/Previsão%20XGBoost.png\" alt=\"Previsão XGBoost\" width=\"100%\">\n",
    "\n",
    "\n",
    "<h2 align = \"center\"><b> Aprendendo com o Modelo XGBoost </b></h2>\n",
    "\n",
    "&emsp;&emsp; Nesta fase, vamos utilizar o SHAP para aprofundar nossa compreensão sobre como o modelo XGBoost está absorvendo informações dos dados. Essa abordagem é benéfica, pois, além de oferecer insights sobre o comportamento do modelo, proporciona maior confiança nos resultados, permitindo identificar quais variáveis desempenham um papel mais crucial na tomada de decisões."
   ]
  },
  {
   "cell_type": "code",
   "execution_count": null,
   "metadata": {},
   "outputs": [],
   "source": [
    "import shap # Dependendo do gráfico pode ser necessário executar: shap.initjs() \n",
    "explainer = shap.Explainer(modelo)"
   ]
  },
  {
   "cell_type": "code",
   "execution_count": 344,
   "metadata": {},
   "outputs": [],
   "source": [
    "shap_values = explainer(x_treino)"
   ]
  },
  {
   "cell_type": "code",
   "execution_count": 345,
   "metadata": {},
   "outputs": [],
   "source": [
    "# Cria uma ordem para as variáveis\n",
    "col2num = {col: i for i, col in enumerate(x_treino.columns)}\n",
    "order = list(map(col2num.get, x_treino.columns))"
   ]
  },
  {
   "cell_type": "code",
   "execution_count": null,
   "metadata": {},
   "outputs": [],
   "source": [
    "shap.plots.beeswarm(shap_values, max_display = 200, order = order)"
   ]
  },
  {
   "cell_type": "markdown",
   "metadata": {},
   "source": [
    "<img src=\"./Gráficos/Beeswarm.png\" alt=\"Beeswarm\" width=\"100%\">\n",
    "\n",
    "`Sem impacto evidente:` Ano, start_of_month, end_of_month\n",
    "\n",
    "`Dia do Ano:` Aparentemente, após o meio do ano, as vendas diminuem. Esses valores estão com impacto negativo na previsão do modelo.\n",
    "\n",
    "`Fim de Semana:` Sem sombra de dúvidas é um fator importante. Aparentemente, as vendas são maiores nos finais de semana.\n",
    "\n",
    "`Feriado:` Aparentemente, as vendas são maiores nos feriados. Porém, o impacto é pequeno.\n",
    "\n",
    "`Dia do Mês:` Visualmente, o dia do mês impacta nas vendas (cada um com um peso diferente).\n",
    "\n",
    "`Meses:` Como ocorre com o dia do mês, cada mês tem um impacto diferente nas vendas.\n",
    "\n",
    "`Dias da Semana:` De segunda a quinta as vendas são menores, sendo segunda o dia com maior impacto negativo. Sexta, sábado e domingo as vendas são maiores, sendo sexta o dia com maior impacto positivo.\n",
    "\n",
    "`Lag:` Visualmente, quanto maior o número de vendas nos dias anteriores, maior o número de vendas no dia atual (quando o valor é acima da média impacta positivamente, quando é abaixo impacta negativamente). O único que não segue essa regra é o Lag_122, que tem um impacto contrário ao esperado.\n",
    "\n",
    "`Média Móvel:` Aparentemente, a média segue a mesma regra do Lag.\n",
    "\n",
    "`EWM:` Aparentemente, segue a mesma regra do lag e da média móvel. Porém, o impacto é menor."
   ]
  },
  {
   "cell_type": "code",
   "execution_count": null,
   "metadata": {},
   "outputs": [],
   "source": [
    "shap.plots.waterfall(shap_values[-1], max_display = 20)"
   ]
  },
  {
   "cell_type": "code",
   "execution_count": null,
   "metadata": {},
   "outputs": [],
   "source": [
    "shap.plots.scatter(shap_values[:,'Dia_do_Ano'])"
   ]
  },
  {
   "cell_type": "markdown",
   "metadata": {},
   "source": [
    "<img src=\"./Gráficos/Scatter - Dia do Ano.png\" alt=\"Scatter - Dia do Ano\" width=\"100%\">"
   ]
  },
  {
   "cell_type": "code",
   "execution_count": null,
   "metadata": {},
   "outputs": [],
   "source": [
    "shap.plots.scatter(shap_values[:,'Feriado'], color=shap_values[:,'Dia_do_Ano'])"
   ]
  },
  {
   "cell_type": "markdown",
   "metadata": {},
   "source": [
    "<img src=\"./Gráficos/Scatter - Feriado.png\" alt=\"Scatter - Feriado\" width=\"100%\">"
   ]
  }
 ],
 "metadata": {
  "kernelspec": {
   "display_name": "Python 3",
   "language": "python",
   "name": "python3"
  },
  "language_info": {
   "codemirror_mode": {
    "name": "ipython",
    "version": 3
   },
   "file_extension": ".py",
   "mimetype": "text/x-python",
   "name": "python",
   "nbconvert_exporter": "python",
   "pygments_lexer": "ipython3",
   "version": "3.11.4"
  }
 },
 "nbformat": 4,
 "nbformat_minor": 2
}
