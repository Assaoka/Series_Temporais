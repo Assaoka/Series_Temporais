{
  "cells": [
    {
      "cell_type": "markdown",
      "metadata": {
        "id": "pJ6pmIHF8i5z"
      },
      "source": [
        "<h1 align = \"center\"><b> Facebook Prophet </b></h1>\n",
        "\n",
        "&emsp;&emsp; Este estudo de caso aborda os fundamentos da análise de séries temporais. O objetivo é construir dois modelos capazes de prever a demanda de um produto e, assim, auxiliar uma empresa a otimizar suas decisões logísticas.\n",
        "\n",
        "&emsp;&emsp; Nesta etapa, vamos analisar e transformar os dados para que possamos aplicar o modelo Facebook Prophet.\n"
      ]
    },
    {
      "cell_type": "code",
      "execution_count": 2,
      "metadata": {
        "id": "1eFiwy8q8Ftq"
      },
      "outputs": [],
      "source": [
        "import pandas as pd\n",
        "import numpy as np\n",
        "import matplotlib.pyplot as plt\n",
        "\n",
        "from matplotlib.pylab import rcParams\n",
        "rcParams['figure.figsize'] = 15, 6\n"
      ]
    },
    {
      "cell_type": "code",
      "execution_count": 3,
      "metadata": {
        "id": "uIud8hHS8qHa"
      },
      "outputs": [],
      "source": [
        "tabela_vendas = pd.read_csv('../Demanda Diária.csv', index_col = 0)\n",
        "tabela_vendas = tabela_vendas.loc[tabela_vendas['loja'] == 1]\n",
        "tabela_vendas = tabela_vendas.loc[tabela_vendas['produto'] == 1]\n",
        "tabela_vendas = tabela_vendas.drop(['loja', 'produto'], axis = 1)\n",
        "\n",
        "série_vendas = pd.Series(tabela_vendas['itens_vendidos'], index = tabela_vendas.index)"
      ]
    },
    {
      "cell_type": "markdown",
      "metadata": {},
      "source": [
        "<h2 align = \"center\"><b> Criando o Modelo </b></h2>\n",
        "\n",
        "&emsp;&emsp; O prophet impõe que os dados estejam em um dataframe com duas colunas (ds e y). A coluna ds deve conter as datas em formato YYYY-MM-DD e a coluna y deve conter os valores que queremos prever."
      ]
    },
    {
      "cell_type": "code",
      "execution_count": 9,
      "metadata": {},
      "outputs": [],
      "source": [
        "from prophet import Prophet"
      ]
    },
    {
      "cell_type": "code",
      "execution_count": 39,
      "metadata": {},
      "outputs": [],
      "source": [
        "tabela_prophet = pd.DataFrame({'ds': série_vendas.index, 'y': série_vendas.values})\n",
        "\n",
        "tabela_prophet_treino = tabela_prophet.iloc[:-31] # Retirando o último mês do treino\n",
        "tabela_prophet_teste = tabela_prophet.iloc[-31:] # Utilizando o último mês como teste"
      ]
    },
    {
      "cell_type": "code",
      "execution_count": 40,
      "metadata": {},
      "outputs": [
        {
          "name": "stderr",
          "output_type": "stream",
          "text": [
            "16:39:30 - cmdstanpy - INFO - Chain [1] start processing\n",
            "16:39:31 - cmdstanpy - INFO - Chain [1] done processing\n"
          ]
        },
        {
          "data": {
            "text/plain": [
              "<prophet.forecaster.Prophet at 0x2178eba1010>"
            ]
          },
          "execution_count": 40,
          "metadata": {},
          "output_type": "execute_result"
        }
      ],
      "source": [
        "modelo = Prophet()\n",
        "modelo.fit(tabela_prophet_treino)"
      ]
    },
    {
      "cell_type": "code",
      "execution_count": 44,
      "metadata": {},
      "outputs": [],
      "source": [
        "future = modelo.make_future_dataframe(periods = 31, freq = 'D')\n",
        "previsão = modelo.predict(future)"
      ]
    },
    {
      "cell_type": "code",
      "execution_count": 54,
      "metadata": {},
      "outputs": [],
      "source": [
        "resultado = pd.concat([previsão['yhat'].tail(31), tabela_prophet_teste['y']], axis = 1).reset_index(drop = True)\n",
        "\n",
        "resultado.rename(columns={'yhat': 'Previsão', 'y': 'Valor Real'}, inplace=True)\n"
      ]
    },
    {
      "cell_type": "code",
      "execution_count": 63,
      "metadata": {},
      "outputs": [
        {
          "data": {
            "text/html": [
              "<div>\n",
              "<style scoped>\n",
              "    .dataframe tbody tr th:only-of-type {\n",
              "        vertical-align: middle;\n",
              "    }\n",
              "\n",
              "    .dataframe tbody tr th {\n",
              "        vertical-align: top;\n",
              "    }\n",
              "\n",
              "    .dataframe thead th {\n",
              "        text-align: right;\n",
              "    }\n",
              "</style>\n",
              "<table border=\"1\" class=\"dataframe\">\n",
              "  <thead>\n",
              "    <tr style=\"text-align: right;\">\n",
              "      <th></th>\n",
              "      <th>Previsão</th>\n",
              "      <th>Valor Real</th>\n",
              "    </tr>\n",
              "  </thead>\n",
              "  <tbody>\n",
              "    <tr>\n",
              "      <th>0</th>\n",
              "      <td>21.452456</td>\n",
              "      <td>19</td>\n",
              "    </tr>\n",
              "    <tr>\n",
              "      <th>1</th>\n",
              "      <td>22.882720</td>\n",
              "      <td>16</td>\n",
              "    </tr>\n",
              "    <tr>\n",
              "      <th>2</th>\n",
              "      <td>23.232690</td>\n",
              "      <td>31</td>\n",
              "    </tr>\n",
              "    <tr>\n",
              "      <th>3</th>\n",
              "      <td>14.585891</td>\n",
              "      <td>7</td>\n",
              "    </tr>\n",
              "    <tr>\n",
              "      <th>4</th>\n",
              "      <td>16.843408</td>\n",
              "      <td>20</td>\n",
              "    </tr>\n",
              "    <tr>\n",
              "      <th>5</th>\n",
              "      <td>17.052788</td>\n",
              "      <td>17</td>\n",
              "    </tr>\n",
              "    <tr>\n",
              "      <th>6</th>\n",
              "      <td>17.358283</td>\n",
              "      <td>18</td>\n",
              "    </tr>\n",
              "    <tr>\n",
              "      <th>7</th>\n",
              "      <td>18.652758</td>\n",
              "      <td>17</td>\n",
              "    </tr>\n",
              "    <tr>\n",
              "      <th>8</th>\n",
              "      <td>20.225551</td>\n",
              "      <td>27</td>\n",
              "    </tr>\n",
              "    <tr>\n",
              "      <th>9</th>\n",
              "      <td>20.748260</td>\n",
              "      <td>20</td>\n",
              "    </tr>\n",
              "    <tr>\n",
              "      <th>10</th>\n",
              "      <td>12.300689</td>\n",
              "      <td>20</td>\n",
              "    </tr>\n",
              "    <tr>\n",
              "      <th>11</th>\n",
              "      <td>14.779692</td>\n",
              "      <td>13</td>\n",
              "    </tr>\n",
              "    <tr>\n",
              "      <th>12</th>\n",
              "      <td>15.228188</td>\n",
              "      <td>17</td>\n",
              "    </tr>\n",
              "    <tr>\n",
              "      <th>13</th>\n",
              "      <td>15.785502</td>\n",
              "      <td>14</td>\n",
              "    </tr>\n",
              "    <tr>\n",
              "      <th>14</th>\n",
              "      <td>17.339401</td>\n",
              "      <td>16</td>\n",
              "    </tr>\n",
              "    <tr>\n",
              "      <th>15</th>\n",
              "      <td>19.174067</td>\n",
              "      <td>15</td>\n",
              "    </tr>\n",
              "    <tr>\n",
              "      <th>16</th>\n",
              "      <td>19.956004</td>\n",
              "      <td>22</td>\n",
              "    </tr>\n",
              "    <tr>\n",
              "      <th>17</th>\n",
              "      <td>11.760109</td>\n",
              "      <td>19</td>\n",
              "    </tr>\n",
              "    <tr>\n",
              "      <th>18</th>\n",
              "      <td>14.478625</td>\n",
              "      <td>7</td>\n",
              "    </tr>\n",
              "    <tr>\n",
              "      <th>19</th>\n",
              "      <td>15.150253</td>\n",
              "      <td>16</td>\n",
              "    </tr>\n",
              "    <tr>\n",
              "      <th>20</th>\n",
              "      <td>15.910596</td>\n",
              "      <td>12</td>\n",
              "    </tr>\n",
              "    <tr>\n",
              "      <th>21</th>\n",
              "      <td>17.644265</td>\n",
              "      <td>6</td>\n",
              "    </tr>\n",
              "    <tr>\n",
              "      <th>22</th>\n",
              "      <td>19.632920</td>\n",
              "      <td>18</td>\n",
              "    </tr>\n",
              "    <tr>\n",
              "      <th>23</th>\n",
              "      <td>20.541224</td>\n",
              "      <td>19</td>\n",
              "    </tr>\n",
              "    <tr>\n",
              "      <th>24</th>\n",
              "      <td>12.442942</td>\n",
              "      <td>13</td>\n",
              "    </tr>\n",
              "    <tr>\n",
              "      <th>25</th>\n",
              "      <td>15.229904</td>\n",
              "      <td>16</td>\n",
              "    </tr>\n",
              "    <tr>\n",
              "      <th>26</th>\n",
              "      <td>15.941110</td>\n",
              "      <td>14</td>\n",
              "    </tr>\n",
              "    <tr>\n",
              "      <th>27</th>\n",
              "      <td>16.713150</td>\n",
              "      <td>19</td>\n",
              "    </tr>\n",
              "    <tr>\n",
              "      <th>28</th>\n",
              "      <td>18.432267</td>\n",
              "      <td>15</td>\n",
              "    </tr>\n",
              "    <tr>\n",
              "      <th>29</th>\n",
              "      <td>20.382338</td>\n",
              "      <td>27</td>\n",
              "    </tr>\n",
              "    <tr>\n",
              "      <th>30</th>\n",
              "      <td>21.230759</td>\n",
              "      <td>23</td>\n",
              "    </tr>\n",
              "  </tbody>\n",
              "</table>\n",
              "</div>"
            ],
            "text/plain": [
              "     Previsão  Valor Real\n",
              "0   21.452456          19\n",
              "1   22.882720          16\n",
              "2   23.232690          31\n",
              "3   14.585891           7\n",
              "4   16.843408          20\n",
              "5   17.052788          17\n",
              "6   17.358283          18\n",
              "7   18.652758          17\n",
              "8   20.225551          27\n",
              "9   20.748260          20\n",
              "10  12.300689          20\n",
              "11  14.779692          13\n",
              "12  15.228188          17\n",
              "13  15.785502          14\n",
              "14  17.339401          16\n",
              "15  19.174067          15\n",
              "16  19.956004          22\n",
              "17  11.760109          19\n",
              "18  14.478625           7\n",
              "19  15.150253          16\n",
              "20  15.910596          12\n",
              "21  17.644265           6\n",
              "22  19.632920          18\n",
              "23  20.541224          19\n",
              "24  12.442942          13\n",
              "25  15.229904          16\n",
              "26  15.941110          14\n",
              "27  16.713150          19\n",
              "28  18.432267          15\n",
              "29  20.382338          27\n",
              "30  21.230759          23"
            ]
          },
          "metadata": {},
          "output_type": "display_data"
        }
      ],
      "source": [
        "display(resultado)"
      ]
    },
    {
      "cell_type": "code",
      "execution_count": 56,
      "metadata": {},
      "outputs": [],
      "source": [
        "from sklearn.metrics import mean_squared_error, mean_absolute_error"
      ]
    },
    {
      "cell_type": "code",
      "execution_count": 59,
      "metadata": {},
      "outputs": [
        {
          "name": "stdout",
          "output_type": "stream",
          "text": [
            "RMSE:  4.602214728606465\n",
            "MAE:  3.547750814940637\n"
          ]
        }
      ],
      "source": [
        "print('RMSE: ', mean_squared_error(resultado['Valor Real'], resultado['Previsão'], squared = False))\n",
        "print('MAE: ', mean_absolute_error(resultado['Valor Real'], resultado['Previsão']))"
      ]
    },
    {
      "cell_type": "code",
      "execution_count": null,
      "metadata": {},
      "outputs": [],
      "source": [
        "modelo.plot_components(previsão)"
      ]
    },
    {
      "cell_type": "markdown",
      "metadata": {},
      "source": [
        "![plot_components](./Gráficos/plot_components.png)"
      ]
    }
  ],
  "metadata": {
    "colab": {
      "provenance": []
    },
    "kernelspec": {
      "display_name": "Python 3",
      "name": "python3"
    },
    "language_info": {
      "codemirror_mode": {
        "name": "ipython",
        "version": 3
      },
      "file_extension": ".py",
      "mimetype": "text/x-python",
      "name": "python",
      "nbconvert_exporter": "python",
      "pygments_lexer": "ipython3",
      "version": "3.11.4"
    }
  },
  "nbformat": 4,
  "nbformat_minor": 0
}
