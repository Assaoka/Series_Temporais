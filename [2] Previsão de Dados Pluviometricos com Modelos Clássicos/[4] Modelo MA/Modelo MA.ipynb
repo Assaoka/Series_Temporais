{
 "cells": [
  {
   "cell_type": "markdown",
   "metadata": {},
   "source": [
    "<h1  align=\"center\"><b> MODELO MA </b></h1>\n",
    "\n",
    "`Objetivo Geral:` Importar a série temporal transformada dos dados pluviométricos do município de São Paulo e realizar a modelagem MA (Moving Average -> Média Móvel) para previsão.\n",
    "\n",
    "`Dados:` Os dados foram transformados na pasta [Transformação e Decomposição](../[3]%20Transformação%20e%20Decomposição%20-%20Projeto%20Chuva/) do Projeto Chuva."
   ]
  },
  {
   "cell_type": "code",
   "execution_count": 2,
   "metadata": {},
   "outputs": [],
   "source": [
    "import pandas as pd\n",
    "import numpy as np\n",
    "import matplotlib.pyplot as plt\n",
    "\n",
    "from matplotlib.pylab import rcParams\n",
    "rcParams['figure.figsize'] = 15, 6"
   ]
  },
  {
   "cell_type": "markdown",
   "metadata": {},
   "source": [
    "<h2 align=\"center\"><b> Importando Dados e Escolhendo o Modelo </b></h2>\n",
    "&emsp;&emsp; O modelo MA é outra parte do modelo ARIMA. Ele é uma combinação linear dos erros de previsão. Para escolher o melhor modelo utilizaremos o critério de informação de Akaike (AIC) que quanto menor melhor.\n",
    "\n",
    "`Observação:` O modelo MA(q) é equivalente a ARIMA(0,0,q).\n",
    "\n"
   ]
  },
  {
   "cell_type": "code",
   "execution_count": 3,
   "metadata": {},
   "outputs": [],
   "source": [
    "série_chuva = pd.read_csv('../[3] Transformação e Decomposição - Projeto Chuva/Série Transformada - Chuva Mensal.csv', sep = ';', index_col = 0)\n",
    "série_chuva = pd.Series(série_chuva['Chuva Mensal (mm)'])\n",
    "série_chuva.index = pd.date_range('1985', periods = len(série_chuva), freq = 'M')"
   ]
  },
  {
   "cell_type": "code",
   "execution_count": 4,
   "metadata": {},
   "outputs": [
    {
     "name": "stdout",
     "output_type": "stream",
     "text": [
      "ARIMA(0, 0, 1): 1577.9031699742663\n",
      "ARIMA(0, 0, 2): 1578.8492539900853\n",
      "ARIMA(0, 0, 3): 1548.8664265682196\n",
      "ARIMA(0, 0, 4): 1515.7737788215243\n",
      "ARIMA(0, 0, 5): 1468.316854938198\n",
      "ARIMA(0, 0, 6): 1422.5237584036386\n",
      "ARIMA(0, 0, 7): 1397.2722987981438\n",
      "ARIMA(0, 0, 8): 1398.101926577467\n",
      "ARIMA(0, 0, 9): 1400.0629195660995\n"
     ]
    }
   ],
   "source": [
    "from statsmodels.tsa.arima.model import ARIMA\n",
    "\n",
    "# Vendo os valores de AIC para os modelos MA(1) até MA(9). Não convém ir além disso, pois o com o aumento da ordem o tempo de processamento aumenta muito (sem grandes ganhos de AIC)\n",
    "for i in range(1, 10): \n",
    "    modelo_MA = ARIMA(série_chuva, order = (i, 0, 0))\n",
    "    resultado_MA = modelo_MA.fit()\n",
    "    print(f'ARIMA(0, 0, {i}): {resultado_MA.aic}')"
   ]
  },
  {
   "cell_type": "code",
   "execution_count": 5,
   "metadata": {},
   "outputs": [
    {
     "name": "stdout",
     "output_type": "stream",
     "text": [
      "                               SARIMAX Results                                \n",
      "==============================================================================\n",
      "Dep. Variable:      Chuva Mensal (mm)   No. Observations:                  456\n",
      "Model:                 ARIMA(0, 0, 7)   Log Likelihood                -734.598\n",
      "Date:                Sun, 24 Dec 2023   AIC                           1487.195\n",
      "Time:                        20:07:20   BIC                           1524.298\n",
      "Sample:                    01-31-1985   HQIC                          1501.811\n",
      "                         - 12-31-2022                                         \n",
      "Covariance Type:                  opg                                         \n",
      "==============================================================================\n",
      "                 coef    std err          z      P>|z|      [0.025      0.975]\n",
      "------------------------------------------------------------------------------\n",
      "const          4.7805      0.028    173.067      0.000       4.726       4.835\n",
      "ma.L1          0.2691      0.046      5.842      0.000       0.179       0.359\n",
      "ma.L2          0.1999      0.046      4.348      0.000       0.110       0.290\n",
      "ma.L3         -0.0494      0.048     -1.030      0.303      -0.143       0.045\n",
      "ma.L4         -0.1419      0.046     -3.077      0.002      -0.232      -0.052\n",
      "ma.L5         -0.2258      0.048     -4.717      0.000      -0.320      -0.132\n",
      "ma.L6         -0.3124      0.048     -6.513      0.000      -0.406      -0.218\n",
      "ma.L7         -0.3099      0.050     -6.255      0.000      -0.407      -0.213\n",
      "sigma2         1.4639      0.094     15.556      0.000       1.279       1.648\n",
      "===================================================================================\n",
      "Ljung-Box (L1) (Q):                   0.60   Jarque-Bera (JB):                28.69\n",
      "Prob(Q):                              0.44   Prob(JB):                         0.00\n",
      "Heteroskedasticity (H):               1.20   Skew:                            -0.56\n",
      "Prob(H) (two-sided):                  0.27   Kurtosis:                         3.52\n",
      "===================================================================================\n",
      "\n",
      "Warnings:\n",
      "[1] Covariance matrix calculated using the outer product of gradients (complex-step).\n"
     ]
    }
   ],
   "source": [
    "modelo_MA = ARIMA(série_chuva, order = (0, 0, 7)) # O modelo ARIMA(0, 0, 7) foi o que apresentou o menor AIC. Obs: Esse modelo tem AIC menor que o modelo ARINA(7, 0, 0) que criamos anteriormente.\n",
    "resultado_MA = modelo_MA.fit() # Treinando o modelo\n",
    "print(resultado_MA.summary()) # Sumário do modelo"
   ]
  },
  {
   "cell_type": "markdown",
   "metadata": {},
   "source": [
    "<h2 align=\"center\"><b> Análise de Resíduos </b></h2>"
   ]
  },
  {
   "cell_type": "code",
   "execution_count": null,
   "metadata": {},
   "outputs": [],
   "source": [
    "resíduo = resultado_MA.resid\n",
    "resíduo.plot() # Plotando o resíduo\n",
    "plt.show()"
   ]
  },
  {
   "cell_type": "markdown",
   "metadata": {},
   "source": [
    "![MA_Residuos](./Gráficos/MA_Residuos.png)\n",
    "\n",
    "### `Normalidade dos Resíduos:`"
   ]
  },
  {
   "cell_type": "code",
   "execution_count": 7,
   "metadata": {},
   "outputs": [],
   "source": [
    "import scipy.stats as stats\n",
    "import seaborn as sns"
   ]
  },
  {
   "cell_type": "code",
   "execution_count": null,
   "metadata": {},
   "outputs": [],
   "source": [
    "stats.probplot(resíduo, dist = 'norm', plot = plt)\n",
    "plt.title('Normal QQ Plot - Resíduos')\n",
    "plt.show()\n",
    "\n",
    "sns.histplot(resíduo, kde = True)\n",
    "plt.title('Histograma - Resíduos')\n",
    "plt.show()"
   ]
  },
  {
   "cell_type": "markdown",
   "metadata": {},
   "source": [
    "![Normal QQ Plot - Resíduos](./Gráficos/Normal%20QQ%20Plot%20-%20Resíduos.png)\n",
    "![Histograma - Resíduos](./Gráficos/Histograma%20-%20Resíduos.png)"
   ]
  },
  {
   "cell_type": "code",
   "execution_count": 11,
   "metadata": {},
   "outputs": [
    {
     "name": "stdout",
     "output_type": "stream",
     "text": [
      "Estatística de Teste = 0.9807164669036865\n",
      "p-valor = 9.450029210711364e-06\n",
      "Resultado: Não é Normal\n"
     ]
    }
   ],
   "source": [
    "def teste_shapiro(série):\n",
    "    e, p = stats.shapiro(série)\n",
    "    print(f'Estatística de Teste = {e}')\n",
    "    print(f'p-valor = {p}')\n",
    "    print(f'Resultado: {\"É Normal\" if (p > 0.05) else \"Não é Normal\"}')\n",
    "\n",
    "teste_shapiro(resíduo)"
   ]
  },
  {
   "cell_type": "markdown",
   "metadata": {},
   "source": [
    "&emsp;&emsp; Esse modelo ficou pior que só com a transformação por raiz cúbica. Então é esperado que a previsão não seja tão boa.\n",
    "\n",
    "### `Autocorrelação dos Resíduos:`"
   ]
  },
  {
   "cell_type": "code",
   "execution_count": null,
   "metadata": {},
   "outputs": [],
   "source": [
    "from statsmodels.graphics.tsaplots import plot_acf, plot_pacf\n",
    "\n",
    "plot_acf(resíduo, lags = 20)\n",
    "plt.title('Função de Autocorrelação - Resíduos')\n",
    "plt.show()\n",
    "\n",
    "plot_pacf(resíduo, lags = 20)\n",
    "plt.title('Função de Autocorrelação Parcial - Resíduos')\n",
    "plt.show()"
   ]
  },
  {
   "cell_type": "markdown",
   "metadata": {},
   "source": [
    "![Função de Autocorrelação - Resíduos](./Gráficos/Função%20de%20Autocorrelação%20-%20Resíduos.png)\n",
    "![Função de Autocorrelação Parcial - Resíduos](./Gráficos/Função%20de%20Autocorrelação%20Parcial%20-%20Resíduos.png)\n",
    "\n",
    "&emsp;&emsp; As funções de autocorrelação mostram que os resíduos possuem correlação com os valores passados, o que é um péssimo sinal.\n",
    "\n",
    "<h2 align=\"center\"><b> Previsão </b></h2>"
   ]
  },
  {
   "cell_type": "code",
   "execution_count": 12,
   "metadata": {},
   "outputs": [],
   "source": [
    "tamanho_série = len(série_chuva) # Tamanho da série\n",
    "previsão = resultado_MA.predict(start = tamanho_série, end = tamanho_série + 11) # Previsão para os próximos 12 meses"
   ]
  },
  {
   "cell_type": "code",
   "execution_count": 14,
   "metadata": {},
   "outputs": [],
   "source": [
    "previsão2 = resultado_MA.forecast(steps = 12) # Método alternativo para previsão"
   ]
  },
  {
   "cell_type": "code",
   "execution_count": null,
   "metadata": {},
   "outputs": [],
   "source": [
    "plt.plot(série_chuva, label = 'Série Original')\n",
    "plt.plot(série_chuva - resíduo, label = 'Resíduo')\n",
    "plt.plot(previsão, label = 'Previsão')\n",
    "plt.title('Previsão - Modelo MA(7)')\n",
    "plt.legend(loc = 'best')\n",
    "plt.show()"
   ]
  },
  {
   "cell_type": "markdown",
   "metadata": {},
   "source": [
    "![Previsão - Modelo MA(7)](./Gráficos/Previsão%20-%20Modelo%20MA(7).png)\n",
    "\n",
    "&emsp;&emsp; Finalmente chegamos na previsão, mas esses valores passaram por uma transformação por raiz cúbica, então precisamos elevar os valores ao cubo para obter a previsão real.\n",
    "\n",
    "<h2 align=\"center\"><b> Finalização </b></h2>"
   ]
  },
  {
   "cell_type": "code",
   "execution_count": 13,
   "metadata": {},
   "outputs": [
    {
     "data": {
      "text/plain": [
       "2023-01-31    188.898467\n",
       "2023-02-28    173.029719\n",
       "2023-03-31    115.217687\n",
       "2023-04-30    100.401526\n",
       "2023-05-31    106.712045\n",
       "2023-06-30     98.267777\n",
       "2023-07-31    100.778937\n",
       "2023-08-31    109.251069\n",
       "2023-09-30    109.251069\n",
       "2023-10-31    109.251069\n",
       "2023-11-30    109.251069\n",
       "2023-12-31    109.251069\n",
       "Freq: M, Name: Previsão MA(7), dtype: float64"
      ]
     },
     "metadata": {},
     "output_type": "display_data"
    }
   ],
   "source": [
    "previsão_final = previsão ** 3\n",
    "previsão_final.name = 'Previsão MA(7)'\n",
    "previsão_final.to_csv('Previsão MA - Chuva Mensal.csv', sep = ';', header = True) # Salvando a previsão em um arquivo csv\n",
    "display(previsão_final)"
   ]
  }
 ],
 "metadata": {
  "kernelspec": {
   "display_name": "Python 3",
   "language": "python",
   "name": "python3"
  },
  "language_info": {
   "codemirror_mode": {
    "name": "ipython",
    "version": 3
   },
   "file_extension": ".py",
   "mimetype": "text/x-python",
   "name": "python",
   "nbconvert_exporter": "python",
   "pygments_lexer": "ipython3",
   "version": "3.11.4"
  }
 },
 "nbformat": 4,
 "nbformat_minor": 2
}
