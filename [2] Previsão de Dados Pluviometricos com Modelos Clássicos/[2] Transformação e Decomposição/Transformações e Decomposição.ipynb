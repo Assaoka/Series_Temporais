{
 "cells": [
  {
   "cell_type": "markdown",
   "metadata": {},
   "source": [
    "<h1  align=\"center\"><b> TRANSFORMAÇÃO E DECOMPOSIÇÃO </b></h1>\n",
    "\n",
    "`Objetivo Geral:` Importar a série temporal tratada dos dados pluviométricos do município de São Paulo e realizar as transformações (em busca de estacionalidade e normalidade) e decomposição (em tendência, sazonalidade e resíduo)\n",
    "\n",
    "`Dados:` Os dados foram tratados e extraídos na pasta [Tratamento de Dados](../[2]%20Tratamento%20de%20Dados%20-%20Projeto%20Chuva/) do Projeto Chuva."
   ]
  },
  {
   "cell_type": "code",
   "execution_count": 3,
   "metadata": {},
   "outputs": [],
   "source": [
    "import numpy as np\n",
    "import pandas as pd\n",
    "import matplotlib.pyplot as plt\n",
    "\n",
    "from matplotlib.pylab import rcParams\n",
    "rcParams['figure.figsize'] = 15, 6"
   ]
  },
  {
   "cell_type": "markdown",
   "metadata": {},
   "source": [
    "<h2 align=\"center\"><b> Importação e Decomposição </b></h2>"
   ]
  },
  {
   "cell_type": "code",
   "execution_count": 4,
   "metadata": {},
   "outputs": [],
   "source": [
    "série_chuva = pd.read_csv('../[2] Tratamento de Dados - Projeto Chuva/Série Tratada - Chuva Mensal.csv', sep = ';', index_col = 0)\n",
    "série_chuva = pd.Series(série_chuva['Chuva Mensal (mm)'], index = série_chuva.index)"
   ]
  },
  {
   "cell_type": "code",
   "execution_count": 6,
   "metadata": {},
   "outputs": [],
   "source": [
    "from statsmodels.tsa.seasonal import seasonal_decompose\n",
    "decomposição = seasonal_decompose(série_chuva, model = 'additive', period = 12)"
   ]
  },
  {
   "cell_type": "markdown",
   "metadata": {},
   "source": [
    "![decomposição](./Gráficos/Decomposição.png)\n",
    "\n",
    "&emsp;&emsp; O seasonal_decompose é uma função do pacote statsmodels que permite decompor uma série temporal em suas componentes: tendência, sazonalidade e resíduo. A decomposição de uma série temporal em suas componentes é uma técnica útil para análise de séries temporais, pois ajuda a entender melhor o comportamento da série e identificar padrões.\n",
    "\n",
    "&emsp;&emsp; A função calcula a média móvel da série temporal e subtrai (no caso do modelo aditivo) ou divide (no caso do modelo multiplicativo) a série original para obter a tendência. Em seguida, a função calcula a média das sazonalidades em cada período e subtrai ou divide a série para obter a componente sazonal. Por fim, a função calcula o resíduo retirando a tendência e a sazonalidade da série original."
   ]
  },
  {
   "cell_type": "markdown",
   "metadata": {},
   "source": [
    "<h2 align=\"center\"><b> Normalidade </b></h2>"
   ]
  },
  {
   "cell_type": "code",
   "execution_count": null,
   "metadata": {},
   "outputs": [],
   "source": [
    "import scipy.stats as stats\n",
    "stats.probplot(série_chuva, dist = 'norm', plot = plt)\n",
    "plt.title('Normal QQ Plot')\n",
    "plt.show()"
   ]
  },
  {
   "cell_type": "markdown",
   "metadata": {},
   "source": [
    "![Normal QQ Plot](./Gráficos/Normal%20QQ%20Plot.png)\n"
   ]
  },
  {
   "cell_type": "code",
   "execution_count": null,
   "metadata": {},
   "outputs": [],
   "source": [
    "import seaborn as sns\n",
    "sns.histplot(série_chuva, kde = True)\n",
    "plt.title('Histograma')\n",
    "plt.show()"
   ]
  },
  {
   "cell_type": "markdown",
   "metadata": {},
   "source": [
    "![Normal Histograma](./Gráficos/Histograma.png)"
   ]
  },
  {
   "cell_type": "markdown",
   "metadata": {},
   "source": [
    "&emsp;&emsp; Os gráficos acima mostram que a série provavelmente não apresenta distribuição normal. Para confirmar essa hipótese vamos realizar o teste de Shapiro-Wilk.\n",
    "\n",
    "### `Teste Shapiro-Wilk`\n",
    "&emsp;&emsp; O Teste de Shapiro-Wilk é uma ferramenta estatística utilizada para verificar se uma amostra de dados segue uma distribuição normal. O teste retorna um valor p, se esse valor for maior que o nível de significância (geralmente 0,05), dizemos que a distribuição é normal.\n",
    "\n",
    "&emsp;&emsp; No caso da série temporal não ser normal, convém tentar realizar uma transformação para que ela se aproxime de uma distribuição normal, pois isso facilita a análise e a modelagem. As transformações mais comuns são a transformação logarítmica e a transformação por raiz cúbica."
   ]
  },
  {
   "cell_type": "code",
   "execution_count": 9,
   "metadata": {},
   "outputs": [
    {
     "name": "stdout",
     "output_type": "stream",
     "text": [
      "Estatística de Teste = 0.9242801666259766\n",
      "p-valor = 2.1469944013830303e-14\n",
      "Resultado: Não é Normal\n"
     ]
    }
   ],
   "source": [
    "def teste_shapiro(série):\n",
    "    e, p = stats.shapiro(série)\n",
    "    print(f'Estatística de Teste = {e}')\n",
    "    print(f'p-valor = {p}')\n",
    "    print(f'Resultado: {\"É Normal\" if (p > 0.05) else \"Não é Normal\"}')\n",
    "\n",
    "teste_shapiro(série_chuva)"
   ]
  },
  {
   "cell_type": "markdown",
   "metadata": {},
   "source": [
    "`Transformação Logarítmica:` Não é possível realizar a transformação logarítmica, pois a série possui valores iguais a zero. Caso fosse possível, a transformação logarítmica seria realizada da seguinte forma: "
   ]
  },
  {
   "cell_type": "code",
   "execution_count": 20,
   "metadata": {},
   "outputs": [],
   "source": [
    "série_chuva_log = np.log(série_chuva)"
   ]
  },
  {
   "cell_type": "markdown",
   "metadata": {},
   "source": [
    "`Transformação por Raiz Cúbica:` A transformação por raiz cúbica não vai resolver completamente o problema de normalidade, mas vai melhorar significativamente a distribuição dos dados. Podemos realizar a transformação por raiz cúbica da seguinte forma:"
   ]
  },
  {
   "cell_type": "code",
   "execution_count": 10,
   "metadata": {},
   "outputs": [
    {
     "name": "stdout",
     "output_type": "stream",
     "text": [
      "Estatística de Teste = 0.9843666553497314\n",
      "p-valor = 7.994796033017337e-05\n",
      "Resultado: Não é Normal\n"
     ]
    }
   ],
   "source": [
    "série_chuva_cub = série_chuva ** (1/3)\n",
    "teste_shapiro(série_chuva_cub)"
   ]
  },
  {
   "cell_type": "markdown",
   "metadata": {},
   "source": [
    "![Normal QQ Plot - Transformação por Raiz Cúbica](./Gráficos/Normal%20QQ%20Plot%20-%20Transformação%20por%20Raiz%20Cúbica.png)\n",
    "![Normal Histograma - Transformação por Raiz Cúbica](./Gráficos/Histograma%20-%20Transformação%20por%20Raiz%20Cúbica.png)\n",
    "\n",
    "<h2 align=\"center\"><b> Estacionariedade </b></h2>\n",
    "\n",
    "### `Teste KPSS (Kwiatkowski-Phillips-Schmidt-Shin)`\n",
    "&emsp;&emsp; O teste KPSS é uma ferramenta estatística utilizada para avaliar a estacionariedade de uma série temporal. Uma série temporal é considerada estacionária quando sua média e variância são constantes ao longo do tempo. Se a estatística do teste for maior que o valor crítico (geralmente no 5%), dizemos que a série é não estacionária.\n",
    "\n",
    "&emsp;&emsp; No caso da série temporal não ser estacionária, convém tentar realizar uma transformação para que ela se aproxime de uma série estacionária, pois isso facilita a análise e a modelagem. "
   ]
  },
  {
   "cell_type": "code",
   "execution_count": 13,
   "metadata": {},
   "outputs": [],
   "source": [
    "import statsmodels.tsa.stattools as stattools\n",
    "def teste_KPSS(série):\n",
    "    kpss = stattools.kpss(série)\n",
    "    print(f'Estatística de Teste = {kpss[0]}')\n",
    "    print(f'p-valor = {kpss[1]}')\n",
    "    print(f'Valores Críticos:')\n",
    "    for chave, valor in kpss[3].items():\n",
    "        print(f'    {chave}: {valor}')\n",
    "    print(f'Resultado: {\"Série Estacionária\" if (kpss[0] < kpss[3][\"5%\"]) else \"Série Não Estacionária\"}')"
   ]
  },
  {
   "cell_type": "code",
   "execution_count": 14,
   "metadata": {},
   "outputs": [
    {
     "name": "stdout",
     "output_type": "stream",
     "text": [
      "Estatística de Teste = 0.01665997605880993\n",
      "p-valor = 0.1\n",
      "Valores Críticos:\n",
      "    10%: 0.347\n",
      "    5%: 0.463\n",
      "    2.5%: 0.574\n",
      "    1%: 0.739\n",
      "Resultado: Série Estacionária\n"
     ]
    },
    {
     "name": "stderr",
     "output_type": "stream",
     "text": [
      "C:\\Users\\Atual\\AppData\\Local\\Temp\\ipykernel_2516\\1965257708.py:3: InterpolationWarning: The test statistic is outside of the range of p-values available in the\n",
      "look-up table. The actual p-value is greater than the p-value returned.\n",
      "\n",
      "  kpss = stattools.kpss(série)\n"
     ]
    }
   ],
   "source": [
    "teste_KPSS(série_chuva_cub)"
   ]
  },
  {
   "cell_type": "markdown",
   "metadata": {},
   "source": [
    "&emsp;&emsp; No caso a série já é estacionária, então não é necessário realizar nenhuma transformação. Caso a série não fosse estacionária, poderíamos realizar a transformação por diferenciação, que consiste em subtrair o valor atual pelo valor anterior. A transformação por diferenciação pode ser realizada da seguinte forma:"
   ]
  },
  {
   "cell_type": "code",
   "execution_count": null,
   "metadata": {},
   "outputs": [],
   "source": [
    "série_chuva_cub_diff = série_chuva_cub.diff().dropna()\n",
    "série_chuva_cub_diff"
   ]
  },
  {
   "cell_type": "markdown",
   "metadata": {},
   "source": [
    "<h2 align=\"center\"><b> Autocorrelação </b></h2>"
   ]
  },
  {
   "cell_type": "code",
   "execution_count": null,
   "metadata": {},
   "outputs": [],
   "source": [
    "from statsmodels.graphics.tsaplots import plot_acf, plot_pacf\n",
    "plot_acf(série_chuva_cub, lags = 20)\n",
    "plt.title('Função de Autocorrelação')\n",
    "plt.show()\n",
    "\n",
    "plot_pacf(série_chuva_cub, lags = 20)\n",
    "plt.title('Função de Autocorrelação Parcial')\n",
    "plt.show()"
   ]
  },
  {
   "cell_type": "markdown",
   "metadata": {},
   "source": [
    "![Função de Autocorrelação](./Gráficos/Função%20de%20Autocorrelação.png)\n",
    "![Função de Autocorrelação Parcial](./Gráficos/Função%20de%20Autocorrelação%20Parcial.png)"
   ]
  },
  {
   "cell_type": "markdown",
   "metadata": {},
   "source": [
    "<h2 align=\"center\"><b> Finalização e Exportação </b></h2>\n",
    "&emsp;&emsp; Após a realização das transformações a série está pronta para ser utilizada na modelagem. Como a série só tinha problemas de normalidade, vamos exportar a série transformada por raiz cúbica sem diferenciação (série_chuva_cub)."
   ]
  },
  {
   "cell_type": "code",
   "execution_count": 73,
   "metadata": {},
   "outputs": [],
   "source": [
    "série_chuva_cub.to_csv('Série Transformada - Chuva Mensal.csv', sep = ';')"
   ]
  }
 ],
 "metadata": {
  "kernelspec": {
   "display_name": "Python 3",
   "language": "python",
   "name": "python3"
  },
  "language_info": {
   "codemirror_mode": {
    "name": "ipython",
    "version": 3
   },
   "file_extension": ".py",
   "mimetype": "text/x-python",
   "name": "python",
   "nbconvert_exporter": "python",
   "pygments_lexer": "ipython3",
   "version": "3.11.4"
  }
 },
 "nbformat": 4,
 "nbformat_minor": 2
}
