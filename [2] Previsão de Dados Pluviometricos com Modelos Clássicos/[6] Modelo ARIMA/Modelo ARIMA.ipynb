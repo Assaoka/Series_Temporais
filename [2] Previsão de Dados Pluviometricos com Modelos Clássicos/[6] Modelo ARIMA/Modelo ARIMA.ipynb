{
 "cells": [
  {
   "cell_type": "markdown",
   "metadata": {},
   "source": [
    "<h1  align=\"center\"><b> MODELO ARMA </b></h1>\n",
    "\n",
    "`Objetivo Geral:` Importar a série temporal transformada dos dados pluviométricos do município de São Paulo e realizar a modelagem ARIMA (Auto-Regressiva Integrada de Média Móvel) para previsão.\n",
    "\n",
    "`Dados:` Os dados foram transformados na pasta [Transformação e Decomposição](../[3]%20Transformação%20e%20Decomposição%20-%20Projeto%20Chuva/) do Projeto Chuva."
   ]
  },
  {
   "cell_type": "code",
   "execution_count": 15,
   "metadata": {},
   "outputs": [],
   "source": [
    "import pandas as pd\n",
    "import numpy as np\n",
    "import matplotlib.pyplot as plt\n",
    "\n",
    "from matplotlib.pylab import rcParams\n",
    "rcParams['figure.figsize'] = 15, 6"
   ]
  },
  {
   "cell_type": "markdown",
   "metadata": {},
   "source": [
    "<h2 align=\"center\"><b> Importando Dados e Escolhendo o Modelo </b></h2>\n",
    "&emsp;&emsp; O modelo ARIMA é a combinação do modelo ARMA com a parte de transformação por diferenciação (para tornar a série estacionária). Para escolher o melhor modelo utilizaremos o critério de informação de Akaike (AIC) que quanto menor melhor.\n",
    "\n",
    "`Observação:` ARIMA(p,d,q)."
   ]
  },
  {
   "cell_type": "code",
   "execution_count": 3,
   "metadata": {},
   "outputs": [],
   "source": [
    "série_chuva = pd.read_csv('../[3] Transformação e Decomposição - Projeto Chuva/Série Transformada - Chuva Mensal.csv', sep = ';', index_col = 0)\n",
    "série_chuva = pd.Series(série_chuva['Chuva Mensal (mm)'])\n",
    "série_chuva.index = pd.date_range('1985', periods = len(série_chuva), freq = 'M')"
   ]
  },
  {
   "cell_type": "code",
   "execution_count": 4,
   "metadata": {},
   "outputs": [
    {
     "name": "stderr",
     "output_type": "stream",
     "text": [
      "c:\\Users\\Atual\\AppData\\Local\\Programs\\Python\\Python311\\Lib\\site-packages\\statsmodels\\tsa\\statespace\\sarimax.py:966: UserWarning: Non-stationary starting autoregressive parameters found. Using zeros as starting parameters.\n",
      "  warn('Non-stationary starting autoregressive parameters'\n",
      "c:\\Users\\Atual\\AppData\\Local\\Programs\\Python\\Python311\\Lib\\site-packages\\statsmodels\\tsa\\statespace\\sarimax.py:978: UserWarning: Non-invertible starting MA parameters found. Using zeros as starting parameters.\n",
      "  warn('Non-invertible starting MA parameters found.'\n"
     ]
    },
    {
     "name": "stdout",
     "output_type": "stream",
     "text": [
      "                               SARIMAX Results                                \n",
      "==============================================================================\n",
      "Dep. Variable:      Chuva Mensal (mm)   No. Observations:                  456\n",
      "Model:                 ARIMA(2, 1, 2)   Log Likelihood                -785.057\n",
      "Date:                Sun, 24 Dec 2023   AIC                           1580.113\n",
      "Time:                        20:00:18   BIC                           1600.715\n",
      "Sample:                    01-31-1985   HQIC                          1588.229\n",
      "                         - 12-31-2022                                         \n",
      "Covariance Type:                  opg                                         \n",
      "==============================================================================\n",
      "                 coef    std err          z      P>|z|      [0.025      0.975]\n",
      "------------------------------------------------------------------------------\n",
      "ar.L1         -0.4786      0.054     -8.941      0.000      -0.583      -0.374\n",
      "ar.L2          0.5086      0.049     10.367      0.000       0.412       0.605\n",
      "ma.L1         -0.0204      0.579     -0.035      0.972      -1.155       1.114\n",
      "ma.L2         -0.9791      0.566     -1.730      0.084      -2.088       0.130\n",
      "sigma2         1.8254      1.058      1.726      0.084      -0.248       3.898\n",
      "===================================================================================\n",
      "Ljung-Box (L1) (Q):                   0.12   Jarque-Bera (JB):                41.04\n",
      "Prob(Q):                              0.73   Prob(JB):                         0.00\n",
      "Heteroskedasticity (H):               1.34   Skew:                            -0.65\n",
      "Prob(H) (two-sided):                  0.07   Kurtosis:                         3.67\n",
      "===================================================================================\n",
      "\n",
      "Warnings:\n",
      "[1] Covariance matrix calculated using the outer product of gradients (complex-step).\n"
     ]
    }
   ],
   "source": [
    "from statsmodels.tsa.arima.model import ARIMA\n",
    "modelo_ARIMA = ARIMA(série_chuva, order = (2, 1, 2)) # Utilizamos os parâmetros do modelo ARMA, pois como a série já é estacionária, a diferenciação não é necessária (e pode até prejudicar o modelo).\n",
    "\n",
    "resultado_ARIMA = modelo_ARIMA.fit() # Treinando o modelo\n",
    "print(resultado_ARIMA.summary()) # Sumário do modelo"
   ]
  },
  {
   "cell_type": "markdown",
   "metadata": {},
   "source": [
    "<h2 align=\"center\"><b> Análise de Resíduos </b></h2>"
   ]
  },
  {
   "cell_type": "code",
   "execution_count": null,
   "metadata": {},
   "outputs": [],
   "source": [
    "resíduo = resultado_ARIMA.resid\n",
    "resíduo.plot() # Plotando o resíduo\n",
    "plt.show()"
   ]
  },
  {
   "cell_type": "markdown",
   "metadata": {},
   "source": [
    "![ARIMA_Residuos](./Gráficos/ARIMA_Residuos.png)\n",
    "\n",
    "### `Normalidade dos Resíduos:`"
   ]
  },
  {
   "cell_type": "code",
   "execution_count": 6,
   "metadata": {},
   "outputs": [],
   "source": [
    "import scipy.stats as stats\n",
    "import seaborn as sns"
   ]
  },
  {
   "cell_type": "code",
   "execution_count": null,
   "metadata": {},
   "outputs": [],
   "source": [
    "stats.probplot(resíduo, dist = 'norm', plot = plt)\n",
    "plt.title('Normal QQ Plot - Resíduos')\n",
    "plt.show()\n",
    "\n",
    "sns.histplot(resíduo, kde = True)\n",
    "plt.title('Histograma - Resíduos')\n",
    "plt.show()"
   ]
  },
  {
   "cell_type": "markdown",
   "metadata": {},
   "source": [
    "![Normal QQ Plot - Resíduos](./Gráficos/Normal%20QQ%20Plot%20-%20Resíduos.png)\n",
    "![Histograma - Resíduos](./Gráficos/Histograma%20-%20Resíduos.png)"
   ]
  },
  {
   "cell_type": "code",
   "execution_count": 8,
   "metadata": {},
   "outputs": [
    {
     "name": "stdout",
     "output_type": "stream",
     "text": [
      "Estatística de Teste = 0.9766622185707092\n",
      "p-valor = 1.0990354439854855e-06\n",
      "Resultado: Não é Normal\n"
     ]
    }
   ],
   "source": [
    "def teste_shapiro(série):\n",
    "    e, p = stats.shapiro(série)\n",
    "    print(f'Estatística de Teste = {e}')\n",
    "    print(f'p-valor = {p}')\n",
    "    print(f'Resultado: {\"É Normal\" if (p > 0.05) else \"Não é Normal\"}')\n",
    "\n",
    "teste_shapiro(resíduo)"
   ]
  },
  {
   "cell_type": "markdown",
   "metadata": {},
   "source": [
    "&emsp;&emsp; Esse modelo ficou pior que só com a transformação por raiz cúbica. Então é esperado que a previsão não seja tão boa.\n",
    "\n",
    "### `Autocorrelação dos Resíduos:`"
   ]
  },
  {
   "cell_type": "code",
   "execution_count": null,
   "metadata": {},
   "outputs": [],
   "source": [
    "from statsmodels.graphics.tsaplots import plot_acf, plot_pacf\n",
    "\n",
    "plot_acf(resíduo, lags = 20)\n",
    "plt.title('Função de Autocorrelação - Resíduos')\n",
    "plt.show()\n",
    "\n",
    "plot_pacf(resíduo, lags = 20)\n",
    "plt.title('Função de Autocorrelação Parcial - Resíduos')\n",
    "plt.show()"
   ]
  },
  {
   "cell_type": "markdown",
   "metadata": {},
   "source": [
    "![Função de Autocorrelação - Resíduos](./Gráficos/Função%20de%20Autocorrelação%20-%20Resíduos.png)\n",
    "![Função de Autocorrelação Parcial - Resíduos](./Gráficos/Função%20de%20Autocorrelação%20Parcial%20-%20Resíduos.png)\n",
    "\n",
    "&emsp;&emsp; As funções de autocorrelação mostram que os resíduos possuem correlação com os valores passados, o que é um péssimo sinal.\n",
    "\n",
    "<h2 align=\"center\"><b> Previsão </b></h2>"
   ]
  },
  {
   "cell_type": "code",
   "execution_count": 10,
   "metadata": {},
   "outputs": [],
   "source": [
    "tamanho_série = len(série_chuva) # Tamanho da série\n",
    "previsão = resultado_ARIMA.predict(start = tamanho_série, end = tamanho_série + 11) # Previsão para os próximos 12 meses"
   ]
  },
  {
   "cell_type": "code",
   "execution_count": 11,
   "metadata": {},
   "outputs": [],
   "source": [
    "previsão2 = resultado_ARIMA.forecast(steps = 12) # Método alternativo para previsão"
   ]
  },
  {
   "cell_type": "code",
   "execution_count": null,
   "metadata": {},
   "outputs": [],
   "source": [
    "plt.plot(série_chuva, label = 'Série Original')\n",
    "plt.plot(série_chuva - resíduo, label = 'Resíduo')\n",
    "plt.plot(previsão, label = 'Previsão')\n",
    "plt.title('Previsão - Modelo ARIMA(2, 1, 2)')\n",
    "plt.legend(loc = 'best')\n",
    "plt.show()"
   ]
  },
  {
   "cell_type": "markdown",
   "metadata": {},
   "source": [
    "![Previsão - Modelo ARIMA(2, 1, 2)](./Gráficos/Previsão%20-%20Modelo%20ARIMA(2,%201,%202).png)\n",
    "\n",
    "&emsp;&emsp; Finalmente chegamos na previsão, mas esses valores passaram por uma transformação por raiz cúbica, então precisamos elevar os valores ao cubo para obter a previsão real.\n",
    "\n",
    "<h2 align=\"center\"><b> Finalização </b></h2>"
   ]
  },
  {
   "cell_type": "code",
   "execution_count": 16,
   "metadata": {},
   "outputs": [
    {
     "data": {
      "text/plain": [
       "2023-01-31    155.452224\n",
       "2023-02-28    127.952648\n",
       "2023-03-31    121.959505\n",
       "2023-04-30    112.367016\n",
       "2023-05-31    114.000436\n",
       "2023-06-30    108.513128\n",
       "2023-07-31    111.939325\n",
       "2023-08-31    107.538875\n",
       "2023-09-30    111.375730\n",
       "2023-10-31    107.308035\n",
       "2023-11-30    111.202805\n",
       "2023-12-31    107.271480\n",
       "Freq: M, Name: Previsão ARIMA(2, 1, 2), dtype: float64"
      ]
     },
     "metadata": {},
     "output_type": "display_data"
    }
   ],
   "source": [
    "previsão_final = previsão ** 3\n",
    "previsão_final.name = 'Previsão ARIMA(2, 1, 2)'\n",
    "previsão_final.to_csv('Previsão ARIMA - Chuva Mensal.csv', sep = ';', header = True) # Salvando a previsão em um arquivo csv\n",
    "display(previsão_final)"
   ]
  }
 ],
 "metadata": {
  "kernelspec": {
   "display_name": "Python 3",
   "language": "python",
   "name": "python3"
  },
  "language_info": {
   "codemirror_mode": {
    "name": "ipython",
    "version": 3
   },
   "file_extension": ".py",
   "mimetype": "text/x-python",
   "name": "python",
   "nbconvert_exporter": "python",
   "pygments_lexer": "ipython3",
   "version": "3.11.4"
  }
 },
 "nbformat": 4,
 "nbformat_minor": 2
}
