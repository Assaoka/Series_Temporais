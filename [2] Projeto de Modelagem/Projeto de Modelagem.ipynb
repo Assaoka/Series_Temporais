{
 "cells": [
  {
   "cell_type": "markdown",
   "metadata": {},
   "source": [
    "<h1  align=\"center\"><b> Parte 1: Tratamento de Dados </b></h1>\n",
    "\n",
    "`Objetivo Geral:` Importar os dados pluviométricos do munícipio de São Paulo e realizar o tratamento dos dados para que possam ser utilizados na análise exploratória.\n",
    "\n",
    "`Dados:` Os dados foram retirados do [Banco de Dados Hidrológicos](http://www.hidrologia.daee.sp.gov.br/) do Portal do Departamento de Águas e Energia Elétrica do Estado de São Paulo (DAEE) no dia 21/12/2023. "
   ]
  },
  {
   "cell_type": "code",
   "execution_count": 1,
   "metadata": {},
   "outputs": [],
   "source": [
    "import numpy as np\n",
    "import pandas as pd\n",
    "import matplotlib.pyplot as plt\n",
    "\n",
    "from matplotlib.pylab import rcParams\n",
    "rcParams['figure.figsize'] = 15, 6"
   ]
  },
  {
   "cell_type": "markdown",
   "metadata": {},
   "source": [
    "<h2 align=\"center\"><b> Análise Inicial </b></h2>\n",
    "\n",
    "`Objetivo da Etapa:` Importar os dados e realizar uma análise inicial para verificar se há algum problema com os dados."
   ]
  }
 ],
 "metadata": {
  "kernelspec": {
   "display_name": "Python 3",
   "language": "python",
   "name": "python3"
  },
  "language_info": {
   "codemirror_mode": {
    "name": "ipython",
    "version": 3
   },
   "file_extension": ".py",
   "mimetype": "text/x-python",
   "name": "python",
   "nbconvert_exporter": "python",
   "pygments_lexer": "ipython3",
   "version": "3.11.4"
  }
 },
 "nbformat": 4,
 "nbformat_minor": 2
}
