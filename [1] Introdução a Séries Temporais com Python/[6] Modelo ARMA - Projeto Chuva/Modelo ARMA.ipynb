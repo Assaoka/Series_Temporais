{
 "cells": [
  {
   "cell_type": "markdown",
   "metadata": {},
   "source": [
    "<h1  align=\"center\"><b> MODELO ARMA </b></h1>\n",
    "\n",
    "`Objetivo Geral:` Importar a série temporal transformada dos dados pluviométricos do município de São Paulo e realizar a modelagem ARMA (Auto-Regressiva de Média Móvel) para previsão.\n",
    "\n",
    "`Dados:` Os dados foram transformados na pasta [Transformação e Decomposição](../[3]%20Transformação%20e%20Decomposição%20-%20Projeto%20Chuva/) do Projeto Chuva."
   ]
  },
  {
   "cell_type": "code",
   "execution_count": 2,
   "metadata": {},
   "outputs": [],
   "source": [
    "import pandas as pd\n",
    "import numpy as np\n",
    "import matplotlib.pyplot as plt\n",
    "\n",
    "from matplotlib.pylab import rcParams\n",
    "rcParams['figure.figsize'] = 15, 6"
   ]
  },
  {
   "cell_type": "markdown",
   "metadata": {},
   "source": [
    "<h2 align=\"center\"><b> Importando Dados e Escolhendo o Modelo </b></h2>\n",
    "&emsp;&emsp; O modelo ARMA é a combinação de um modelo AR (Auto-Regressivo) e um modelo MA (Média Móvel). Ou seja, o modelo ARMA é um modelo ARIMA sem a parte de diferenciação. Para escolher o melhor modelo utilizaremos o critério de informação de Akaike (AIC) que quanto menor melhor.\n",
    "\n",
    "`Observação:` O modelo ARMA(p, q) é equivalente a ARIMA(p,0,q)."
   ]
  },
  {
   "cell_type": "code",
   "execution_count": 3,
   "metadata": {},
   "outputs": [],
   "source": [
    "série_chuva = pd.read_csv('../[3] Transformação e Decomposição - Projeto Chuva/Série Transformada - Chuva Mensal.csv', sep = ';', index_col = 0)\n",
    "série_chuva = pd.Series(série_chuva['Chuva Mensal (mm)'])\n",
    "série_chuva.index = pd.date_range('1985', periods = len(série_chuva), freq = 'M')"
   ]
  },
  {
   "cell_type": "code",
   "execution_count": 4,
   "metadata": {},
   "outputs": [
    {
     "name": "stdout",
     "output_type": "stream",
     "text": [
      "                               SARIMAX Results                                \n",
      "==============================================================================\n",
      "Dep. Variable:      Chuva Mensal (mm)   No. Observations:                  456\n",
      "Model:                 ARIMA(2, 0, 2)   Log Likelihood                -654.518\n",
      "Date:                Sun, 24 Dec 2023   AIC                           1321.036\n",
      "Time:                        20:03:53   BIC                           1345.771\n",
      "Sample:                    01-31-1985   HQIC                          1330.779\n",
      "                         - 12-31-2022                                         \n",
      "Covariance Type:                  opg                                         \n",
      "==============================================================================\n",
      "                 coef    std err          z      P>|z|      [0.025      0.975]\n",
      "------------------------------------------------------------------------------\n",
      "const          4.7739      0.050     95.609      0.000       4.676       4.872\n",
      "ar.L1          1.7316      0.000   4714.209      0.000       1.731       1.732\n",
      "ar.L2         -1.0000      0.000  -9976.436      0.000      -1.000      -1.000\n",
      "ma.L1         -1.7285      0.097    -17.890      0.000      -1.918      -1.539\n",
      "ma.L2          0.9988      0.111      8.982      0.000       0.781       1.217\n",
      "sigma2         1.0086      0.134      7.534      0.000       0.746       1.271\n",
      "===================================================================================\n",
      "Ljung-Box (L1) (Q):                   0.29   Jarque-Bera (JB):                 8.44\n",
      "Prob(Q):                              0.59   Prob(JB):                         0.01\n",
      "Heteroskedasticity (H):               1.12   Skew:                            -0.18\n",
      "Prob(H) (two-sided):                  0.49   Kurtosis:                         3.56\n",
      "===================================================================================\n",
      "\n",
      "Warnings:\n",
      "[1] Covariance matrix calculated using the outer product of gradients (complex-step).\n"
     ]
    },
    {
     "name": "stderr",
     "output_type": "stream",
     "text": [
      "c:\\Users\\Atual\\AppData\\Local\\Programs\\Python\\Python311\\Lib\\site-packages\\statsmodels\\base\\model.py:607: ConvergenceWarning: Maximum Likelihood optimization failed to converge. Check mle_retvals\n",
      "  warnings.warn(\"Maximum Likelihood optimization failed to \"\n"
     ]
    }
   ],
   "source": [
    "from statsmodels.tsa.arima.model import ARIMA\n",
    "modelo_ARMA = ARIMA(série_chuva, order = (2, 0, 2)) # Por inspeção o modelo ARMA(2, 0, 2) é um bom modelo.\n",
    "\n",
    "resultado_ARMA = modelo_ARMA.fit() # Treinando o modelo\n",
    "print(resultado_ARMA.summary()) # Sumário do modelo"
   ]
  },
  {
   "cell_type": "markdown",
   "metadata": {},
   "source": [
    "<h2 align=\"center\"><b> Análise de Resíduos </b></h2>"
   ]
  },
  {
   "cell_type": "code",
   "execution_count": null,
   "metadata": {},
   "outputs": [],
   "source": [
    "resíduo = resultado_ARMA.resid\n",
    "resíduo.plot() # Plotando o resíduo\n",
    "plt.show()"
   ]
  },
  {
   "cell_type": "markdown",
   "metadata": {},
   "source": [
    "![ARMA_Residuos](./Gráficos/ARMA_Residuos.png)\n",
    "\n",
    "### `Normalidade dos Resíduos:`"
   ]
  },
  {
   "cell_type": "code",
   "execution_count": 13,
   "metadata": {},
   "outputs": [],
   "source": [
    "import scipy.stats as stats\n",
    "import seaborn as sns"
   ]
  },
  {
   "cell_type": "code",
   "execution_count": null,
   "metadata": {},
   "outputs": [],
   "source": [
    "stats.probplot(resíduo, dist = 'norm', plot = plt)\n",
    "plt.title('Normal QQ Plot - Resíduos')\n",
    "plt.show()\n",
    "\n",
    "sns.histplot(resíduo, kde = True)\n",
    "plt.title('Histograma - Resíduos')\n",
    "plt.show()"
   ]
  },
  {
   "cell_type": "markdown",
   "metadata": {},
   "source": [
    "![Normal QQ Plot - Resíduos](./Gráficos/Normal%20QQ%20Plot%20-%20Resíduos.png)\n",
    "![Histograma - Resíduos](./Gráficos/Histograma%20-%20Resíduos.png)"
   ]
  },
  {
   "cell_type": "code",
   "execution_count": 15,
   "metadata": {},
   "outputs": [
    {
     "name": "stdout",
     "output_type": "stream",
     "text": [
      "Estatística de Teste = 0.9914759993553162\n",
      "p-valor = 0.010082758963108063\n",
      "Resultado: Não é Normal\n"
     ]
    }
   ],
   "source": [
    "def teste_shapiro(série):\n",
    "    e, p = stats.shapiro(série)\n",
    "    print(f'Estatística de Teste = {e}')\n",
    "    print(f'p-valor = {p}')\n",
    "    print(f'Resultado: {\"É Normal\" if (p > 0.05) else \"Não é Normal\"}')\n",
    "\n",
    "teste_shapiro(resíduo)"
   ]
  },
  {
   "cell_type": "markdown",
   "metadata": {},
   "source": [
    "&emsp;&emsp; Esse modelo ficou melhor que o melhor modelo que tínhamos até então (AR(7), AIC = 1397.272, p-valor = 0.000947). A distribuição ainda não é normal, mas se aproxima bastante. \n",
    "\n",
    "### `Autocorrelação dos Resíduos:`"
   ]
  },
  {
   "cell_type": "code",
   "execution_count": null,
   "metadata": {},
   "outputs": [],
   "source": [
    "from statsmodels.graphics.tsaplots import plot_acf, plot_pacf\n",
    "\n",
    "plot_acf(resíduo, lags = 20)\n",
    "plt.title('Função de Autocorrelação - Resíduos')\n",
    "plt.show()\n",
    "\n",
    "plot_pacf(resíduo, lags = 20)\n",
    "plt.title('Função de Autocorrelação Parcial - Resíduos')\n",
    "plt.show()"
   ]
  },
  {
   "cell_type": "markdown",
   "metadata": {},
   "source": [
    "![Função de Autocorrelação - Resíduos](./Gráficos/Função%20de%20Autocorrelação%20-%20Resíduos.png)\n",
    "![Função de Autocorrelação Parcial - Resíduos](./Gráficos/Função%20de%20Autocorrelação%20Parcial%20-%20Resíduos.png)\n",
    "\n",
    "&emsp;&emsp; As funções de autocorrelação mostram que os resíduos não possuem correlação com os valores passados, o que é um ótimo sinal.\n",
    "\n",
    "<h2 align=\"center\"><b> Previsão </b></h2>"
   ]
  },
  {
   "cell_type": "code",
   "execution_count": 5,
   "metadata": {},
   "outputs": [],
   "source": [
    "tamanho_série = len(série_chuva) # Tamanho da série\n",
    "previsão = resultado_ARMA.predict(start = tamanho_série, end = tamanho_série + 11) # Previsão para os próximos 12 meses"
   ]
  },
  {
   "cell_type": "code",
   "execution_count": 18,
   "metadata": {},
   "outputs": [],
   "source": [
    "previsão2 = resultado_ARMA.forecast(steps = 12) # Método alternativo para previsão"
   ]
  },
  {
   "cell_type": "code",
   "execution_count": null,
   "metadata": {},
   "outputs": [],
   "source": [
    "plt.plot(série_chuva, label = 'Série Original')\n",
    "plt.plot(série_chuva - resíduo, label = 'Resíduo')\n",
    "plt.plot(previsão, label = 'Previsão')\n",
    "plt.title('Previsão - Modelo ARMA(2, 2)')\n",
    "plt.legend(loc = 'best')\n",
    "plt.show()"
   ]
  },
  {
   "cell_type": "markdown",
   "metadata": {},
   "source": [
    "![Previsão - Modelo ARMA(2, 2)](./Gráficos/Previsão%20-%20Modelo%20ARMA(2,%202).png)\n",
    "\n",
    "&emsp;&emsp; Finalmente chegamos na previsão, mas esses valores passaram por uma transformação por raiz cúbica, então precisamos elevar os valores ao cubo para obter a previsão real.\n",
    "\n",
    "<h2 align=\"center\"><b> Finalização </b></h2>"
   ]
  },
  {
   "cell_type": "code",
   "execution_count": 7,
   "metadata": {},
   "outputs": [
    {
     "data": {
      "text/plain": [
       "2023-01-31    270.316792\n",
       "2023-02-28    238.354983\n",
       "2023-03-31    171.122442\n",
       "2023-04-30    103.467142\n",
       "2023-05-31     57.454094\n",
       "2023-06-30     34.913901\n",
       "2023-07-31     29.278366\n",
       "2023-08-31     37.591454\n",
       "2023-09-30     63.991270\n",
       "2023-10-31    114.613221\n",
       "2023-11-30    184.482710\n",
       "2023-12-31    247.828460\n",
       "Freq: M, Name: Previsão ARMA(2, 2), dtype: float64"
      ]
     },
     "metadata": {},
     "output_type": "display_data"
    }
   ],
   "source": [
    "previsão_final = previsão ** 3\n",
    "previsão_final.name = 'Previsão ARMA(2, 2)'\n",
    "previsão_final.to_csv('Previsão ARMA - Chuva Mensal.csv', sep = ';', header = True) # Salvando a previsão em um arquivo csv\n",
    "display(previsão_final)"
   ]
  },
  {
   "cell_type": "code",
   "execution_count": 24,
   "metadata": {},
   "outputs": [
    {
     "name": "stdout",
     "output_type": "stream",
     "text": [
      "Erro Quadrático Médio = 9291.94\n"
     ]
    }
   ],
   "source": [
    "Erro_Quadrático_Médio = (previsão_final['2023-01-31'] - 377.60)**2\n",
    "Erro_Quadrático_Médio += (previsão_final['2023-02-28'] - 452.00)**2\n",
    "Erro_Quadrático_Médio += (previsão_final['2023-03-31'] - 138.20)**2\n",
    "Erro_Quadrático_Médio += (previsão_final['2023-04-30 '] - 165.70)**2\n",
    "Erro_Quadrático_Médio += (previsão_final['2023-05-31'] - 43.30)**2\n",
    "Erro_Quadrático_Médio += (previsão_final['2023-06-30'] - 85.20)**2\n",
    "Erro_Quadrático_Médio += (previsão_final['2023-07-31'] - 15.00)**2\n",
    "Erro_Quadrático_Médio = Erro_Quadrático_Médio / 7\n",
    "\n",
    "print(f'Erro Quadrático Médio = {Erro_Quadrático_Médio:.2f}') # Erro Quadrático Médio"
   ]
  }
 ],
 "metadata": {
  "kernelspec": {
   "display_name": "Python 3",
   "language": "python",
   "name": "python3"
  },
  "language_info": {
   "codemirror_mode": {
    "name": "ipython",
    "version": 3
   },
   "file_extension": ".py",
   "mimetype": "text/x-python",
   "name": "python",
   "nbconvert_exporter": "python",
   "pygments_lexer": "ipython3",
   "version": "3.11.4"
  }
 },
 "nbformat": 4,
 "nbformat_minor": 2
}
