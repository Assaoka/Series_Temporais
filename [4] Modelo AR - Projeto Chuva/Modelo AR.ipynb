{
 "cells": [
  {
   "cell_type": "markdown",
   "metadata": {},
   "source": [
    "<h1  align=\"center\"><b> MODELO AR </b></h1>\n",
    "\n",
    "`Objetivo Geral:` Importar a série temporal transformada dos dados pluviométricos do município de São Paulo e realizar a modelagem AR (AutoRegressivo) para previsão.\n",
    "\n",
    "`Dados:` Os dados foram transformados na pasta [Transformação e Decomposição](../[3]%20Transformação%20e%20Decomposição%20-%20Projeto%20Chuva/) do Projeto Chuva."
   ]
  },
  {
   "cell_type": "code",
   "execution_count": 52,
   "metadata": {},
   "outputs": [],
   "source": [
    "import pandas as pd\n",
    "import numpy as np\n",
    "import matplotlib.pyplot as plt\n",
    "\n",
    "from matplotlib.pylab import rcParams\n",
    "rcParams['figure.figsize'] = 15, 6"
   ]
  },
  {
   "cell_type": "markdown",
   "metadata": {},
   "source": [
    "<h2 align=\"center\"><b> Importando Dados e Escolhendo o Modelo </b></h2>\n",
    "&emsp;&emsp; O modelo AR (AutoRegressivo) é um modelo de regressão linear que utiliza como variável os valores passados da própria série temporal. Para escolher o melhor modelo utilizaremos o critério de informação de Akaike (AIC) que quanto menor melhor.\n",
    "\n",
    "`Observação:` O modelo AR(p) é equivalente a ARIMA(p,0,0).\n",
    "\n"
   ]
  },
  {
   "cell_type": "code",
   "execution_count": 81,
   "metadata": {},
   "outputs": [],
   "source": [
    "série_chuva = pd.read_csv('../[3] Transformação e Decomposição - Projeto Chuva/Série Transformada - Chuva Mensal.csv', sep = ';', index_col = 0)\n",
    "série_chuva = pd.Series(série_chuva['Chuva Mensal (mm)'])\n",
    "série_chuva.index = pd.date_range('1985', periods = len(série_chuva), freq = 'M') # Precisamos disso para identificar a frequência"
   ]
  },
  {
   "cell_type": "code",
   "execution_count": 54,
   "metadata": {},
   "outputs": [
    {
     "name": "stdout",
     "output_type": "stream",
     "text": [
      "ARIMA(1, 0, 0): 1577.9031699742663\n",
      "ARIMA(2, 0, 0): 1578.8492539900853\n",
      "ARIMA(3, 0, 0): 1548.8664265682196\n",
      "ARIMA(4, 0, 0): 1515.7737788215243\n",
      "ARIMA(5, 0, 0): 1468.316854938198\n",
      "ARIMA(6, 0, 0): 1422.5237584036386\n",
      "ARIMA(7, 0, 0): 1397.2722987981438\n",
      "ARIMA(8, 0, 0): 1398.101926577467\n",
      "ARIMA(9, 0, 0): 1400.0629195660995\n"
     ]
    }
   ],
   "source": [
    "from statsmodels.tsa.arima.model import ARIMA\n",
    "\n",
    "# Vendo os valores de AIC para os modelos AR(1) até AR(9). Não convém ir além disso, pois o com o aumento da ordem o tempo de processamento aumenta muito (sem grandes ganhos de AIC)\n",
    "for i in range(1, 10): \n",
    "    modelo_AR = ARIMA(série_chuva, order = (i, 0, 0))\n",
    "    resultado_AR = modelo_AR.fit()\n",
    "    print(f'ARIMA({i}, 0, 0): {resultado_AR.aic}')"
   ]
  },
  {
   "cell_type": "code",
   "execution_count": 55,
   "metadata": {},
   "outputs": [
    {
     "name": "stdout",
     "output_type": "stream",
     "text": [
      "                               SARIMAX Results                                \n",
      "==============================================================================\n",
      "Dep. Variable:      Chuva Mensal (mm)   No. Observations:                  456\n",
      "Model:                 ARIMA(7, 0, 0)   Log Likelihood                -689.636\n",
      "Date:                Sat, 23 Dec 2023   AIC                           1397.272\n",
      "Time:                        14:58:55   BIC                           1434.375\n",
      "Sample:                    01-31-1985   HQIC                          1411.888\n",
      "                         - 12-31-2022                                         \n",
      "Covariance Type:                  opg                                         \n",
      "==============================================================================\n",
      "                 coef    std err          z      P>|z|      [0.025      0.975]\n",
      "------------------------------------------------------------------------------\n",
      "const          4.7755      0.035    136.216      0.000       4.707       4.844\n",
      "ar.L1          0.1489      0.043      3.423      0.001       0.064       0.234\n",
      "ar.L2          0.0823      0.049      1.673      0.094      -0.014       0.179\n",
      "ar.L3         -0.0929      0.051     -1.805      0.071      -0.194       0.008\n",
      "ar.L4         -0.1010      0.048     -2.095      0.036      -0.195      -0.007\n",
      "ar.L5         -0.1832      0.049     -3.722      0.000      -0.280      -0.087\n",
      "ar.L6         -0.2624      0.049     -5.351      0.000      -0.358      -0.166\n",
      "ar.L7         -0.2422      0.047     -5.130      0.000      -0.335      -0.150\n",
      "sigma2         1.1991      0.069     17.284      0.000       1.063       1.335\n",
      "===================================================================================\n",
      "Ljung-Box (L1) (Q):                   0.05   Jarque-Bera (JB):                17.41\n",
      "Prob(Q):                              0.82   Prob(JB):                         0.00\n",
      "Heteroskedasticity (H):               1.18   Skew:                            -0.27\n",
      "Prob(H) (two-sided):                  0.30   Kurtosis:                         3.79\n",
      "===================================================================================\n",
      "\n",
      "Warnings:\n",
      "[1] Covariance matrix calculated using the outer product of gradients (complex-step).\n"
     ]
    }
   ],
   "source": [
    "modelo_AR = ARIMA(série_chuva, order = (7, 0, 0)) # O modelo ARIMA(7, 0, 0) foi o que apresentou o menor AIC\n",
    "resultado_AR = modelo_AR.fit() # Treinando o modelo\n",
    "print(resultado_AR.summary()) # Sumário do modelo"
   ]
  },
  {
   "cell_type": "markdown",
   "metadata": {},
   "source": [
    "<h2 align=\"center\"><b> Análise de Resíduos </b></h2>"
   ]
  },
  {
   "cell_type": "code",
   "execution_count": null,
   "metadata": {},
   "outputs": [],
   "source": [
    "resíduo = resultado_AR.resid\n",
    "resíduo.plot() # Plotando o resíduo\n",
    "plt.show()"
   ]
  },
  {
   "cell_type": "markdown",
   "metadata": {},
   "source": [
    "![AR_Residuos](./Gráficos/AR_Residuos.png)\n",
    "\n",
    "### `Normalidade dos Resíduos:`"
   ]
  },
  {
   "cell_type": "code",
   "execution_count": 57,
   "metadata": {},
   "outputs": [],
   "source": [
    "import scipy.stats as stats\n",
    "import seaborn as sns"
   ]
  },
  {
   "cell_type": "code",
   "execution_count": null,
   "metadata": {},
   "outputs": [],
   "source": [
    "stats.probplot(resíduo, dist = 'norm', plot = plt)\n",
    "plt.title('Normal QQ Plot - Resíduos')\n",
    "plt.show()\n",
    "\n",
    "sns.histplot(resíduo, kde = True)\n",
    "plt.title('Histograma - Resíduos')\n",
    "plt.show()"
   ]
  },
  {
   "cell_type": "markdown",
   "metadata": {},
   "source": [
    "![Normal QQ Plot - Resíduos](./Gráficos/Normal%20QQ%20Plot%20-%20Resíduos.png)\n",
    "![Histograma - Resíduos](./Gráficos/Histograma%20-%20Resíduos.png)"
   ]
  },
  {
   "cell_type": "code",
   "execution_count": 59,
   "metadata": {},
   "outputs": [
    {
     "name": "stdout",
     "output_type": "stream",
     "text": [
      "Estatística de Teste = 0.9881777763366699\n",
      "p-valor = 0.000947304186411202\n",
      "Resultado: Não é Normal\n"
     ]
    }
   ],
   "source": [
    "def teste_shapiro(série):\n",
    "    e, p = stats.shapiro(série)\n",
    "    print(f'Estatística de Teste = {e}')\n",
    "    print(f'p-valor = {p}')\n",
    "    print(f'Resultado: {\"É Normal\" if (p > 0.05) else \"Não é Normal\"}')\n",
    "\n",
    "teste_shapiro(resíduo)"
   ]
  },
  {
   "cell_type": "markdown",
   "metadata": {},
   "source": [
    "&emsp;&emsp; Por mais que não seja perfeito, o modelo melhorou bastante em relação ao último teste de normalidade cujo p-valor foi de 7.994796033017337e-05.\n",
    "\n",
    "### `Autocorrelação dos Resíduos:`"
   ]
  },
  {
   "cell_type": "code",
   "execution_count": null,
   "metadata": {},
   "outputs": [],
   "source": [
    "from statsmodels.graphics.tsaplots import plot_acf, plot_pacf\n",
    "\n",
    "plot_acf(resíduo, lags = 20)\n",
    "plt.title('Função de Autocorrelação - Resíduos')\n",
    "plt.show()\n",
    "\n",
    "plot_pacf(resíduo, lags = 20)\n",
    "plt.title('Função de Autocorrelação Parcial - Resíduos')\n",
    "plt.show()"
   ]
  },
  {
   "cell_type": "markdown",
   "metadata": {},
   "source": [
    "![Função de Autocorrelação - Resíduos](./Gráficos/Função%20de%20Autocorrelação%20-%20Resíduos.png)\n",
    "![Função de Autocorrelação Parcial - Resíduos](./Gráficos/Função%20de%20Autocorrelação%20Parcial%20-%20Resíduos.png)\n",
    "\n",
    "&emsp;&emsp; As funções de autocorrelação mostram que os resíduos não possuem correlação com os valores passados, o que é um ótimo sinal.\n",
    "\n",
    "<h2 align=\"center\"><b> Previsão </b></h2>"
   ]
  },
  {
   "cell_type": "code",
   "execution_count": 70,
   "metadata": {},
   "outputs": [],
   "source": [
    "tamanho_série = len(série_chuva) # Tamanho da série\n",
    "previsão = resultado_AR.predict(start = tamanho_série, end = tamanho_série + 11) # Previsão para os próximos 12 meses"
   ]
  },
  {
   "cell_type": "code",
   "execution_count": 62,
   "metadata": {},
   "outputs": [],
   "source": [
    "previsão2 = resultado_AR.forecast(steps = 12) # Método alternativo para previsão"
   ]
  },
  {
   "cell_type": "code",
   "execution_count": null,
   "metadata": {},
   "outputs": [],
   "source": [
    "plt.plot(série_chuva, label = 'Série Original')\n",
    "plt.plot(série_chuva - resíduo, label = 'Resíduo')\n",
    "plt.plot(previsão, label = 'Previsão')\n",
    "plt.title('Previsão - Modelo AR(7)')\n",
    "plt.legend(loc = 'best')\n",
    "plt.show()"
   ]
  },
  {
   "cell_type": "markdown",
   "metadata": {},
   "source": [
    "![Previsão - Modelo AR(7)](./Gráficos/Previsão%20-%20Modelo%20AR(7).png)\n",
    "\n",
    "&emsp;&emsp; Finalmente chegamos na previsão, mas esses valores passaram por uma transformação por raiz cúbica, então precisamos elevar os valores ao cubo para obter a previsão real.\n",
    "\n",
    "<h2 align=\"center\"><b> Finalização </b></h2>"
   ]
  },
  {
   "cell_type": "code",
   "execution_count": 90,
   "metadata": {},
   "outputs": [
    {
     "data": {
      "text/plain": [
       "2023-01-31    244.748757\n",
       "2023-02-28    212.566599\n",
       "2023-03-31    134.929431\n",
       "2023-04-30     84.136194\n",
       "2023-05-31     63.237087\n",
       "2023-06-30     49.195622\n",
       "2023-07-31     49.770542\n",
       "2023-08-31     59.228329\n",
       "2023-09-30     86.840680\n",
       "2023-10-31    127.146460\n",
       "2023-11-30    164.883845\n",
       "2023-12-31    185.861708\n",
       "Freq: M, Name: Chuva Mensal (mm), dtype: float64"
      ]
     },
     "metadata": {},
     "output_type": "display_data"
    }
   ],
   "source": [
    "previsão_final = previsão ** 3\n",
    "previsão_final.name = 'Chuva Mensal (mm)'\n",
    "previsão_final.to_csv('Previsão AR - Chuva Mensal.csv', sep = ';', header = True) # Salvando a previsão em um arquivo csv\n",
    "display(previsão_final)"
   ]
  },
  {
   "cell_type": "code",
   "execution_count": 89,
   "metadata": {},
   "outputs": [
    {
     "name": "stdout",
     "output_type": "stream",
     "text": [
      "Erro Quadrático Médio = 12077.71\n"
     ]
    }
   ],
   "source": [
    "Erro_Quadrático_Médio = (previsão_final['2023-01-31'] - 377.60)**2\n",
    "Erro_Quadrático_Médio += (previsão_final['2023-02-28'] - 452.00)**2\n",
    "Erro_Quadrático_Médio += (previsão_final['2023-03-31'] - 138.20)**2\n",
    "Erro_Quadrático_Médio += (previsão_final['2023-04-30 '] - 165.70)**2\n",
    "Erro_Quadrático_Médio += (previsão_final['2023-05-31'] - 43.30)**2\n",
    "Erro_Quadrático_Médio += (previsão_final['2023-06-30'] - 85.20)**2\n",
    "Erro_Quadrático_Médio += (previsão_final['2023-07-31'] - 15.00)**2\n",
    "Erro_Quadrático_Médio = Erro_Quadrático_Médio / 7\n",
    "\n",
    "print(f'Erro Quadrático Médio = {Erro_Quadrático_Médio:.2f}') # Erro Quadrático Médio"
   ]
  }
 ],
 "metadata": {
  "kernelspec": {
   "display_name": "Python 3",
   "language": "python",
   "name": "python3"
  },
  "language_info": {
   "codemirror_mode": {
    "name": "ipython",
    "version": 3
   },
   "file_extension": ".py",
   "mimetype": "text/x-python",
   "name": "python",
   "nbconvert_exporter": "python",
   "pygments_lexer": "ipython3",
   "version": "3.11.4"
  }
 },
 "nbformat": 4,
 "nbformat_minor": 2
}
