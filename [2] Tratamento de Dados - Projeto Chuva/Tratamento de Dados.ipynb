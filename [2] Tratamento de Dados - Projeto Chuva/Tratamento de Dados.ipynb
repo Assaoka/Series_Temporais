{
 "cells": [
  {
   "cell_type": "markdown",
   "metadata": {},
   "source": [
    "<h1  align=\"center\"><b> TRATAMENTO DE DADOS </b></h1>\n",
    "\n",
    "`Objetivo Geral:` Importar os dados pluviométricos do município de São Paulo e realizar o tratamento dos dados para que possam ser utilizados na análise exploratória dos próximos projetos.\n",
    "\n",
    "`Dados:` Os dados foram retirados do [Banco de Dados Hidrológicos](http://www.hidrologia.daee.sp.gov.br/) do Portal do Departamento de Águas e Energia Elétrica do Estado de São Paulo (DAEE) no dia 21/12/2023. "
   ]
  },
  {
   "cell_type": "code",
   "execution_count": 93,
   "metadata": {},
   "outputs": [],
   "source": [
    "import numpy as np\n",
    "import pandas as pd"
   ]
  },
  {
   "cell_type": "markdown",
   "metadata": {},
   "source": [
    "<h2 align=\"center\"><b> Análise Inicial </b></h2>\n",
    "\n",
    "`Objetivo da Etapa:` Importar os dados e realizar uma análise inicial para verificar e corrigir os problemas. Abrindo o arquivo podemos perceber diversos problemas:\n",
    "1. `Linhas de Cabeçalho:` Devemos Remover na Importação (skiprows = 10)\n",
    "2. `Vírgula como Separador Decimal ` Podemos remover como no Projeto 1, transformando ',' em '.' e converter para float\n",
    "3. `Dados Faltantes: ` Quando não há dados, o DAEE coloca '---' no lugar, devemos substituir por NaN.\n",
    "4. `Formato da Data não é Conveniente:` Reorganizar os Dados\n",
    "\n",
    "\n",
    "<h2 align=\"center\"><b> Primeira Opção </b></h2>\n",
    "&emsp;&emsp; Vou resolver os problemas 2 e 3 de duas formas diferentes para praticar. Dependendo do problema, uma forma pode ser mais conveniente que a outra. A primeira opção é a seguinte:"
   ]
  },
  {
   "cell_type": "code",
   "execution_count": 94,
   "metadata": {},
   "outputs": [],
   "source": [
    "tabela_chuva = pd.read_csv('./Chuva Mensal.csv', sep = ';', skiprows = 10, skipfooter = 1, decimal = ',', na_values = '---', engine = 'python') # Lendo a tabela já convertendo para float e substituindo os valores '---' por NaN.\n",
    "\n",
    "tabela_chuva = tabela_chuva.fillna(tabela_chuva.mean()) # Substituindo os NaN pela média mensal\n",
    "tabela_chuva = tabela_chuva.drop(tabela_chuva.index[-1]) # Removendo a linha ultimo ano, além de estar com a média em vários meses (Agosto em diante), vamos usá-la para testar o modelo"
   ]
  },
  {
   "cell_type": "markdown",
   "metadata": {},
   "source": [
    "<h2 align=\"center\"><b> Segunda Opção </b></h2>"
   ]
  },
  {
   "cell_type": "code",
   "execution_count": 113,
   "metadata": {},
   "outputs": [],
   "source": [
    "tabela_chuva = pd.read_csv('./Chuva Mensal.csv', sep = ';', skiprows = 10)\n",
    "\n",
    "tabela_chuva = tabela_chuva.apply(lambda x: x.str.replace(',', '.')) # troca virgula por ponto\n",
    "\n",
    "média = tabela_chuva.iloc[-1] # Separando a média mensal\n",
    "tabela_chuva = tabela_chuva.drop(tabela_chuva.index[-2:]) # Removendo a linha da média mensal\n",
    "tabela_chuva = tabela_chuva.apply(lambda x: pd.to_numeric(x.str.replace('---', str(média[x.name])))) # Substituindo os valores '---' pela média mensal e convertendo para float"
   ]
  },
  {
   "cell_type": "markdown",
   "metadata": {},
   "source": [
    "<h2 align=\"center\"><b> Finalização </b></h2>\n",
    "\n",
    "`Objetivo da Etapa:` Resolver o problema 4 e salvar os dados em um arquivo csv para serem utilizados na análise exploratória."
   ]
  },
  {
   "cell_type": "code",
   "execution_count": 114,
   "metadata": {},
   "outputs": [],
   "source": [
    "tabela_chuva = tabela_chuva.drop(columns = 'Ano')\n",
    "valores = list(tabela_chuva.values.flatten()) # Transformando a tabela em um array\n",
    "índice = pd.date_range('1985', periods = len(valores), freq = 'M') # Criando um index com o mesmo tamanho do array e com frequência mensal\n",
    "\n",
    "série_chuva = pd.Series(valores, index = índice) # Criando a série temporal\n",
    "série_chuva.to_csv('Série Tratada - Chuva Mensal.csv', sep = ';') # Salvando a série temporal"
   ]
  }
 ],
 "metadata": {
  "kernelspec": {
   "display_name": "Python 3",
   "language": "python",
   "name": "python3"
  },
  "language_info": {
   "codemirror_mode": {
    "name": "ipython",
    "version": 3
   },
   "file_extension": ".py",
   "mimetype": "text/x-python",
   "name": "python",
   "nbconvert_exporter": "python",
   "pygments_lexer": "ipython3",
   "version": "3.11.4"
  }
 },
 "nbformat": 4,
 "nbformat_minor": 2
}
