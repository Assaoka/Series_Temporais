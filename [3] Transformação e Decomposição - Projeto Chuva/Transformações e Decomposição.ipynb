{
 "cells": [
  {
   "cell_type": "markdown",
   "metadata": {},
   "source": [
    "<h1  align=\"center\"><b> TRANSFORMAÇÃO E DECOMPOSIÇÃO </b></h1>\n",
    "\n",
    "`Objetivo Geral:` Importar a série temporal tratada dos dados pluviométricos do município de São Paulo e realizar as transformações (em busca de estacionalidade e normalidade) e decomposição (em tendência, sazonalidade e resíduo)\n",
    "\n",
    "`Dados:` Os dados foram tratados e extraídos na pasta [Tratamento de Dados do Projeto Chuva](../[2]%20Tratamento%20de%20Dados%20-%20Projeto%20Chuva/). "
   ]
  },
  {
   "cell_type": "code",
   "execution_count": 2,
   "metadata": {},
   "outputs": [],
   "source": [
    "import numpy as np\n",
    "import pandas as pd\n",
    "import matplotlib.pyplot as plt\n",
    "\n",
    "from matplotlib.pylab import rcParams\n",
    "rcParams['figure.figsize'] = 15, 6"
   ]
  },
  {
   "cell_type": "markdown",
   "metadata": {},
   "source": [
    "<h2  align=\"center\"><b>  </b></h2>"
   ]
  }
 ],
 "metadata": {
  "kernelspec": {
   "display_name": "Python 3",
   "language": "python",
   "name": "python3"
  },
  "language_info": {
   "codemirror_mode": {
    "name": "ipython",
    "version": 3
   },
   "file_extension": ".py",
   "mimetype": "text/x-python",
   "name": "python",
   "nbconvert_exporter": "python",
   "pygments_lexer": "ipython3",
   "version": "3.11.4"
  }
 },
 "nbformat": 4,
 "nbformat_minor": 2
}
