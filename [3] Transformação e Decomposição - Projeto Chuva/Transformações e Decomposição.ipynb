{
 "cells": [
  {
   "cell_type": "markdown",
   "metadata": {},
   "source": [
    "<h1  align=\"center\"><b> TRANSFORMAÇÃO E DECOMPOSIÇÃO </b></h1>\n",
    "\n",
    "`Objetivo Geral:` Importar a série temporal tratada dos dados pluviométricos do município de São Paulo e realizar as transformações (em busca de estacionalidade e normalidade) e decomposição (em tendência, sazonalidade e resíduo)\n",
    "\n",
    "`Dados:` Os dados foram tratados e extraídos na pasta [Tratamento de Dados do Projeto Chuva](../[2]%20Tratamento%20de%20Dados%20-%20Projeto%20Chuva/). "
   ]
  },
  {
   "cell_type": "code",
   "execution_count": 5,
   "metadata": {},
   "outputs": [],
   "source": [
    "import numpy as np\n",
    "import pandas as pd\n",
    "import matplotlib.pyplot as plt\n",
    "\n",
    "from matplotlib.pylab import rcParams\n",
    "rcParams['figure.figsize'] = 15, 6"
   ]
  },
  {
   "cell_type": "markdown",
   "metadata": {},
   "source": [
    "<h2 align=\"center\"><b> Importação e Decomposição </b></h2>"
   ]
  },
  {
   "cell_type": "code",
   "execution_count": 6,
   "metadata": {},
   "outputs": [],
   "source": [
    "série_chuva = pd.read_csv('./Série Tratada - Chuva Mensal.csv', sep = ';', index_col = 0)\n",
    "série_chuva = pd.Series(série_chuva['0'], index = série_chuva.index, name = 'Chuva(mm)')"
   ]
  },
  {
   "cell_type": "code",
   "execution_count": 8,
   "metadata": {},
   "outputs": [],
   "source": [
    "from statsmodels.tsa.seasonal import seasonal_decompose\n",
    "decomposição = seasonal_decompose(série_chuva, model = 'additive', period = 12)"
   ]
  },
  {
   "cell_type": "markdown",
   "metadata": {},
   "source": [
    "![decomposição](./Gráficos/Decomposição.png)"
   ]
  },
  {
   "cell_type": "markdown",
   "metadata": {},
   "source": [
    "<h2 align=\"center\"><b> Normalidade </b></h2>"
   ]
  },
  {
   "cell_type": "code",
   "execution_count": 9,
   "metadata": {},
   "outputs": [],
   "source": [
    "import scipy.stats as stats"
   ]
  },
  {
   "cell_type": "code",
   "execution_count": null,
   "metadata": {},
   "outputs": [],
   "source": [
    "stats.probplot(série_chuva, dist = 'norm', plot = plt)\n",
    "plt.title('Normal QQ Plot')\n",
    "plt.show()"
   ]
  },
  {
   "cell_type": "markdown",
   "metadata": {},
   "source": [
    "![Normal QQ Plot](./Gráficos/Normal%20QQ%20Plot.png)\n",
    "\n",
    "### `Teste Shapiro-Wilk`\n",
    "&emsp;&emsp; O Teste de Shapiro-Wilk é uma ferramenta estatística utilizada para verificar se uma amostra de dados segue uma distribuição normal. O teste retorna um valor p, se esse valor for maior que o nível de significância (geralmente 0,05), dizemos que a distribuição é normal.\n",
    "\n",
    "&emsp;&emsp; No caso da série temporal não ser normal, convém tentar realizar uma transformação para que ela se aproxime de uma distribuição normal, pois isso facilita a análise e a modelagem. As transformações mais comuns são a transformação logarítmica e a transformação por raiz cúbica."
   ]
  },
  {
   "cell_type": "code",
   "execution_count": 17,
   "metadata": {},
   "outputs": [
    {
     "name": "stdout",
     "output_type": "stream",
     "text": [
      "Estatística de teste = 0.9242801666259766\n",
      "p-valor = 2.1469944013830303e-14\n",
      "Resultado: Não é Normal\n"
     ]
    }
   ],
   "source": [
    "def teste_shapiro(série):\n",
    "    e, p = stats.shapiro(série)\n",
    "    print(f'Estatística de Teste = {e}')\n",
    "    print(f'p-valor = {p}')\n",
    "    print(f'Resultado: {\"É Normal\" if (p > 0.05) else \"Não é Normal\"}')\n",
    "\n",
    "teste_shapiro(série_chuva)"
   ]
  },
  {
   "cell_type": "markdown",
   "metadata": {},
   "source": [
    "`Transformação Logarítmica:` Não é possível realizar a transformação logarítmica, pois a série possui valores iguais a zero. Caso fosse possível, a transformação logarítmica seria realizada da seguinte forma: "
   ]
  },
  {
   "cell_type": "code",
   "execution_count": 20,
   "metadata": {},
   "outputs": [],
   "source": [
    "série_chuva_log = np.log(série_chuva)"
   ]
  },
  {
   "cell_type": "markdown",
   "metadata": {},
   "source": [
    "`Transformação por Raiz Cúbica:` A transformação por raiz cúbica não vai resolver completamente o problema de normalidade, mas vai melhorar significativamente a distribuição dos dados. Podemos realizar a transformação por raiz cúbica da seguinte forma:"
   ]
  },
  {
   "cell_type": "code",
   "execution_count": 22,
   "metadata": {},
   "outputs": [
    {
     "name": "stdout",
     "output_type": "stream",
     "text": [
      "Estatística de teste = 0.9843666553497314\n",
      "p-valor = 7.994796033017337e-05\n",
      "Resultado: Não é Normal\n"
     ]
    }
   ],
   "source": [
    "série_chuva_cub = série_chuva ** (1/3)\n",
    "teste_shapiro(série_chuva_cub)"
   ]
  },
  {
   "cell_type": "markdown",
   "metadata": {},
   "source": [
    "![Normal QQ Plot - Transformação por Raiz Cúbica](./Gráficos/Normal%20QQ%20Plot%20-%20Transformação%20por%20Raiz%20Cúbica.png)"
   ]
  }
 ],
 "metadata": {
  "kernelspec": {
   "display_name": "Python 3",
   "language": "python",
   "name": "python3"
  },
  "language_info": {
   "codemirror_mode": {
    "name": "ipython",
    "version": 3
   },
   "file_extension": ".py",
   "mimetype": "text/x-python",
   "name": "python",
   "nbconvert_exporter": "python",
   "pygments_lexer": "ipython3",
   "version": "3.11.4"
  }
 },
 "nbformat": 4,
 "nbformat_minor": 2
}
